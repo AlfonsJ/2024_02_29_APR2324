{
 "cells": [
  {
   "cell_type": "code",
   "execution_count": 34,
   "metadata": {},
   "outputs": [
    {
     "name": "stdout",
     "output_type": "stream",
     "text": [
      "z = [ 0.5 -2. ]\n",
      "h.T = [0.62245933 0.11920292]\n",
      "haty = [-0.31448607  1.43043259 -0.93043259]\n",
      "loss = 0.8995880018881133\n",
      "J_haty = [0.68551393 0.43043259 1.06956741]\n",
      "J_V = [[0.42670454 0.26792678 0.66576222]\n",
      " [0.08171526 0.05130882 0.12749556]]\n",
      "J_h = [-1.3478383  0.0463791]\n",
      "J_z = [-0.52222752  0.00526633]\n",
      "J_W = [[-0.52222752  0.00526633]\n",
      " [ 0.          0.        ]\n",
      " [-1.04445505  0.01053266]]\n",
      "V = [[-1.92670454  0.91828474]\n",
      " [ 0.23207322  0.94869118]\n",
      " [-1.16576222 -1.12749556]]\n",
      "W = [[-0.97777248 -1.          1.54445505]\n",
      " [ 0.99473367  1.         -0.51053266]]\n"
     ]
    }
   ],
   "source": [
    "import numpy as np;\n",
    "sigmoid = lambda x: 1.0 / (1.0 + np.exp(-x));\n",
    "x = np.array([1, 0, 2]); y = np.array([-1, 1, -2])\n",
    "W = np.array([[-1.5, -1, 0.5], [1, 1, -0.5]])\n",
    "b1 = np.array([1, -2])\n",
    "V = np.array([[-1.5, 1], [0.5, 1], [-0.5, -1]])\n",
    "b2 = np.array([0.5, 1, -0.5])\n",
    "z = (W @ x + b1); print(\"z =\", z)\n",
    "h = sigmoid(z); print(\"h.T =\", h.T)\n",
    "haty = V @ h + b2; print(\"haty =\", haty)\n",
    "loss = .5 * np.square(y-haty).sum(); print(\"loss =\", loss)\n",
    "J_haty = haty-y; print(\"J_haty =\", J_haty)\n",
    "J_V = h.reshape(-1, 1) @ J_haty.reshape(1, -1)\n",
    "print(\"J_V =\", J_V)\n",
    "J_h = J_haty @ V; print(\"J_h =\", J_h)\n",
    "J_z = J_h * sigmoid(z) * sigmoid(1-z); print(\"J_z =\", J_z)\n",
    "J_W = x.reshape(-1, 1) @ J_z.reshape(1, -1)\n",
    "print(\"J_W =\", J_W)\n",
    "V = V - 1.0 * J_V.T; print(\"V =\", V)\n",
    "W = W - 1.0 * J_W.T; print(\"W =\", W)"
   ]
  }
 ],
 "metadata": {
  "kernelspec": {
   "display_name": "Python 3",
   "language": "python",
   "name": "python3"
  },
  "language_info": {
   "codemirror_mode": {
    "name": "ipython",
    "version": 3
   },
   "file_extension": ".py",
   "mimetype": "text/x-python",
   "name": "python",
   "nbconvert_exporter": "python",
   "pygments_lexer": "ipython3",
   "version": "3.11.4"
  }
 },
 "nbformat": 4,
 "nbformat_minor": 2
}
