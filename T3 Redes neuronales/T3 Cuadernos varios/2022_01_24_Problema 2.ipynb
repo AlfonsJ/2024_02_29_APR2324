{
 "cells": [
  {
   "cell_type": "markdown",
   "metadata": {},
   "source": [
    "$$\\theta_1=\\theta_2=\\theta_3=\\theta_4=\\theta_5=1$$\n",
    "$$\\begin{align*}\n",
    "\\boldsymbol{x}&=\\ldots%\n",
    "&&(0,1)^t\\\\%\n",
    "y&=\\ldots%\n",
    "&&1\\\\\\hline\n",
    "% FORWARD\n",
    "\\phi_1^1&=\\theta_1+\\theta_2x_2%\n",
    "&&\\\\\n",
    "s_1^1&=\\sigma(\\phi_1^1)%\n",
    "&&\\\\\n",
    "\\phi_1^2&=\\theta_4+\\theta_3x_1+\\theta_5s_1^1%\n",
    "&&\\\\\n",
    "s_1^2&=\\phi_1^2%\n",
    "&&\\\\\n",
    "\\mathcal{L}&=\\frac{1}{2}(y-s_1^2)^2%\n",
    "&&\\\\\\hline%\n",
    "% BACKWARD\n",
    "u&=\\dfrac{d\\mathcal{L}}{ds_1^2}=s_1^2-y%\n",
    "&&\\\\\n",
    "\\end{align*}$$"
   ]
  }
 ],
 "metadata": {
  "kernelspec": {
   "display_name": "Python 3",
   "language": "python",
   "name": "python3"
  },
  "language_info": {
   "codemirror_mode": {
    "name": "ipython",
    "version": 3
   },
   "file_extension": ".py",
   "mimetype": "text/x-python",
   "name": "python",
   "nbconvert_exporter": "python",
   "pygments_lexer": "ipython3",
   "version": "3.11.4"
  },
  "orig_nbformat": 4
 },
 "nbformat": 4,
 "nbformat_minor": 2
}
