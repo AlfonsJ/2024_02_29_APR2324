{
 "cells": [
  {
   "cell_type": "markdown",
   "metadata": {},
   "source": [
    "**Capa oculta:** $\\quad\\boldsymbol{z}=\\mathbf{W}\\boldsymbol{x}+\\boldsymbol{b}_1\\quad$ seguido de $\\quad\\boldsymbol{h}=\\boldsymbol{\\sigma}(\\boldsymbol{z})$\n",
    "$$\\mathbf{W}=\\begin{pmatrix}1&1\\\\-1&-1\\\\1&1\\end{pmatrix}\\qquad\\boldsymbol{b}_1=\\begin{pmatrix}1\\\\-1\\\\1\\end{pmatrix}$$\n",
    "\n",
    "**Capa de salida:** $\\quad\\boldsymbol{a}=\\mathbf{V}\\boldsymbol{h}+\\boldsymbol{b}_2\\quad$ seguido de $\\quad\\hat{\\boldsymbol{y}}=\\boldsymbol{\\sigma}(\\boldsymbol{a})$\n",
    "$$\\mathbf{V}=\\begin{pmatrix}1&1&1\\\\-1&-1&-1\\end{pmatrix}\\qquad\\boldsymbol{b}_2=\\begin{pmatrix}1\\\\-1\\end{pmatrix}$$\n",
    "\n",
    "**Pérdida cuadrática (para un par entrada salida):** $\\quad\\mathcal{L}=\\frac{1}{2}\\lVert\\boldsymbol{y}-\\hat{\\boldsymbol{y}}\\rVert_2^2$\n",
    "\n",
    "**Par entrada-salida:** $\\quad\\boldsymbol{x}=(1,1)^t\\qquad\\boldsymbol{y}=(0.1,0.9)^t$\n",
    "\n",
    "**Forward:** $\\;$ pre-activaciones, activaciones y pérdida"
   ]
  },
  {
   "cell_type": "code",
   "execution_count": 1,
   "metadata": {},
   "outputs": [
    {
     "name": "stdout",
     "output_type": "stream",
     "text": [
      "z = [ 3 -3  3]\n",
      "h = [0.9526 0.0474 0.9526]\n",
      "a = [ 2.9526 -2.9526]\n",
      "haty = [0.9504 0.0496]\n",
      "loss = 0.0025\n"
     ]
    }
   ],
   "source": [
    "import numpy as np; np.set_printoptions(precision=4)\n",
    "sigmoid = lambda x: 1.0 / (1.0 + np.exp(-x));\n",
    "x = np.array([1, 1]); y = np.array([1, 0])\n",
    "W = np.array([[1, 1], [-1, -1], [1, 1]]); b1 = np.array([1, -1, 1])\n",
    "V = np.array([[1, 1, 1], [-1, -1, -1]]); b2 = np.array([1, -1])\n",
    "z = (W @ x + b1); print(\"z =\", z)\n",
    "h = sigmoid(z); print(\"h =\", h)\n",
    "a = V @ h + b2; print(\"a =\", a)\n",
    "haty = sigmoid(a); print(\"haty =\", haty)\n",
    "loss = .5 * np.square(y-haty).sum(); print(\"loss =\", round(loss, 4))"
   ]
  },
  {
   "cell_type": "markdown",
   "metadata": {},
   "source": [
    "**Backward:** $\\;$ Jacobianas de la pérdida con respecto a activaciones, pre-activaciones y parámetros\n",
    "$$\\begin{align*}\n",
    "\\boldsymbol{u}^t&=\\dfrac{\\partial\\mathcal{L}}{\\partial\\hat{\\boldsymbol{y}}}=(\\hat{\\boldsymbol{y}}-\\boldsymbol{y})^t\\\\\n",
    "\\boldsymbol{u}^t&=\\boldsymbol{u}^t\\dfrac{\\partial\\hat{\\boldsymbol{y}}}{\\partial\\boldsymbol{a}}=\\boldsymbol{u}^t\\operatorname{diag}(\\boldsymbol{\\sigma}'(\\boldsymbol{a}))\\\\\n",
    "\\boldsymbol{g}_{\\mathbf{V}}&=\\boldsymbol{u}^t\\dfrac{\\partial\\boldsymbol{a}}{\\partial\\mathbf{V}}=\\boldsymbol{h}\\boldsymbol{u}^t\\\\\n",
    "\\boldsymbol{g}_{\\boldsymbol{b}_2}&=\\boldsymbol{u}^t\\dfrac{\\partial\\boldsymbol{a}}{\\partial\\boldsymbol{b}_2}=\\boldsymbol{u}^t\n",
    "\\end{align*}$$\n",
    "\n",
    "\n",
    "* *Predicción (activación de la capa de salida):* $\\quad\\boldsymbol{u}^t=\\dfrac{\\partial\\mathcal{L}}{\\partial\\hat{\\boldsymbol{y}}}=(\\hat{\\boldsymbol{y}}-\\boldsymbol{y})^t$\n",
    "* *Pre-activación de la capa de salida:* $\\quad\\boldsymbol{u}^t=\\boldsymbol{u}^t\\dfrac{\\partial\\hat{\\boldsymbol{y}}}{\\partial\\boldsymbol{a}}=\\boldsymbol{u}^t\\operatorname{diag}(\\boldsymbol{\\sigma}'(\\boldsymbol{a}))$\n",
    "* *Parámetros de la capa de salida:* $\\quad\\boldsymbol{g}_{\\mathbf{V}}=\\boldsymbol{u}^t\\dfrac{\\partial\\boldsymbol{a}}{\\partial\\mathbf{V}}=\\boldsymbol{h}\\boldsymbol{u}^t\\quad\\boldsymbol{g}_{\\boldsymbol{b}_2}=\\boldsymbol{u}^t\\dfrac{\\partial\\boldsymbol{a}}{\\partial\\boldsymbol{b}_2}=\\boldsymbol{u}^t$\n",
    "* *Activación de la capa oculta:* $\\quad\\boldsymbol{u}^t=\\boldsymbol{u}^t\\dfrac{\\partial\\boldsymbol{a}}{\\partial\\boldsymbol{h}}=\\boldsymbol{u}^t\\mathbf{V}$\n",
    "* *Pre-activación de la capa de oculta:* $\\quad\\boldsymbol{u}^t=\\boldsymbol{u}^t\\dfrac{\\partial\\boldsymbol{h}}{\\partial\\boldsymbol{z}}=\\boldsymbol{u}^t\\operatorname{diag}(\\boldsymbol{\\sigma}'(\\boldsymbol{z}))$\n",
    "* *Parámetros de la capa de oculta:* $\\quad\\boldsymbol{g}_{\\mathbf{W}}=\\boldsymbol{u}^t\\dfrac{\\partial\\boldsymbol{z}}{\\partial\\mathbf{W}}=\\boldsymbol{x}\\boldsymbol{u}^t\\quad\\boldsymbol{g}_{\\boldsymbol{b}_1}=\\boldsymbol{u}^t\\dfrac{\\partial\\boldsymbol{z}}{\\partial\\boldsymbol{b}_1}=\\boldsymbol{u}^t$"
   ]
  },
  {
   "cell_type": "code",
   "execution_count": 2,
   "metadata": {},
   "outputs": [
    {
     "name": "stdout",
     "output_type": "stream",
     "text": [
      "J_haty = [-0.0496  0.0496]\n",
      "J_a = [-0.0023  0.0023]\n",
      "J_V = [[-0.0022  0.0022]\n",
      " [-0.0001  0.0001]\n",
      " [-0.0022  0.0022]]\n",
      "J_b2 = [-0.0023  0.0023]\n",
      "J_h = [-0.0047 -0.0047 -0.0047]\n",
      "J_z = [-0.0002 -0.0002 -0.0002]\n",
      "J_W = [[-0.0002 -0.0002 -0.0002]\n",
      " [-0.0002 -0.0002 -0.0002]]\n",
      "J_b1 = [-0.0002 -0.0002 -0.0002]\n"
     ]
    }
   ],
   "source": [
    "J_haty = haty-y;                         print(\"J_haty =\", J_haty)\n",
    "J_a = J_haty * sigmoid(a) * sigmoid(-a); print(\"J_a =\", J_a)\n",
    "J_V = np.outer(h, J_a);                  print(\"J_V =\", J_V)\n",
    "J_b2 = J_a;                              print(\"J_b2 =\", J_b2)\n",
    "J_h = J_a @ V;                           print(\"J_h =\", J_h)\n",
    "J_z = J_h * sigmoid(z) * sigmoid(-z);    print(\"J_z =\", J_z)\n",
    "J_W = np.outer(x, J_z);                  print(\"J_W =\", J_W)\n",
    "J_b1 = J_z;                              print(\"J_b1 =\", J_b1);"
   ]
  },
  {
   "cell_type": "markdown",
   "metadata": {},
   "source": [
    "**Actualización de parámetros:** $\\quad\\mathbf{V}=\\mathbf{V}-\\rho\\boldsymbol{g}_{\\mathbf{V}}^t\\qquad\\boldsymbol{b}_2=\\boldsymbol{b}_2-\\eta\\boldsymbol{g}_{\\boldsymbol{b}_2}^t\\qquad\\mathbf{W}=\\mathbf{W}-\\eta\\boldsymbol{g}_{\\mathbf{W}}^t\\qquad\\boldsymbol{b}_1=\\boldsymbol{b}_1-\\eta\\boldsymbol{g}_{\\boldsymbol{b}_1}^t$\n"
   ]
  },
  {
   "cell_type": "code",
   "execution_count": 4,
   "metadata": {},
   "outputs": [
    {
     "name": "stdout",
     "output_type": "stream",
     "text": [
      "W = [[ 1.0004  1.0004]\n",
      " [-0.9996 -0.9996]\n",
      " [ 1.0004  1.0004]]\n",
      "b1 = [ 1.0004 -0.9996  1.0004]\n",
      "V = [[ 1.0045  1.0002  1.0045]\n",
      " [-1.0045 -1.0002 -1.0045]]\n",
      "b2 = [ 1.0047 -1.0047]\n"
     ]
    }
   ],
   "source": [
    "W  = W  - 1.0 * J_W.T; print(\"W =\", W)\n",
    "b1 = b1 - 1.0 * J_b1;  print(\"b1 =\", b1)\n",
    "V  = V  - 1.0 * J_V.T; print(\"V =\", V)\n",
    "b2 = b2 - 1.0 * J_b2;  print(\"b2 =\", b2)"
   ]
  }
 ],
 "metadata": {
  "kernelspec": {
   "display_name": "Python 3",
   "language": "python",
   "name": "python3"
  },
  "language_info": {
   "codemirror_mode": {
    "name": "ipython",
    "version": 3
   },
   "file_extension": ".py",
   "mimetype": "text/x-python",
   "name": "python",
   "nbconvert_exporter": "python",
   "pygments_lexer": "ipython3",
   "version": "3.10.12"
  },
  "orig_nbformat": 4
 },
 "nbformat": 4,
 "nbformat_minor": 2
}
