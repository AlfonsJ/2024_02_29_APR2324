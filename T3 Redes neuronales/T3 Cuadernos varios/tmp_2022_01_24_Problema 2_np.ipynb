{
 "cells": [
  {
   "cell_type": "code",
   "execution_count": 17,
   "metadata": {},
   "outputs": [
    {
     "name": "stdout",
     "output_type": "stream",
     "text": [
      "phi11 = 2.0\n",
      "s11 = 0.8808\n",
      "phi12 = 1.8808\n",
      "s12 =  1.8808\n",
      "loss = 0.3879\n",
      "J_s12 = 0.8808\n",
      "J_phi12 = 0.8808\n",
      "J_t4 =  0.8808\n",
      "J_t3 = 0.0\n",
      "J_t5 = 0.7758\n",
      "J_s11 = 0.8808\n",
      "J_phi11 =  0.0925\n",
      "J_t1 = 0.0925\n",
      "J_t2 = 0.0925\n",
      "t1 = 0.9075\n",
      "t2 = 0.9075\n",
      "t3 = 1.0\n",
      "t4 = 0.1192\n",
      "t5 = 0.2242\n"
     ]
    }
   ],
   "source": [
    "import numpy as np; np.set_printoptions(precision=4)\n",
    "sigmoid = lambda x: 1.0 / (1.0 + np.exp(-x));\n",
    "x = np.array([0, 1]); y = 1.\n",
    "t1 = t2 = t3 = t4 = t5 = 1.\n",
    "phi11 = t1 + t2 * x[1]; print(\"phi11 =\", round(phi11, 4))\n",
    "s11 = sigmoid(phi11); print(\"s11 =\", round(s11, 4))\n",
    "phi12 = t4 + t3 * x[0] + t5 * s11; print(\"phi12 =\", round(phi12, 4))\n",
    "s12 = phi12; print(\"s12 = \", round(s12, 4))\n",
    "loss = .5 *  np.square(y - s12); print(\"loss =\", round(loss, 4))\n",
    "J_s12 = s12 - y; print(\"J_s12 =\", round(J_s12, 4))\n",
    "J_phi12 = J_s12; print(\"J_phi12 =\", round(J_phi12, 4))\n",
    "J_t4 = J_phi12; print(\"J_t4 = \", round(J_t4, 4))\n",
    "J_t3 = J_phi12 * x[0]; print(\"J_t3 =\", round(J_t3, 4))\n",
    "J_t5 = J_phi12 * s11; print(\"J_t5 =\", round(J_t5, 4))\n",
    "J_s11 = J_phi12 * t5; print(\"J_s11 =\", round(J_s11, 4))\n",
    "J_phi11 = J_s11 * sigmoid(phi11) * sigmoid(-phi11)\n",
    "print(\"J_phi11 = \", round(J_phi11, 4))\n",
    "J_t1 = J_phi11; print(\"J_t1 =\", round(J_t1, 4))\n",
    "J_t2 = J_phi11 * x[1];  print(\"J_t2 =\", round(J_t2, 4))\n",
    "t1 -= J_t1; print(\"t1 =\", round(t1, 4))\n",
    "t2 -= J_t2; print(\"t2 =\", round(t2, 4))\n",
    "t3 -= J_t3; print(\"t3 =\", round(t3, 4))\n",
    "t4 -= J_t4; print(\"t4 =\", round(t4, 4))\n",
    "t5 -= J_t5; print(\"t5 =\", round(t5, 4))"
   ]
  }
 ],
 "metadata": {
  "kernelspec": {
   "display_name": "Python 3",
   "language": "python",
   "name": "python3"
  },
  "language_info": {
   "codemirror_mode": {
    "name": "ipython",
    "version": 3
   },
   "file_extension": ".py",
   "mimetype": "text/x-python",
   "name": "python",
   "nbconvert_exporter": "python",
   "pygments_lexer": "ipython3",
   "version": "3.10.12"
  }
 },
 "nbformat": 4,
 "nbformat_minor": 2
}
