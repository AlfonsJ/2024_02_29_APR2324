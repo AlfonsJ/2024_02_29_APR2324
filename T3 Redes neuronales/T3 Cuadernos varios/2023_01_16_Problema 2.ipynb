{
 "cells": [
  {
   "cell_type": "markdown",
   "metadata": {},
   "source": [
    "# 2023_01_16_Problema 2"
   ]
  },
  {
   "cell_type": "markdown",
   "metadata": {},
   "source": [
    "<div><table border-collapse: collapse><tr>\n",
    "<td style=\"border: none; text-align:left; vertical-align:top; padding:0; margin:0;\" width=500>\n",
    "\n",
    "En la red de la figura, para un resolver un problema de regresión, se utilizan funciones de activación de tipo **sigmoid** en los nodos de la capa de salida y de la capa oculta y como factor de aprendizaje\n",
    "se ha escogido $\\rho=1.0$.\n",
    "\n",
    "Dados los pesos iniciales indicados en la figura, un vector de entrada $\\boldsymbol{x}^t=(1,1)$ y su valor deseado de salida $t=(0.1,0.9)$, calcula:\n",
    "1. Las salidas de todas las unidades.\n",
    "2. Los correspondientes errores en los nodos de la capa de salida y en los de la capa oculta.\n",
    "3. Los nuevos valores de los pesos de las conexiones al nodo 2 de la capa oculta.\n",
    "\n",
    "</td><td style=\"border: none; padding:0; margin:0;\" width=50><br></td>\n",
    "<td style=\"border: none; text-align:right; vertical-align:top; padding:0; margin:0;\" width=500>\n",
    "\n",
    "<img src=\"2023_01_16_Problema 2.png\" width=500>\n",
    "\n",
    "</td></tr></table></div>"
   ]
  },
  {
   "cell_type": "markdown",
   "metadata": {},
   "source": [
    "## Solución\n",
    "$$\\begin{align*}\n",
    "\\phi^1_1&=\\theta^{1}_{10}+\\theta^{1}_{11}x_1+\\theta^{1}_{12}x_2=3\\\\%\n",
    "s^1_1&=\\sigma(\\phi^1_1)=0.953\\\\%\n",
    "\\phi^1_2&=\\theta^{1}_{20}+\\theta^{1}_{21}x_1+\\theta^{1}_{22}x_2=-1\\\\%\n",
    "s^1_2&=\\sigma(\\phi^1_2)=0.269\\\\%\n",
    "\\phi^2_1&=\\theta^{2}_{10}+\\theta^{2}_{11}s^1_1+\\theta^{2}_{12}s^1_2=2.221\\\\%\n",
    "s^2_1&=\\sigma(\\phi^2_1)=0.902\\\\%\n",
    "\\phi^2_2&=\\theta^{2}_{20}+\\theta^{2}_{21}s^1_1+\\theta^{2}_{22}s^1_2=-0.222\\\\%\n",
    "s^2_2&=\\sigma(\\phi^2_2)=0.445\\\\%\n",
    "\\delta^2_1&=(t_1-s^2_1)s^2_1(1-s^2_1)=-0.0708\\\\%\n",
    "\\delta^2_2&=(t_2-s^2_2)s^2_2(1-s^2_2)=0.1124\\\\%\n",
    "\\delta^1_1&=(\\delta^2_1\\theta^{2}_{11}+\\delta^2_2\\theta^{2}_{21})s^1_1(1-s^1_1)=-0.0082\\\\%\n",
    "\\delta^1_2&=(\\delta^2_1\\theta^{2}_{12}+\\delta^2_2\\theta^{2}_{22})s^1_2(1-s^1_2)=-0.0360\\\\%\n",
    "\\theta^{1}_{20}&=\\theta^{1}_{20}+\\rho\\delta^1_2\\cdot 1=0.964\\\\\n",
    "\\theta^{1}_{21}&=\\theta^{1}_{21}+\\rho\\delta^1_2~x_1=-1.036\\\\\n",
    "\\theta^{1}_{22}&=\\theta^{1}_{22}+\\rho\\delta^1_2~x_2=-1.036\n",
    "\\end{align*}$$"
   ]
  },
  {
   "cell_type": "markdown",
   "metadata": {},
   "source": [
    "## Solución con notación matricial\n",
    "\n",
    "**Capa oculta:** $\\qquad\\boldsymbol{h}=\\boldsymbol{\\sigma}(\\boldsymbol{z})\\qquad$ con $\\qquad\\boldsymbol{z}=\\mathbf{W}\\boldsymbol{x}+\\boldsymbol{b}_1\\qquad\\mathbf{W}=\\begin{pmatrix}1&1\\\\-1&-1\\end{pmatrix}\\qquad\\boldsymbol{b}_1=\\begin{pmatrix}1\\\\1\\end{pmatrix}$\n",
    "\n",
    "**Capa de salida:** $\\qquad\\hat{\\boldsymbol{y}}=\\boldsymbol{\\sigma}(\\boldsymbol{a})\\qquad$ con $\\qquad\\boldsymbol{a}=\\mathbf{V}\\boldsymbol{h}+\\boldsymbol{b}_2\\qquad\\mathbf{V}=\\begin{pmatrix}1&1\\\\-1&-1\\end{pmatrix}\\qquad\\boldsymbol{b}_2=\\begin{pmatrix}1\\\\1\\end{pmatrix}$\n",
    "\n",
    "**Pérdida cuadrática:** $\\qquad\\mathcal{L}=\\frac{1}{2}\\lVert\\boldsymbol{y}-\\hat{\\boldsymbol{y}}\\rVert_2^2\\qquad$ para $\\qquad\\boldsymbol{x}=(1,1)^t\\qquad\\boldsymbol{y}=(0.1,0.9)^t$\n",
    "\n",
    "**Forward:** $\\;$ pre-activaciones, activaciones y pérdida"
   ]
  },
  {
   "cell_type": "code",
   "execution_count": 1,
   "metadata": {},
   "outputs": [
    {
     "name": "stdout",
     "output_type": "stream",
     "text": [
      "z = [ 3 -1]\n",
      "h = [0.9526 0.2689]\n",
      "a = [ 2.2215 -0.2215]\n",
      "haty = [0.9022 0.4448]\n",
      "loss = 0.4253\n"
     ]
    }
   ],
   "source": [
    "import numpy as np; np.set_printoptions(precision=4)\n",
    "sigmoid = lambda x: 1.0 / (1.0 + np.exp(-x));\n",
    "x = np.array([1, 1]); y = np.array([0.1, 0.9])\n",
    "W = np.array([[1, 1], [-1, -1]]); b1 = np.array([1, 1])\n",
    "V = np.array([[1, 1], [-1, -1]]); b2 = np.array([1, 1])\n",
    "z = (W @ x + b1);                    print(\"z =\", z)\n",
    "h = sigmoid(z);                      print(\"h =\", h)\n",
    "a = V @ h + b2;                      print(\"a =\", a)\n",
    "haty = sigmoid(a);                   print(\"haty =\", haty)\n",
    "loss = .5 * np.square(y-haty).sum(); print(\"loss =\", round(loss, 4))"
   ]
  },
  {
   "cell_type": "markdown",
   "metadata": {},
   "source": [
    "**Backward:** $\\;$ Jacobianas de la pérdida con respecto a $\\ldots$\n",
    "$$\\begin{align*}\n",
    "\\boldsymbol{u}^t=&\\dfrac{\\partial\\mathcal{L}}{\\partial\\hat{\\boldsymbol{y}}}=(\\hat{\\boldsymbol{y}}-\\boldsymbol{y})^t\n",
    "&&\\text{la predicción (activación de la capa de salida)}\\\\\n",
    "\\boldsymbol{u}^t=\\boldsymbol{u}^t&\\dfrac{\\partial\\hat{\\boldsymbol{y}}}{\\partial\\boldsymbol{a}}=\\boldsymbol{u}^t\\operatorname{diag}(\\boldsymbol{\\sigma}'(\\boldsymbol{a}))\n",
    "&&\\text{la pre-activación de la capa de salida}\\\\\n",
    "\\boldsymbol{g}_{\\mathbf{V}}=\\boldsymbol{u}^t&\\dfrac{\\partial\\boldsymbol{a}}{\\partial\\mathbf{V}}=\\boldsymbol{h}\\boldsymbol{u}^t\n",
    "&&\\text{la transformación lineal de la capa de salida}\\\\\n",
    "\\boldsymbol{g}_{\\boldsymbol{b}_2}=\\boldsymbol{u}^t&\\dfrac{\\partial\\boldsymbol{a}}{\\partial\\boldsymbol{b}_2}=\\boldsymbol{u}^t\n",
    "&&\\text{el sesgo de la capa de salida}\\\\\n",
    "\\boldsymbol{u}^t=\\boldsymbol{u}^t&\\dfrac{\\partial\\boldsymbol{a}}{\\partial\\boldsymbol{h}}=\\boldsymbol{u}^t\\mathbf{V}\n",
    "&&\\text{la activación de la capa oculta}\\\\\n",
    "\\boldsymbol{u}^t=\\boldsymbol{u}^t&\\dfrac{\\partial\\boldsymbol{h}}{\\partial\\boldsymbol{z}}=\\boldsymbol{u}^t\\operatorname{diag}(\\boldsymbol{\\sigma}'(\\boldsymbol{z}))\n",
    "&&\\text{la pre-activación de la capa oculta}\\\\\n",
    "\\boldsymbol{g}_{\\mathbf{W}}=\\boldsymbol{u}^t&\\dfrac{\\partial\\boldsymbol{z}}{\\partial\\mathbf{W}}=\\boldsymbol{x}\\boldsymbol{u}^t\n",
    "&&\\text{la transformación lineal de la capa oculta}\\\\\n",
    "\\boldsymbol{g}_{\\boldsymbol{b}_1}=\\boldsymbol{u}^t&\\dfrac{\\partial\\boldsymbol{z}}{\\partial\\boldsymbol{b}_1}=\\boldsymbol{u}^t\n",
    "&&\\text{el sesgo de la capa oculta}\n",
    "\\end{align*}$$"
   ]
  },
  {
   "cell_type": "code",
   "execution_count": 2,
   "metadata": {},
   "outputs": [
    {
     "name": "stdout",
     "output_type": "stream",
     "text": [
      "J_haty = [ 0.8022 -0.4552]\n",
      "J_a = [ 0.0708 -0.1124]\n",
      "J_V = [[ 0.0674 -0.1071]\n",
      " [ 0.019  -0.0302]]\n",
      "J_b2 = [ 0.0708 -0.1124]\n",
      "J_h = [0.1832 0.1832]\n",
      "J_z = [0.0083 0.036 ]\n",
      "J_W = [[0.0083 0.036 ]\n",
      " [0.0083 0.036 ]]\n",
      "J_b1 = [0.0083 0.036 ]\n"
     ]
    }
   ],
   "source": [
    "J_haty = haty-y;                         print(\"J_haty =\", J_haty)\n",
    "J_a = J_haty * sigmoid(a) * sigmoid(-a); print(\"J_a =\", J_a)\n",
    "J_V = np.outer(h, J_a);                  print(\"J_V =\", J_V)\n",
    "J_b2 = J_a;                              print(\"J_b2 =\", J_b2)\n",
    "J_h = J_a @ V;                           print(\"J_h =\", J_h)\n",
    "J_z = J_h * sigmoid(z) * sigmoid(-z);    print(\"J_z =\", J_z)\n",
    "J_W = np.outer(x, J_z);                  print(\"J_W =\", J_W)\n",
    "J_b1 = J_z;                              print(\"J_b1 =\", J_b1);"
   ]
  },
  {
   "cell_type": "markdown",
   "metadata": {},
   "source": [
    "**Actualización de parámetros:** $\\quad\\boldsymbol{\\theta}=\\boldsymbol{\\theta}-\\rho\\boldsymbol{g}_{\\boldsymbol{\\theta}}^t$"
   ]
  },
  {
   "cell_type": "code",
   "execution_count": 3,
   "metadata": {},
   "outputs": [
    {
     "name": "stdout",
     "output_type": "stream",
     "text": [
      "V = [[ 0.9326  0.981 ]\n",
      " [-0.8929 -0.9698]]\n",
      "b2 = [0.9292 1.1124]\n",
      "W = [[ 0.9917  0.9917]\n",
      " [-1.036  -1.036 ]]\n",
      "b1 = [0.9917 0.964 ]\n"
     ]
    }
   ],
   "source": [
    "V  = V  - 1.0 * J_V.T; print(\"V =\", V)\n",
    "b2 = b2 - 1.0 * J_b2;  print(\"b2 =\", b2)\n",
    "W  = W  - 1.0 * J_W.T; print(\"W =\", W)\n",
    "b1 = b1 - 1.0 * J_b1;  print(\"b1 =\", b1)"
   ]
  }
 ],
 "metadata": {
  "kernelspec": {
   "display_name": "Python 3",
   "language": "python",
   "name": "python3"
  },
  "language_info": {
   "codemirror_mode": {
    "name": "ipython",
    "version": 3
   },
   "file_extension": ".py",
   "mimetype": "text/x-python",
   "name": "python",
   "nbconvert_exporter": "python",
   "pygments_lexer": "ipython3",
   "version": "3.11.4"
  },
  "orig_nbformat": 4
 },
 "nbformat": 4,
 "nbformat_minor": 2
}
