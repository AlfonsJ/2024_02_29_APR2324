{
 "cells": [
  {
   "cell_type": "markdown",
   "metadata": {},
   "source": [
    "$$\\begin{align*}\n",
    "\\mathbf{W}&=\\begin{pmatrix}1&1\\\\-1&-1\\end{pmatrix}%\n",
    "&\\boldsymbol{b}_1&=\\begin{pmatrix}1\\\\1\\end{pmatrix}\\\\\n",
    "\\mathbf{V}&=\\begin{pmatrix}1&1\\\\-1&-1\\end{pmatrix}%\n",
    "&\\boldsymbol{b}_2&=\\begin{pmatrix}1\\\\1\\end{pmatrix}\n",
    "\\end{align*}$$\n",
    "$$\\begin{align*}\n",
    "\\boldsymbol{x}&=\\ldots%\n",
    "&&(1,1)^t\\\\%\n",
    "\\boldsymbol{y}&=\\ldots%\n",
    "&&(0.1,0.9)^t\\\\\\hline\n",
    "% FORWARD\n",
    "\\boldsymbol{z}&=\\mathbf{W}\\boldsymbol{x}+\\boldsymbol{b}_1%\n",
    "&&\\textcolor{red}{(3, -1)^t}\\\\\n",
    "\\boldsymbol{h}&=\\boldsymbol{\\sigma}(\\boldsymbol{z})%\n",
    "&&\\textcolor{red}{(0.9526, 0.2689)^t}\\\\\n",
    "\\boldsymbol{a}&=\\mathbf{V}\\boldsymbol{h}+\\boldsymbol{b}_2%\n",
    "&&\\textcolor{red}{(2.2215, -0.2215)^t}\\\\\n",
    "\\hat{\\boldsymbol{y}}&=\\boldsymbol{\\sigma}(\\boldsymbol{a})%\n",
    "&&\\textcolor{red}{(0.9022, 0.4448)^t}\\\\\n",
    "\\mathcal{L}&=\\frac{1}{2}\\lVert\\boldsymbol{y}-\\hat{\\boldsymbol{y}}\\rVert_2^2%\n",
    "&&0.4253\\\\\\hline%\n",
    "% BACKWARD\n",
    "\\boldsymbol{u}^t&=\\dfrac{\\partial\\mathcal{L}}{\\partial\\hat{\\boldsymbol{y}}}=(\\hat{\\boldsymbol{y}}-\\boldsymbol{y})^t%\n",
    "&&(0.8022, -0.4552)\\\\\n",
    "\\boldsymbol{u}^t&=\\boldsymbol{u}^t\\dfrac{\\partial\\hat{\\boldsymbol{y}}}{\\partial\\boldsymbol{a}}=\\boldsymbol{u}^t\\operatorname{diag}(\\boldsymbol{\\sigma}'(\\boldsymbol{a}))%\n",
    "&&\\textcolor{red}{(0.0708, -0.1124)}\\\\\n",
    "\\boldsymbol{g}_{\\mathbf{V}}&=\\boldsymbol{u}^t\\dfrac{\\partial\\boldsymbol{a}}{\\partial\\mathbf{V}}=\\boldsymbol{h}\\boldsymbol{u}^t%\n",
    "&&\\begin{pmatrix}0.0674&-0.1071\\\\0.019&-0.0302\\end{pmatrix}\\\\\n",
    "\\boldsymbol{g}_{\\boldsymbol{b}_2}&=\\boldsymbol{u}^t\\dfrac{\\partial\\boldsymbol{a}}{\\partial\\boldsymbol{b}_2}=\\boldsymbol{u}^t%\n",
    "&&(0.0708, -0.1124)\\\\\n",
    "\\boldsymbol{u}^t&=\\boldsymbol{u}^t\\dfrac{\\partial\\boldsymbol{a}}{\\partial\\boldsymbol{h}}=\\boldsymbol{u}^t\\mathbf{V}%\n",
    "&&(0.1832, 0.1832)\\\\\n",
    "\\boldsymbol{u}^t&=\\boldsymbol{u}^t\\dfrac{\\partial\\boldsymbol{h}}{\\partial\\boldsymbol{z}}=\\boldsymbol{u}^t\\operatorname{diag}(\\boldsymbol{\\sigma}'(\\boldsymbol{z}))%\n",
    "&&\\textcolor{red}{(0.0083, 0.036)}\\\\\n",
    "\\boldsymbol{g}_{\\mathbf{W}}&=\\boldsymbol{u}^t\\dfrac{\\partial\\boldsymbol{z}}{\\partial\\mathbf{W}}=\\boldsymbol{x}\\boldsymbol{u}^t%\n",
    "&&\\begin{pmatrix}0.0208&0.0434\\\\0.0208&0.0434\\end{pmatrix}\\\\\n",
    "\\boldsymbol{g}_{\\boldsymbol{b}_1}&=\\boldsymbol{u}^t\\dfrac{\\partial\\boldsymbol{z}}{\\partial\\boldsymbol{b}_1}=\\boldsymbol{u}^t%\n",
    "&&(0.0208, 0.0434)\\\\\\hline%\n",
    "\\mathbf{V}&=\\mathbf{V}-\\eta\\boldsymbol{g}_{\\mathbf{V}}^t%\n",
    "&&\\begin{pmatrix}0.9326&0.981\\\\-0.8929&-0.9698\\end{pmatrix}\\\\\n",
    "\\boldsymbol{b}_2&=\\boldsymbol{b}_2-\\eta\\boldsymbol{g}_{\\boldsymbol{b}_2}^t%\n",
    "&&(0.9292, 1.1124)^t\\\\\n",
    "\\mathbf{W}&=\\mathbf{W}-\\eta\\boldsymbol{g}_{\\mathbf{W}}^t%\n",
    "&&\\begin{pmatrix}0.9917&0.9917\\\\\\textcolor{red}{-1.036}&\\textcolor{red}{-1.036}\\end{pmatrix}\\\\\n",
    "\\boldsymbol{b}_1&=\\boldsymbol{b}_1-\\eta\\boldsymbol{g}_{\\boldsymbol{b}_1}^t%\n",
    "&&(0.9917, \\textcolor{red}{0.964})^t\n",
    "\\end{align*}$$"
   ]
  }
 ],
 "metadata": {
  "kernelspec": {
   "display_name": "Python 3",
   "language": "python",
   "name": "python3"
  },
  "language_info": {
   "codemirror_mode": {
    "name": "ipython",
    "version": 3
   },
   "file_extension": ".py",
   "mimetype": "text/x-python",
   "name": "python",
   "nbconvert_exporter": "python",
   "pygments_lexer": "ipython3",
   "version": "3.11.4"
  },
  "orig_nbformat": 4
 },
 "nbformat": 4,
 "nbformat_minor": 2
}
