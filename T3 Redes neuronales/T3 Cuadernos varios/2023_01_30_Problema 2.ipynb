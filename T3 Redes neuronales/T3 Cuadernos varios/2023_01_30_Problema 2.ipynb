{
 "cells": [
  {
   "cell_type": "markdown",
   "metadata": {},
   "source": [
    "$$\\mathbf{W}=\\begin{pmatrix}-1.5&-1&0.5\\\\1&1&-0.5\\end{pmatrix}%\n",
    "\\quad \\boldsymbol{b}_1=\\begin{pmatrix}1\\\\-2\\end{pmatrix}%\n",
    "\\quad \\mathbf{V}=\\begin{pmatrix}-1.5&1\\\\0.5&1\\\\-0.5&-1\\end{pmatrix}%\n",
    "\\quad\\boldsymbol{b}_2=\\begin{pmatrix}0.5\\\\1\\\\-0.5\\end{pmatrix}$$\n",
    "$$\\begin{align*}\n",
    "\\boldsymbol{x}^t&=\\ldots%\n",
    "&&(1,0,2)\\\\%\n",
    "\\boldsymbol{y}^t&=\\ldots%\n",
    "&&(-1,1,-2)\\\\\\hline\n",
    "\\boldsymbol{z}&=\\mathbf{W}\\boldsymbol{x}+\\boldsymbol{b}_1%\n",
    "&&(0.5,-2)^t\\\\\n",
    "\\boldsymbol{h}&=\\operatorname{ReLU}(\\boldsymbol{z})%\n",
    "&&\\\\\n",
    "\\boldsymbol{a}&=\\mathbf{V}\\boldsymbol{h}+\\boldsymbol{b}_2%\n",
    "&&\\\\\n",
    "\\hat{\\boldsymbol{y}}&=\\mathcal{S}(\\boldsymbol{a})%\n",
    "&&\\\\\n",
    "\\mathcal{L}&=-\\boldsymbol{y}^t\\log(\\hat{\\boldsymbol{y}})%\n",
    "&&\\\\\\hline\n",
    "\\boldsymbol{u}^t&=\\dfrac{\\partial\\mathcal{L}}{\\partial\\boldsymbol{a}}=(\\hat{\\boldsymbol{y}}-\\boldsymbol{y})^t%\n",
    "&&\\\\\n",
    "\\boldsymbol{g}_{\\mathbf{V}}&=\\boldsymbol{u}^t\\dfrac{\\partial\\boldsymbol{a}}{\\partial\\mathbf{V}}=\\boldsymbol{h}\\boldsymbol{u}^t%\n",
    "&&\\\\\n",
    "\\boldsymbol{g}_{\\boldsymbol{b}_2}&=\\boldsymbol{u}^t\\dfrac{\\partial\\boldsymbol{a}}{\\partial\\boldsymbol{b}_2}=\\boldsymbol{u}^t%\n",
    "&&\\\\\n",
    "\\boldsymbol{u}^t&=\\boldsymbol{u}^t\\dfrac{\\partial\\boldsymbol{a}}{\\partial\\boldsymbol{h}}=\\boldsymbol{u}^t\\mathbf{V}%\n",
    "&&\\\\\n",
    "\\boldsymbol{u}^t&=\\boldsymbol{u}^t\\dfrac{\\partial\\boldsymbol{h}}{\\partial\\boldsymbol{z}}=\\boldsymbol{u}^t\\operatorname{diag}(H(\\boldsymbol{z}))%\n",
    "&&\\\\\n",
    "\\boldsymbol{g}_{\\mathbf{W}}&=\\boldsymbol{u}^t\\dfrac{\\partial\\boldsymbol{z}}{\\partial\\mathbf{W}}=\\boldsymbol{x}\\boldsymbol{u}^t%\n",
    "&&\\\\\n",
    "\\boldsymbol{g}_{\\boldsymbol{b}_1}&=\\boldsymbol{u}^t\\dfrac{\\partial\\boldsymbol{z}}{\\partial\\boldsymbol{b}_1}=\\boldsymbol{u}^t%\n",
    "&&\n",
    "\\end{align*}$$"
   ]
  }
 ],
 "metadata": {
  "kernelspec": {
   "display_name": "Python 3",
   "language": "python",
   "name": "python3"
  },
  "language_info": {
   "codemirror_mode": {
    "name": "ipython",
    "version": 3
   },
   "file_extension": ".py",
   "mimetype": "text/x-python",
   "name": "python",
   "nbconvert_exporter": "python",
   "pygments_lexer": "ipython3",
   "version": "3.11.4"
  },
  "orig_nbformat": 4
 },
 "nbformat": 4,
 "nbformat_minor": 2
}
