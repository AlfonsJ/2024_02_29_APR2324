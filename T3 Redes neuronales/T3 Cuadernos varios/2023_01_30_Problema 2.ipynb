{
 "cells": [
  {
   "cell_type": "markdown",
   "metadata": {},
   "source": [
    "$$\\begin{align*}\n",
    "\\mathbf{W}&=\\begin{pmatrix}-1.5&-1&0.5\\\\1&1&-0.5\\end{pmatrix}%\n",
    "&\\boldsymbol{b}_1&=\\begin{pmatrix}1\\\\-2\\end{pmatrix}\\\\\n",
    "\\mathbf{V}&=\\begin{pmatrix}-1.5&1\\\\0.5&1\\\\-0.5&-1\\end{pmatrix}%\n",
    "&\\boldsymbol{b}_2&=\\begin{pmatrix}0.5\\\\1\\\\-0.5\\end{pmatrix}\n",
    "\\end{align*}$$\n",
    "$$\\begin{align*}\n",
    "\\boldsymbol{x}&=\\ldots%\n",
    "&&(1,0,2)^t\\\\%\n",
    "\\boldsymbol{y}&=\\ldots%\n",
    "&&(-1,1,-2)^t\\\\\\hline\n",
    "\\boldsymbol{z}&=\\mathbf{W}\\boldsymbol{x}+\\boldsymbol{b}_1%\n",
    "&&(0.5,-2)^t\\\\\n",
    "\\boldsymbol{h}&=\\boldsymbol{\\sigma}(\\boldsymbol{z})%\n",
    "&&(0.6225,.01192)^t\\\\\n",
    "\\hat{\\boldsymbol{y}}&=\\mathbf{V}\\boldsymbol{h}+\\boldsymbol{b}_2%\n",
    "&&(-0.3145, 1.4304, -0.9304)^t\\\\\n",
    "\\mathcal{L}&=\\frac{1}{2}\\lVert\\boldsymbol{y}-\\hat{\\boldsymbol{y}}\\rVert_2^2%\n",
    "&&0.8996\\\\\\hline%\n",
    "\\boldsymbol{u}^t&=\\dfrac{\\partial\\mathcal{L}}{\\partial\\hat{\\boldsymbol{y}}}=(\\hat{\\boldsymbol{y}}-\\boldsymbol{y})^t%\n",
    "&&\\textcolor{red}{(0.6855, 0.4304, 1.0696)}\\\\\n",
    "\\boldsymbol{g}_{\\mathbf{V}}&=\\boldsymbol{u}^t\\dfrac{\\partial\\hat{\\boldsymbol{y}}}{\\partial\\mathbf{V}}=\\boldsymbol{h}\\boldsymbol{u}^t%\n",
    "&&\\begin{pmatrix}0.4267&0.2679&0.6658\\\\0.0817&0.0513&0.1275\\end{pmatrix}\\\\\n",
    "\\boldsymbol{g}_{\\boldsymbol{b}_2}&=\\boldsymbol{u}^t\\dfrac{\\partial\\hat{\\boldsymbol{y}}}{\\partial\\boldsymbol{b}_2}=\\boldsymbol{u}^t%\n",
    "&&(0.6855, 0.4304, 1.0696)\\\\\n",
    "\\boldsymbol{u}^t&=\\boldsymbol{u}^t\\dfrac{\\partial\\hat{\\boldsymbol{y}}}{\\partial\\boldsymbol{h}}=\\boldsymbol{u}^t\\mathbf{V}%\n",
    "&&(-1.3478, 0.0464)\\\\\n",
    "\\boldsymbol{u}^t&=\\boldsymbol{u}^t\\dfrac{\\partial\\boldsymbol{h}}{\\partial\\boldsymbol{z}}=\\boldsymbol{u}^t\\operatorname{diag}(\\boldsymbol{\\sigma}'(\\boldsymbol{z}))%\n",
    "&&\\textcolor{red}{(-0.3167, 0.0049)}\\\\\n",
    "\\boldsymbol{g}_{\\mathbf{W}}&=\\boldsymbol{u}^t\\dfrac{\\partial\\boldsymbol{z}}{\\partial\\mathbf{W}}=\\boldsymbol{x}\\boldsymbol{u}^t%\n",
    "&&\\begin{pmatrix}-0.3167&0.0049\\\\0&0\\\\-0.6335&0.0097\\end{pmatrix}\\\\\n",
    "\\boldsymbol{g}_{\\boldsymbol{b}_1}&=\\boldsymbol{u}^t\\dfrac{\\partial\\boldsymbol{z}}{\\partial\\boldsymbol{b}_1}=\\boldsymbol{u}^t&&(-0.3167, 0.0049)\\\\\\hline%\n",
    "\\mathbf{V}&=\\mathbf{V}-\\eta\\boldsymbol{g}_{\\mathbf{V}}^t%\n",
    "&&\\begin{pmatrix}-1.9267&0.9183\\\\0.2321&0.9487\\\\-1.1658&\\textcolor{red}{-1.1275}\\end{pmatrix}\\\\\n",
    "\\mathbf{W}&=\\mathbf{W}-\\eta\\boldsymbol{g}_{\\mathbf{W}}^t%\n",
    "&&\\begin{pmatrix}-1.1833&-1&1.1335\\\\0.9951&1&\\textcolor{red}{-0.5097}\\end{pmatrix}\n",
    "\\end{align*}$$"
   ]
  }
 ],
 "metadata": {
  "kernelspec": {
   "display_name": "Python 3",
   "language": "python",
   "name": "python3"
  },
  "language_info": {
   "codemirror_mode": {
    "name": "ipython",
    "version": 3
   },
   "file_extension": ".py",
   "mimetype": "text/x-python",
   "name": "python",
   "nbconvert_exporter": "python",
   "pygments_lexer": "ipython3",
   "version": "3.11.4"
  },
  "orig_nbformat": 4
 },
 "nbformat": 4,
 "nbformat_minor": 2
}
