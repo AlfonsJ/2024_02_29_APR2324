{
 "cells": [
  {
   "cell_type": "code",
   "execution_count": 1,
   "metadata": {},
   "outputs": [
    {
     "name": "stdout",
     "output_type": "stream",
     "text": [
      "z = [ 0.5 -2. ]\n",
      "h.T = [0.6225 0.1192]\n",
      "haty = [-0.3145  1.4304 -0.9304]\n",
      "loss = 0.8996\n",
      "J_haty = [0.6855 0.4304 1.0696]\n",
      "J_V = [[0.4267 0.2679 0.6658]\n",
      " [0.0817 0.0513 0.1275]]\n",
      "J_h = [-1.3478  0.0464]\n",
      "J_z = [-0.3167  0.0049]\n",
      "J_W = [[-0.3167  0.0049]\n",
      " [ 0.      0.    ]\n",
      " [-0.6335  0.0097]]\n",
      "V = [[-1.9267  0.9183]\n",
      " [ 0.2321  0.9487]\n",
      " [-1.1658 -1.1275]]\n",
      "W = [[-1.1833 -1.      1.1335]\n",
      " [ 0.9951  1.     -0.5097]]\n"
     ]
    }
   ],
   "source": [
    "import numpy as np; np.set_printoptions(precision=4)\n",
    "sigmoid = lambda x: 1.0 / (1.0 + np.exp(-x));\n",
    "x = np.array([1, 0, 2]); y = np.array([-1, 1, -2])\n",
    "W = np.array([[-1.5, -1, 0.5], [1, 1, -0.5]])\n",
    "b1 = np.array([1, -2])\n",
    "V = np.array([[-1.5, 1], [0.5, 1], [-0.5, -1]])\n",
    "b2 = np.array([0.5, 1, -0.5])\n",
    "z = (W @ x + b1); print(\"z =\", z)\n",
    "h = sigmoid(z); print(\"h.T =\", h.T)\n",
    "haty = V @ h + b2; print(\"haty =\", haty)\n",
    "loss = .5 * np.square(y-haty).sum(); print(\"loss =\", round(loss, 4))\n",
    "J_haty = haty-y; print(\"J_haty =\", J_haty)\n",
    "J_V = h.reshape(-1, 1) @ J_haty.reshape(1, -1)\n",
    "print(\"J_V =\", J_V)\n",
    "J_h = J_haty @ V; print(\"J_h =\", J_h)\n",
    "J_z = J_h * sigmoid(z) * sigmoid(-z); print(\"J_z =\", J_z)\n",
    "J_W = x.reshape(-1, 1) @ J_z.reshape(1, -1)\n",
    "print(\"J_W =\", J_W)\n",
    "V = V - 1.0 * J_V.T; print(\"V =\", V)\n",
    "W = W - 1.0 * J_W.T; print(\"W =\", W)"
   ]
  }
 ],
 "metadata": {
  "kernelspec": {
   "display_name": "Python 3",
   "language": "python",
   "name": "python3"
  },
  "language_info": {
   "codemirror_mode": {
    "name": "ipython",
    "version": 3
   },
   "file_extension": ".py",
   "mimetype": "text/x-python",
   "name": "python",
   "nbconvert_exporter": "python",
   "pygments_lexer": "ipython3",
   "version": "3.10.12"
  }
 },
 "nbformat": 4,
 "nbformat_minor": 2
}
