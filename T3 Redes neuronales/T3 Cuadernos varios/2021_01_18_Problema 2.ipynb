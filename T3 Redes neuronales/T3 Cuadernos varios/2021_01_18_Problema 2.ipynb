{
 "cells": [
  {
   "cell_type": "markdown",
   "metadata": {},
   "source": [
    "$$\\begin{align*}\n",
    "\\mathbf{W}&=\\begin{pmatrix}-1&-1\\\\1&-1\\end{pmatrix}%\n",
    "&\\boldsymbol{b}_1&=\\begin{pmatrix}1\\\\-1\\end{pmatrix}\\\\\n",
    "\\mathbf{V}&=\\begin{pmatrix}1&-1\\end{pmatrix}%\n",
    "&b_2&=1\n",
    "\\end{align*}$$\n",
    "$$\\begin{align*}\n",
    "\\boldsymbol{x}&=\\ldots%\n",
    "&&(2,2)^t\\\\%\n",
    "y&=\\ldots%\n",
    "&&-1\\\\\\hline\n",
    "% FORWARD\n",
    "\\boldsymbol{z}&=\\mathbf{W}\\boldsymbol{x}+\\boldsymbol{b}_1%\n",
    "&&(-3, -1)^t\\\\\n",
    "\\boldsymbol{h}&=\\boldsymbol{\\sigma}(\\boldsymbol{z})%\n",
    "&&(0.0474, 0.2689)^t\\\\\n",
    "\\hat{y}&=\\mathbf{V}\\boldsymbol{h}+b_2%\n",
    "&&0.7785\\\\\n",
    "\\mathcal{L}&=\\frac{1}{2}(y-\\hat{y})^2%\n",
    "&&1.5815\\\\\\hline%\n",
    "% BACKWARD\n",
    "u&=\\dfrac{\\partial\\mathcal{L}}{\\partial\\hat{y}}=\\hat{y}-y%\n",
    "&&1.7785\\\\\n",
    "\\boldsymbol{g}_{\\mathbf{V}}&=u\\dfrac{\\partial\\hat{y}}{\\partial\\mathbf{V}}=\\boldsymbol{h}u%\n",
    "&&(0.0843, 0.4783)^t\\\\\n",
    "\\boldsymbol{g}_{\\boldsymbol{b}_2}&=u\\dfrac{\\partial\\hat{y}}{\\partial b_2}=u%\n",
    "&&1.7785\\\\\n",
    "\\boldsymbol{u}^t&=u\\dfrac{\\partial\\hat{y}}{\\partial\\boldsymbol{h}}=u\\mathbf{V}%\n",
    "&&(1.7785, -1.7785)\\\\\n",
    "\\boldsymbol{u}^t&=\\boldsymbol{u}^t\\dfrac{\\partial\\boldsymbol{h}}{\\partial\\boldsymbol{z}}=\\boldsymbol{u}^t\\operatorname{diag}(\\boldsymbol{\\sigma}'(\\boldsymbol{z}))%\n",
    "&&(0.0803, -0.3497)\\\\\n",
    "\\boldsymbol{g}_{\\mathbf{W}}&=\\boldsymbol{u}^t\\dfrac{\\partial\\boldsymbol{z}}{\\partial\\mathbf{W}}=\\boldsymbol{x}\\boldsymbol{u}^t%\n",
    "&&\\begin{pmatrix}0.1607&-0.6993\\\\0.1607&-0.6993\\end{pmatrix}\\\\\n",
    "\\boldsymbol{g}_{\\boldsymbol{b}_1}&=\\boldsymbol{u}^t\\dfrac{\\partial\\boldsymbol{z}}{\\partial\\boldsymbol{b}_1}=\\boldsymbol{u}^t%\n",
    "&&(0.0803, -0.3497)\\\\\\hline%\n",
    "\\mathbf{V}&=\\mathbf{V}-\\eta\\boldsymbol{g}_{\\mathbf{V}}^t%\n",
    "&&(0.9157,\\textcolor{red}{-1.4783})\\\\\n",
    "b_2&=b_2-\\eta\\boldsymbol{g}_{b_2}^t%\n",
    "&&-0.7785\\\\\n",
    "\\mathbf{W}&=\\mathbf{W}-\\eta\\boldsymbol{g}_{\\mathbf{W}}^t%\n",
    "&&\\begin{pmatrix}-1.1607&-1.1607\\\\1.6993&-0.3007\\end{pmatrix}\\\\\n",
    "\\boldsymbol{b}_1&=\\boldsymbol{b}_1-\\eta\\boldsymbol{g}_{\\boldsymbol{b}_1}^t%\n",
    "&&(0.9197, -0.6503)^t\n",
    "\\end{align*}$$"
   ]
  }
 ],
 "metadata": {
  "kernelspec": {
   "display_name": "Python 3",
   "language": "python",
   "name": "python3"
  },
  "language_info": {
   "codemirror_mode": {
    "name": "ipython",
    "version": 3
   },
   "file_extension": ".py",
   "mimetype": "text/x-python",
   "name": "python",
   "nbconvert_exporter": "python",
   "pygments_lexer": "ipython3",
   "version": "3.11.4"
  },
  "orig_nbformat": 4
 },
 "nbformat": 4,
 "nbformat_minor": 2
}
