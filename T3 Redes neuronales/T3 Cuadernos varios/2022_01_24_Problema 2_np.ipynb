{
 "cells": [
  {
   "cell_type": "code",
   "execution_count": 1,
   "metadata": {},
   "outputs": [
    {
     "name": "stdout",
     "output_type": "stream",
     "text": [
      "z = [-3. -1.]\n",
      "h = [0.0474 0.2689]\n",
      "haty = 0.7785\n",
      "loss = 1.5815\n",
      "J_haty = 1.7785\n",
      "J_V = [[0.0843]\n",
      " [0.4783]]\n",
      "J_b2 = 1.7785\n",
      "J_h = [ 1.7785 -1.7785]\n",
      "J_z = [ 0.0803 -0.3497]\n",
      "J_W = [[ 0.1607 -0.6993]\n",
      " [ 0.1607 -0.6993]]\n",
      "J_b1 = [ 0.0803 -0.3497]\n",
      "V = [[ 0.9157 -1.4783]]\n",
      "b2 = -0.7785\n",
      "W = [[-1.1607 -1.1607]\n",
      " [ 1.6993 -0.3007]]\n",
      "b1 = [ 0.9197 -0.6503]\n"
     ]
    }
   ],
   "source": [
    "import numpy as np; np.set_printoptions(precision=4)\n",
    "sigmoid = lambda x: 1.0 / (1.0 + np.exp(-x));\n",
    "x = np.array([2., 2.]); y = -1.\n",
    "W = np.array([[-1, -1], [1, -1]]); b1 = np.array([1, -1])\n",
    "V = np.array([1, -1]); b2 = 1\n",
    "z = (W @ x + b1); print(\"z =\", z)\n",
    "h = sigmoid(z); print(\"h =\", h)\n",
    "haty = V @ h + b2; print(\"haty =\", round(haty, 4))\n",
    "loss = .5 * np.square(y-haty).sum(); print(\"loss =\", round(loss, 4))\n",
    "J_haty = haty-y; print(\"J_haty =\", round(J_haty, 4))\n",
    "J_V = np.outer(h, J_haty); print(\"J_V =\", J_V)\n",
    "J_b2 = J_haty; print(\"J_b2 =\", round(J_b2, 4))\n",
    "J_h = J_haty * V; print(\"J_h =\", J_h)\n",
    "J_z = J_h * sigmoid(z) * sigmoid(-z); print(\"J_z =\", J_z)\n",
    "J_W = np.outer(x, J_z); print(\"J_W =\", J_W)\n",
    "J_b1 = J_z; print(\"J_b1 =\", J_b1)\n",
    "V = V - 1.0 * J_V.T; print(\"V =\", V)\n",
    "b2 = b2 - 1.0 * J_b2; print(\"b2 =\", round(b2, 4))\n",
    "W = W - 1.0 * J_W.T; print(\"W =\", W)\n",
    "b1 = b1 - 1.0 * J_b1; print(\"b1 =\", b1)"
   ]
  }
 ],
 "metadata": {
  "kernelspec": {
   "display_name": "Python 3",
   "language": "python",
   "name": "python3"
  },
  "language_info": {
   "codemirror_mode": {
    "name": "ipython",
    "version": 3
   },
   "file_extension": ".py",
   "mimetype": "text/x-python",
   "name": "python",
   "nbconvert_exporter": "python",
   "pygments_lexer": "ipython3",
   "version": "3.10.12"
  }
 },
 "nbformat": 4,
 "nbformat_minor": 2
}
