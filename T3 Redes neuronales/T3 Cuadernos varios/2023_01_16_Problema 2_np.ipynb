{
 "cells": [
  {
   "cell_type": "code",
   "execution_count": 1,
   "metadata": {},
   "outputs": [
    {
     "name": "stdout",
     "output_type": "stream",
     "text": [
      "z = [ 3 -1]\n",
      "h = [0.9526 0.2689]\n",
      "a = [ 2.2215 -0.2215]\n",
      "haty = [0.9022 0.4448]\n",
      "loss = 0.4253\n",
      "J_haty = [ 0.8022 -0.4552]\n",
      "J_a = [ 0.0708 -0.1124]\n",
      "J_V = [[ 0.0674 -0.1071]\n",
      " [ 0.019  -0.0302]]\n",
      "J_h = [0.1832 0.1832]\n",
      "J_z = [0.0208 0.0434]\n",
      "J_W = [[0.0208 0.0434]\n",
      " [0.0208 0.0434]]\n",
      "V = [[ 0.9326  0.981 ]\n",
      " [-0.8929 -0.9698]]\n",
      "b2 = [0.9292 1.1124]\n",
      "W = [[ 0.9792  0.9792]\n",
      " [-1.0434 -1.0434]]\n",
      "b1 = [0.9792 0.9566]\n"
     ]
    }
   ],
   "source": [
    "import numpy as np; np.set_printoptions(precision=4)\n",
    "sigmoid = lambda x: 1.0 / (1.0 + np.exp(-x));\n",
    "x = np.array([1, 1]); y = np.array([0.1, 0.9])\n",
    "W = np.array([[1, 1], [-1, -1]]); b1 = np.array([1, 1])\n",
    "V = np.array([[1, 1], [-1, -1]]); b2 = np.array([1, 1])\n",
    "z = (W @ x + b1); print(\"z =\", z)\n",
    "h = sigmoid(z); print(\"h =\", h)\n",
    "a = V @ h + b2; print(\"a =\", a)\n",
    "haty = sigmoid(a); print(\"haty =\", haty)\n",
    "loss = .5 * np.square(y-haty).sum(); print(\"loss =\", round(loss, 4))\n",
    "J_haty = haty-y; print(\"J_haty =\", J_haty)\n",
    "J_a = J_haty * sigmoid(a) * (1-sigmoid(a)); print(\"J_a =\", J_a)\n",
    "# J_V = h.reshape(-1, 1) @ J_a.reshape(1, -1)\n",
    "J_V = np.outer(h, J_a); print(\"J_V =\", J_V)\n",
    "J_b2 = J_a\n",
    "J_h = J_a @ V; print(\"J_h =\", J_h)\n",
    "J_z = J_h * sigmoid(z) * sigmoid(1-z); print(\"J_z =\", J_z)\n",
    "J_W = np.outer(x, J_z); print(\"J_W =\", J_W)\n",
    "J_b1 = J_z\n",
    "V = V - 1.0 * J_V.T; print(\"V =\", V)\n",
    "b2 = b2 - 1.0 * J_b2; print(\"b2 =\", b2)\n",
    "W = W - 1.0 * J_W.T; print(\"W =\", W)\n",
    "b1 = b1 - 1.0 * J_b1; print(\"b1 =\", b1)"
   ]
  }
 ],
 "metadata": {
  "kernelspec": {
   "display_name": "Python 3",
   "language": "python",
   "name": "python3"
  },
  "language_info": {
   "codemirror_mode": {
    "name": "ipython",
    "version": 3
   },
   "file_extension": ".py",
   "mimetype": "text/x-python",
   "name": "python",
   "nbconvert_exporter": "python",
   "pygments_lexer": "ipython3",
   "version": "3.10.12"
  }
 },
 "nbformat": 4,
 "nbformat_minor": 2
}
