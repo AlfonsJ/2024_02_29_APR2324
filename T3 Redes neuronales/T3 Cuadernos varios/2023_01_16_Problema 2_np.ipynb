{
 "cells": [
  {
   "cell_type": "code",
   "execution_count": 5,
   "metadata": {},
   "outputs": [],
   "source": [
    "import numpy as np;\n",
    "sigmoid = lambda x: 1.0 / (1.0 + np.exp(-x));\n",
    "x = np.array([1, 0, 2]); y = np.array([-1, 1, -2])\n",
    "\n",
    "\n",
    "\n",
    "\n",
    "'''\n",
    "W = np.array([[-1.5, -1, 0.5], [1, 1, -0.5]])\n",
    "b1 = np.array([1, -2])\n",
    "V = np.array([[-1.5, 1], [0.5, 1], [-0.5, -1]])\n",
    "b2 = np.array([0.5, 1, -0.5])\n",
    "z = (W @ x + b1); print(\"z =\", z)\n",
    "h = sigmoid(z); print(\"h.T =\", h.T)\n",
    "haty = V @ h + b2; print(\"haty =\", haty)\n",
    "loss = .5 * np.square(y-haty).sum(); print(\"loss =\", loss)\n",
    "J_haty = haty-y; print(\"J_haty =\", J_haty)\n",
    "J_V = h.reshape(-1, 1) @ J_haty.reshape(1, -1)\n",
    "print(\"J_V =\", J_V)\n",
    "J_h = J_haty @ V; print(\"J_h =\", J_h)\n",
    "J_z = J_h * sigmoid(z) * sigmoid(1-z); print(\"J_z =\", J_z)\n",
    "J_W = x.reshape(-1, 1) @ J_z.reshape(1, -1)\n",
    "print(\"J_W =\", J_W)\n",
    "V = V - 1.0 * J_V.T; print(\"V =\", V)\n",
    "W = W - 1.0 * J_W.T; print(\"W =\", W)\n",
    "''';"
   ]
  }
 ],
 "metadata": {
  "kernelspec": {
   "display_name": "Python 3",
   "language": "python",
   "name": "python3"
  },
  "language_info": {
   "codemirror_mode": {
    "name": "ipython",
    "version": 3
   },
   "file_extension": ".py",
   "mimetype": "text/x-python",
   "name": "python",
   "nbconvert_exporter": "python",
   "pygments_lexer": "ipython3",
   "version": "3.11.4"
  }
 },
 "nbformat": 4,
 "nbformat_minor": 2
}
