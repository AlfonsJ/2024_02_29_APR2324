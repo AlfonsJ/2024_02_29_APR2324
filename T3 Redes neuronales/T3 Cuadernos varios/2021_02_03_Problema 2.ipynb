{
 "cells": [
  {
   "cell_type": "markdown",
   "metadata": {},
   "source": [
    "# 2021_02_03_Problema 2"
   ]
  },
  {
   "cell_type": "markdown",
   "metadata": {},
   "source": [
    "<div><table border-collapse: collapse><tr>\n",
    "<td style=\"border: none; text-align:left; vertical-align:top; padding:0; margin:0;\" width=550>\n",
    "\n",
    "El perceptrón multicapa de la figura se utiliza para resolver un problema de regresión, con funciones de activación de los nodos de la capa de salida y el nodo de la capa oculta de tipo **sigmoide,** y factor de aprendizaje $\\rho=1.0$.\n",
    "\n",
    "Dado un par de entrenamiento $(\\boldsymbol{x}^t,\\boldsymbol{t}^t)~=((-1,-1),(1,0))$, calcula:\n",
    "* Las salidas de todos los nodos.\n",
    "* Los correspondientes errores en el nodo de la capa de salida y en los nodos de la capa oculta.\n",
    "* Los nuevos valores de los pesos de las conexiones $\\theta^2_{21}$ y $\\theta^1_{12}$.\n",
    "\n",
    "</td><td style=\"border: none; padding:0; margin:0;\" width=50><br></td>\n",
    "<td style=\"border: none; text-align:right; vertical-align:top; padding:0; margin:0;\" width=450>\n",
    "\n",
    "<img src=\"2021_02_03_Problema 2.png\" width=400>\n",
    "\n",
    "</td></tr></table></div>"
   ]
  },
  {
   "cell_type": "markdown",
   "metadata": {},
   "source": [
    "## Solución\n",
    "$$\\begin{align*}\n",
    "\\phi^1_1&=\\theta^1_{10}+\\theta^1_{11}x_1+\\theta^1_{12}x_2=3\\\\%\n",
    "s^1_1&=\\sigma(\\phi^1_1)=0.95257\\\\%\n",
    "\\phi^2_1&=\\theta^2_{10}+\\theta^2_{11}s^1_1=0.047426\\\\%\n",
    "s^2_1&=\\sigma(\\phi^2_1)=0.51185\\\\%\n",
    "\\phi^2_2&=\\theta^2_{10}+\\theta^2_{11}s^1_1=0.047426\\\\%\n",
    "s^2_1&=\\sigma(\\phi^2_1)=0.51185\\\\%\n",
    "\\delta^2_1&=(t_1-s^2_1)\\sigma'(\\phi^2_1)=(t_1-s^2_1)s^2_1(1-s^2_1)=0.12197\\\\%\n",
    "\\delta^2_2&=(t_2-s^2_2)\\sigma'(\\phi^2_2)=(t_2-s^2_2)s^2_2(1-s^2_2)=-0.12789\\\\%\n",
    "\\delta^1_1&=(\\delta^2_1\\theta^2_{11}+\\delta^2_2\\theta^2_{12})\\sigma'(\\phi^1_1)%\n",
    "=(\\delta^2_1\\theta^2_{11}+\\delta^2_2\\theta^2_{12})s^1_1(1-s^1_1)=0.0002676\\\\%\n",
    "\\theta^2_{21}&=\\theta^2_{21}+\\Delta\\theta^2_{21}=\\theta^2_{21}+\\rho\\delta^2_2s^1_1%\n",
    "=-1+1\\cdot -0.12789\\cdot 0.95257=-1.12183\\\\%\n",
    "\\theta^1_{12}&=\\theta^1_{12}+\\Delta\\theta^1_{12}=\\theta^1_{12}+\\rho\\delta^1_1x_2%\n",
    "=-1+1\\cdot 0.0002676\\cdot -1=-1.0002676%\n",
    "\\end{align*}$$\n"
   ]
  },
  {
   "cell_type": "markdown",
   "metadata": {},
   "source": [
    "## Solución con notación matricial\n",
    "\n",
    "**Capa oculta:** $\\quad h=\\sigma(z)\\quad$ con $\\quad z=\\mathbf{W}\\boldsymbol{x}+b_1\\quad\\mathbf{W}=\\begin{pmatrix}-1&-1\\end{pmatrix}\\quad b_1=1$\n",
    "\n",
    "**Capa de salida:** $\\quad\\hat{\\boldsymbol{y}}=\\boldsymbol{\\sigma}(\\boldsymbol{a})\\quad$ con $\\quad\\boldsymbol{a}=\\mathbf{V}h+\\boldsymbol{b}_2\\quad\\mathbf{V}=\\begin{pmatrix}-1\\\\-1\\end{pmatrix}\\quad\\boldsymbol{b}_2=\\begin{pmatrix}1\\\\1\\end{pmatrix}$\n",
    "\n",
    "**Pérdida cuadrática para un par entrada-salida:** $\\quad\\mathcal{L}=\\frac{1}{2}\\lVert\\boldsymbol{y}-\\hat{\\boldsymbol{y}}\\rVert_2^2\\quad$ para $\\quad\\boldsymbol{x}=(-1,-1)^t\\quad\\boldsymbol{y}=(1,0)^t$\n",
    "\n",
    "**Forward:** $\\;$ pre-activaciones, activaciones y pérdida"
   ]
  },
  {
   "cell_type": "code",
   "execution_count": 1,
   "metadata": {},
   "outputs": [
    {
     "name": "stdout",
     "output_type": "stream",
     "text": [
      "z = 3\n",
      "h = 0.9526\n",
      "a = [0.0474 0.0474]\n",
      "haty = [0.5119 0.5119]\n",
      "loss = 0.2501\n"
     ]
    }
   ],
   "source": [
    "import numpy as np; np.set_printoptions(precision=4)\n",
    "sigmoid = lambda x: 1.0 / (1.0 + np.exp(-x));\n",
    "x = np.array([-1, -1]); y = np.array([1, 0])\n",
    "W = np.array([-1, -1]); b1 = 1\n",
    "V = np.array([-1, -1]); b2 = np.array([1, 1])\n",
    "z = (W @ x + b1);                    print(\"z =\", round(z, 4))\n",
    "h = sigmoid(z);                      print(\"h =\", round(h, 4))\n",
    "a = np.dot(V, h) + b2;               print(\"a =\", a)\n",
    "haty = sigmoid(a);                   print(\"haty =\", haty)\n",
    "loss = .5 * np.square(y-haty).sum(); print(\"loss =\", round(loss, 4))"
   ]
  },
  {
   "cell_type": "markdown",
   "metadata": {},
   "source": [
    "**Backward:** $\\;$ Jacobianas de la pérdida con respecto a $\\ldots$\n",
    "$$\\begin{align*}\n",
    "\\boldsymbol{u}^t=&\\dfrac{\\partial\\mathcal{L}}{\\partial\\hat{\\boldsymbol{y}}}=(\\hat{\\boldsymbol{y}}-\\boldsymbol{y})^t\n",
    "&&\\text{la predicción (activación de la capa de salida)}\\\\\n",
    "\\boldsymbol{u}^t=\\boldsymbol{u}^t&\\dfrac{\\partial\\hat{\\boldsymbol{y}}}{\\partial\\boldsymbol{a}}=\\boldsymbol{u}^t\\operatorname{diag}(\\boldsymbol{\\sigma}'(\\boldsymbol{a}))\n",
    "&&\\text{la pre-activación de la capa de salida}\\\\\n",
    "\\boldsymbol{g}_{\\mathbf{V}}=\\boldsymbol{u}^t&\\dfrac{\\partial\\boldsymbol{a}}{\\partial\\mathbf{V}}=\\boldsymbol{h}\\boldsymbol{u}^t\n",
    "&&\\text{la transformación lineal de la capa de salida}\\\\\n",
    "\\boldsymbol{g}_{\\boldsymbol{b}_2}=\\boldsymbol{u}^t&\\dfrac{\\partial\\boldsymbol{a}}{\\partial\\boldsymbol{b}_2}=\\boldsymbol{u}^t\n",
    "&&\\text{el sesgo de la capa de salida}\\\\\n",
    "u=\\boldsymbol{u}^t&\\dfrac{\\partial\\boldsymbol{a}}{\\partial h}=\\boldsymbol{u}^t\\mathbf{V}\n",
    "&&\\text{la activación de la capa oculta}\\\\\n",
    "u=u&\\dfrac{\\partial h}{\\partial z}=u\\sigma'(z)\n",
    "&&\\text{la pre-activación de la capa oculta}\\\\\n",
    "\\boldsymbol{g}_{\\mathbf{W}}=u&\\dfrac{\\partial z}{\\partial\\mathbf{W}}=\\boldsymbol{x}u\n",
    "&&\\text{la transformación lineal de la capa oculta}\\\\\n",
    "g_{b_1}=u&\\dfrac{\\partial z}{\\partial b_1}=u\n",
    "&&\\text{el sesgo de la capa oculta}\n",
    "\\end{align*}$$"
   ]
  },
  {
   "cell_type": "code",
   "execution_count": 2,
   "metadata": {},
   "outputs": [
    {
     "name": "stdout",
     "output_type": "stream",
     "text": [
      "J_haty = [-0.4881  0.5119]\n",
      "J_a = [-0.122   0.1279]\n",
      "J_V = [[-0.1162  0.1218]]\n",
      "J_b2 = [-0.122   0.1279]\n",
      "J_h = -0.0059\n",
      "J_z = -0.0003\n",
      "J_W = [[0.0003]\n",
      " [0.0003]]\n",
      "J_b1 = -0.0003\n"
     ]
    }
   ],
   "source": [
    "J_haty = haty-y;                         print(\"J_haty =\", J_haty)\n",
    "J_a = J_haty * sigmoid(a) * sigmoid(-a); print(\"J_a =\", J_a)\n",
    "J_V = np.outer(h, J_a);                  print(\"J_V =\", J_V)\n",
    "J_b2 = J_a;                              print(\"J_b2 =\", J_b2)\n",
    "J_h = J_a @ V;                           print(\"J_h =\", round(J_h, 4))\n",
    "J_z = J_h * sigmoid(z) * sigmoid(-z);    print(\"J_z =\", round(J_z, 4))\n",
    "J_W = np.outer(x, J_z);                  print(\"J_W =\", J_W)\n",
    "J_b1 = J_z;                              print(\"J_b1 =\", round(J_b1, 4));"
   ]
  },
  {
   "cell_type": "markdown",
   "metadata": {},
   "source": [
    "**Actualización de parámetros:** $\\quad\\mathbf{V}=\\mathbf{V}-\\rho\\boldsymbol{g}_{\\mathbf{V}}^t\\qquad\\boldsymbol{b}_2=\\boldsymbol{b}_2-\\eta\\boldsymbol{g}_{\\boldsymbol{b}_2}^t\\qquad\\mathbf{W}=\\mathbf{W}-\\eta\\boldsymbol{g}_{\\mathbf{W}}^t\\qquad\\boldsymbol{b}_1=\\boldsymbol{b}_1-\\eta\\boldsymbol{g}_{\\boldsymbol{b}_1}^t$\n"
   ]
  },
  {
   "cell_type": "code",
   "execution_count": 3,
   "metadata": {},
   "outputs": [
    {
     "name": "stdout",
     "output_type": "stream",
     "text": [
      "V = [[-0.8838 -0.8838]\n",
      " [-1.1218 -1.1218]]\n",
      "b2 = [1.122  0.8721]\n",
      "W = [[-1.0003 -1.0003]]\n",
      "b1 = 1.0003\n"
     ]
    }
   ],
   "source": [
    "V  = V  - 1.0 * J_V.T; print(\"V =\", V)\n",
    "b2 = b2 - 1.0 * J_b2;  print(\"b2 =\", b2)\n",
    "W  = W  - 1.0 * J_W.T; print(\"W =\", W)\n",
    "b1 = b1 - 1.0 * J_b1;  print(\"b1 =\", round(b1, 4))"
   ]
  }
 ],
 "metadata": {
  "kernelspec": {
   "display_name": "Python 3",
   "language": "python",
   "name": "python3"
  },
  "language_info": {
   "codemirror_mode": {
    "name": "ipython",
    "version": 3
   },
   "file_extension": ".py",
   "mimetype": "text/x-python",
   "name": "python",
   "nbconvert_exporter": "python",
   "pygments_lexer": "ipython3",
   "version": "3.11.4"
  },
  "orig_nbformat": 4
 },
 "nbformat": 4,
 "nbformat_minor": 2
}
