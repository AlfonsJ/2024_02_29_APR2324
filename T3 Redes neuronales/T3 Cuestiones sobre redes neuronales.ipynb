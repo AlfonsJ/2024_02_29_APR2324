{
 "cells": [
  {
   "cell_type": "markdown",
   "metadata": {},
   "source": [
    "**2021_01_18_Cuestión 1.** $\\;$ Si la función de activación en la capa de salida de un perceptrón de dos capas es lineal, las fórmulas que permiten modificar los pesos de dicha capa de salida en el algoritmo BackProp verifican que (solo una respuesta es correcta):\n",
    "1. $\\Delta\\theta^2_{ij}=\\rho~(t_i-s^2_i)~g(\\phi^2_i)~(1-g(\\phi^2_i))~s^1_j$\n",
    "2. $\\Delta\\theta^2_{ij}=\\rho~(t_i-s^2_i)~g(\\phi^2_i)~s^1_j$\n",
    "3. $\\Delta\\theta^2_{ij}=\\rho~(t_i-s^2_i)~s^1_j$\n",
    "4. $\\Delta\\theta^2_{ij}=\\rho~(t_i-s^2_i)~(1-g(\\phi^2_i))~s^1_j$"
   ]
  },
  {
   "cell_type": "markdown",
   "metadata": {},
   "source": [
    "**Solución:** $\\;$ La 3."
   ]
  }
 ],
 "metadata": {
  "language_info": {
   "name": "python"
  }
 },
 "nbformat": 4,
 "nbformat_minor": 2
}
