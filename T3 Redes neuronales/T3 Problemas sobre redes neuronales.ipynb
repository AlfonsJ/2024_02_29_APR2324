{
 "cells": [
  {
   "cell_type": "markdown",
   "metadata": {},
   "source": [
    "<div><table border-collapse: collapse><tr>\n",
    "<td style=\"border: none; text-align:left; vertical-align:top; padding:0; margin:0;\" width=450>\n",
    "\n",
    "**2023_01_30_Problema 2.** $\\;$ El perceptrón multicapa de la figura se utiliza para resolver un problema de regresión.\n",
    "Se asume que la función de activación de los nodos de la capa de salida es de tipo lineal y de la capa oculta es de tipo sigmoid. Sean:\n",
    "* Vector de entrada: $\\;x_1=1.0,\\,x_2=0.0,\\,x_3=2.0$\n",
    "* Salidas de la capa oculta: $\\;s^1_1=0.622,\\,s^1_2=0.119$\n",
    "* Salidas de la capa de salida: $\\;s^2_1=-0.3145,\\,s^2_2=1.4304,\\,s^2_3=-0.9304$\n",
    "* Valores deseados de la capa de salida: $\\;t_1=-1.0,\\,t_2=1.0,\\,t_3=-2.0$\n",
    "\n",
    "Se pide:\n",
    "1. Los correspondientes errores en los tres nodos de la capa de salida y en los dos nodos de la capa oculta.\n",
    "2. Los nuevos valores de los pesos $\\theta^2_{32}$ y $\\theta^1_{23}$ asumiendo que el factor de aprendizaje $\\rho$ es $1.0$\n",
    "\n",
    "</td><td style=\"border: none; padding:0; margin:0;\" width=50><br></td>\n",
    "<td style=\"border: none; text-align:right; vertical-align:top; padding:0; margin:0;\" width=500>\n",
    "\n",
    "<img src=\"2023_01_30_Problema 2.png\" width=500>\n",
    "\n",
    "</td></tr></table></div>"
   ]
  },
  {
   "cell_type": "markdown",
   "metadata": {},
   "source": [
    "**Solución:** \n",
    "$$\\begin{align*}\n",
    "\\delta^2_1&=(t_1-s^2_1)=-0.6855\\\\%\n",
    "\\delta^2_2&=(t_2-s^2_2)=-0.4304\\\\%\n",
    "\\delta^2_3&=(t_3-s^2_3)=-1.0696\\\\%\n",
    "\\delta^1_1&=(\\delta^2_1~\\theta^2_{11}+\\delta^2_2~\\theta^2_{21}+\\delta^2_3~\\theta^2_{31})~s^1_1~(1-s^1_1)=0.3167\\\\%\n",
    "\\delta^1_2&=(\\delta^2_1~\\theta^2_{12}+\\delta^2_2~\\theta^2_{22}+\\delta^2_3~\\theta^2_{32})~s^1_2~(1-s^1_2)=-0.0049\\\\%\n",
    "\\theta^2_{32}&=\\theta^2_{32}+\\rho~\\delta^2_3~s^1_2=-1+1\\cdot -1.0696\\cdot -0.9304=-1.25499\\\\%\n",
    "\\theta^1_{23}&=\\theta^1_{23}+\\rho~\\delta^1_2~x_3=-0.5+1\\cdot -0.0049\\cdot 2.0=-0.5195%\n",
    "\\end{align*}$$"
   ]
  }
 ],
 "metadata": {
  "language_info": {
   "name": "python"
  }
 },
 "nbformat": 4,
 "nbformat_minor": 2
}
