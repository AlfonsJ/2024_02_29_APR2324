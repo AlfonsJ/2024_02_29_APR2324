{
 "cells": [
  {
   "cell_type": "markdown",
   "metadata": {},
   "source": [
    "**2023_01_16_Problema 2.** $\\;$ En la red de la figura, para un resolver un problemas de regresión, se utilizan funciones de activación de tipo **sigmoid** en los nodos de la capa de salida y de la capa oculta y como factor de aprendizaje\n",
    "se ha escogido $\\rho=1.0$.\n",
    "\n",
    "<div style=\"text-align:center\"><img src=\"2023_01_16_Problema 2.png\" width=400></div>\n",
    "\n",
    "Dados los pesos iniciales indicados en la figura, un vector de entrada $\\boldsymbol{x}^t=(1,1)$ y su valor deseado de salida $t=(0.1,0.9)$, calcular:\n",
    "1. Las salidas de todas las unidades.\n",
    "2. Los correspondientes errores en los nodos de la capa de salida y en los de la capa oculta.\n",
    "3. Los nuevos valores de los pesos de las conexiones al nodo 2 de la capa oculta."
   ]
  },
  {
   "cell_type": "markdown",
   "metadata": {},
   "source": [
    "**Solución:**\n",
    "$$\\begin{align*}\n",
    "\\phi^1_1 &= \\theta^{1}_{10} + \\theta^{1}_{11} ~ x_1 + \\theta^{1}_{12} ~ x_2 = 3%\n",
    "&s^1_1 &= \\frac{1}{1+\\exp{(-\\phi^1_1})} = 0.953\\\\%\n",
    "\\phi^1_2 &= \\theta^{1}_{20} + \\theta^{1}_{21} ~ x_1 + \\theta^{1}_{22} ~ x_2 =-1%\n",
    "&s^1_2 &= \\frac{1}{1+\\exp{(-\\phi^1_2})} = 0.269\\\\%\n",
    "\\phi^2_1 &=\\theta^{2}_{10} +\\theta^{2}_{11} ~s^1_1+ \\theta^{2}_{12} ~s^1_2=2.221%\n",
    "&s^2_1 &= \\frac{1}{1+\\exp{(-\\phi^2_1})} = 0.902\\\\%\n",
    "\\phi^2_2 &= \\theta^{2}_{20} +\\theta^{2}_{21} ~s^1_1 +\\theta^{2}_{22} ~s^1_2=-0.222%\n",
    "&s^2_2 &= \\frac{1}{1+\\exp{(-\\phi^2_2})} = 0.445\\\\[1em]%\n",
    "\\delta^2_1 &= (t_1-s^2_1)~s^2_1~(1-s^2_1) = -0.0708%\n",
    "&\\delta^2_2 &= (t_2-s^2_2)~s^2_2~(1-s^2_2) =  +0.1124\\\\[1em]\n",
    "\\delta^1_1 &= (\\delta^2_1~\\theta^{2}_{11} + \\delta^2_2~\\theta^{2}_{21})~s^1_1~(1-s^1_1) =-0.0082%\n",
    "&\\delta^1_2 &= (\\delta^2_1~\\theta^{2}_{12} + \\delta^2_2~\\theta^{2}_{22})~s^1_2~(1-s^1_2) =-0.0360\n",
    "\\end{align*}$$\n",
    "\n",
    "$$\\begin{align*}\n",
    "\\theta^{1}_{20} &= \\theta^{1}_{20}+\\rho~\\delta^1_2~(+1)=0.964\\\\\n",
    "\\theta^{1}_{21} &= \\theta^{1}_{21}+\\rho~\\delta^1_2~x_1=-1.036\\\\\n",
    "\\theta^{1}_{22} &= \\theta^{1}_{22}+\\rho~\\delta^1_2~x_2=-1.036\n",
    "\\end{align*}$$"
   ]
  },
  {
   "cell_type": "markdown",
   "metadata": {},
   "source": []
  }
 ],
 "metadata": {
  "language_info": {
   "name": "python"
  }
 },
 "nbformat": 4,
 "nbformat_minor": 2
}
