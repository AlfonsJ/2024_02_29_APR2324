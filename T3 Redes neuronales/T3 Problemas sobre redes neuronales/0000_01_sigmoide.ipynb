{
 "cells": [
  {
   "cell_type": "markdown",
   "metadata": {},
   "source": [
    "# Sigmoide\n",
    "$$\\begin{align*}\n",
    "\\sigma(x)&=\\frac{1}{1+e^{-x}}=\\frac{e^x}{1+e^x}\\\\\n",
    "1-\\sigma(x)&=1-\\frac{1}{1+e^{-x}}=\\frac{e^{-x}}{1+e^{-x}}=\\frac{1}{1+e^x}=\\sigma(-x)\\\\\n",
    "\\sigma'(x)&=-\\frac{1}{(1+e^{-x})^2}e^{-x}(-1)=\\frac{e^{-x}}{(1+e^{-x})^2}\\\\\n",
    "&=\\frac{1+e^{-x}-1}{(1+e^{-x})^2}=\\frac{1}{1+e^{-x}}-\\frac{1}{(1+e^{-x})^2}\\\\\n",
    "&=\\frac{1}{1+e^{-x}}\\left(1-\\frac{1}{1+e^{-x}}\\right)\\\\\n",
    "&=\\sigma(x)(1-\\sigma(x))=\\sigma(x)\\sigma(-x)\\\\\n",
    "\\boldsymbol{\\sigma}(\\boldsymbol{x})&=(\\sigma(x_1),\\dotsc,\\sigma(x_D))^t\\qquad\\boldsymbol{x}\\in\\mathbb{R}^D\\\\\n",
    "\\boldsymbol{\\sigma}'(\\boldsymbol{x})&=(\\sigma'(x_1),\\dotsc,\\sigma'(x_D))^t\\qquad\\boldsymbol{x}\\in\\mathbb{R}^D\n",
    "\\end{align*}$$"
   ]
  }
 ],
 "metadata": {
  "language_info": {
   "name": "python"
  }
 },
 "nbformat": 4,
 "nbformat_minor": 2
}
