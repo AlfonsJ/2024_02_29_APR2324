{
 "cells": [
  {
   "cell_type": "markdown",
   "metadata": {},
   "source": [
    "$$\\mathbf{W}=\\begin{pmatrix}1&1\\\\1&1\\end{pmatrix}\\quad \\boldsymbol{b}_1=\\begin{pmatrix}-1\\\\0.5\\end{pmatrix}\\quad \\mathbf{V}=\\begin{pmatrix}1&-1\\\\-1&1\\end{pmatrix}\\quad\\boldsymbol{b}_2=\\begin{pmatrix}1\\\\-1\\end{pmatrix}$$\n",
    "$$\\begin{align*}\n",
    "\\boldsymbol{x}^t&=\\ldots%\n",
    "&&(0,0)\\\\%\n",
    "\\boldsymbol{y}^t&=\\ldots%\n",
    "&&(1,0)\\\\\\hline\n",
    "\\boldsymbol{z}&=\\mathbf{W}\\boldsymbol{x}+\\boldsymbol{b}_1%\n",
    "&&(-1,0.5)^t\\\\\n",
    "\\boldsymbol{h}&=\\operatorname{ReLU}(\\boldsymbol{z})%\n",
    "&&(0,0.5)^t\\\\\n",
    "\\boldsymbol{a}&=\\mathbf{V}\\boldsymbol{h}+\\boldsymbol{b}_2%\n",
    "&&(0.5,-0.5)^t\\\\\n",
    "\\hat{\\boldsymbol{y}}&=\\mathcal{S}(\\boldsymbol{a})%\n",
    "&&(0.7311, 0.2689)^t\\\\\n",
    "\\mathcal{L}&=-\\boldsymbol{y}^t\\log(\\hat{\\boldsymbol{y}})%\n",
    "&&0.3133\\\\\\hline\n",
    "\\boldsymbol{u}^t&=\\dfrac{\\partial\\mathcal{L}}{\\partial\\boldsymbol{a}}=(\\hat{\\boldsymbol{y}}-\\boldsymbol{y})^t%\n",
    "&&(-0.2689, 0.2689)\\\\\n",
    "\\boldsymbol{g}_{\\mathbf{V}}&=\\boldsymbol{u}^t\\dfrac{\\partial\\boldsymbol{a}}{\\partial\\mathbf{V}}=\\boldsymbol{h}\\boldsymbol{u}^t%\n",
    "&&\\begin{pmatrix}0&0\\\\-0.1345& 0.1345\\end{pmatrix}\\\\\n",
    "\\boldsymbol{g}_{\\boldsymbol{b}_2}&=\\boldsymbol{u}^t\\dfrac{\\partial\\boldsymbol{a}}{\\partial\\boldsymbol{b}_2}=\\boldsymbol{u}^t%\n",
    "&&(-0.2689, 0.2689)\\\\\n",
    "\\boldsymbol{u}^t&=\\boldsymbol{u}^t\\dfrac{\\partial\\boldsymbol{a}}{\\partial\\boldsymbol{h}}=\\boldsymbol{u}^t\\mathbf{V}%\n",
    "&&(-0.5378,0.5378)\\\\\n",
    "\\boldsymbol{u}^t&=\\boldsymbol{u}^t\\dfrac{\\partial\\boldsymbol{h}}{\\partial\\boldsymbol{z}}=\\boldsymbol{u}^t\\operatorname{diag}(H(\\boldsymbol{z}))%\n",
    "&&(0,0.5378)\\\\\n",
    "\\boldsymbol{g}_{\\mathbf{W}}&=\\boldsymbol{u}^t\\dfrac{\\partial\\boldsymbol{z}}{\\partial\\mathbf{W}}=\\boldsymbol{x}\\boldsymbol{u}^t%\n",
    "&&\\begin{pmatrix}0&0\\\\0&0\\end{pmatrix}\\\\\n",
    "\\boldsymbol{g}_{\\boldsymbol{b}_1}&=\\boldsymbol{u}^t\\dfrac{\\partial\\boldsymbol{z}}{\\partial\\boldsymbol{b}_1}=\\boldsymbol{u}^t%\n",
    "&&(0,0.5378)\n",
    "\\end{align*}$$"
   ]
  }
 ],
 "metadata": {
  "kernelspec": {
   "display_name": "Python 3",
   "language": "python",
   "name": "python3"
  },
  "language_info": {
   "codemirror_mode": {
    "name": "ipython",
    "version": 3
   },
   "file_extension": ".py",
   "mimetype": "text/x-python",
   "name": "python",
   "nbconvert_exporter": "python",
   "pygments_lexer": "ipython3",
   "version": "3.11.4"
  },
  "orig_nbformat": 4
 },
 "nbformat": 4,
 "nbformat_minor": 2
}
