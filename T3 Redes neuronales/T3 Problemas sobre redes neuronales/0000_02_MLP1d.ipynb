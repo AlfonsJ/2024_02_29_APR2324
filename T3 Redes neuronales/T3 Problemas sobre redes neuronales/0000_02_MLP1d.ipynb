{
 "cells": [
  {
   "cell_type": "markdown",
   "metadata": {},
   "source": [
    "## MLP 1d"
   ]
  },
  {
   "cell_type": "code",
   "execution_count": 1,
   "metadata": {},
   "outputs": [],
   "source": [
    "import graphviz; graphviz.Source('''digraph { rankdir=LR; splines=false;\n",
    "{rank=same x0[label=1] x[label=x]}\n",
    "{rank=same h0[label=1] h[label=\"h\"]}\n",
    "{rank=same y0[shape=none label=\"\"] y[label=y]}\n",
    "x0->h[label=<<i>b<sub>1</sub></i>>] x->h[label=<<i>w</i>>]\n",
    "h0->y[label=<<i>b<sub>2</sub></i>>] h->y[label=<<i>v</i>>]\n",
    "edge[style=invis] x0->x h0->h y0->y x0->h0 h0->y0\n",
    "}''').render(filename='0000_02_MLP1d', format='svg');"
   ]
  },
  {
   "cell_type": "markdown",
   "metadata": {},
   "source": [
    "<div><table border-collapse: collapse><tr>\n",
    "<td style=\"border: none; text-align:left; vertical-align:top; padding:0; margin:0;\" width=500>\n",
    "\n",
    "**Capa oculta:** $\\quad h=\\sigma(z)\\quad$ con $\\quad z=wx+b_1\\quad w=b_1=1$\n",
    "\n",
    "**Capa de salida:** $\\qquad y=vh+b_2\\quad$ con $\\quad v=b_2=1$\n",
    "\n",
    "**Pérdida cuadrática:** $\\quad\\mathcal{L}=\\frac{1}{2}(y-\\hat{y})^2\\quad$ para $\\quad\\boldsymbol{x}=1\\quad y=1$\n",
    "\n",
    "</td><td style=\"border: none; padding:0; margin:0;\" width=50><br></td>\n",
    "<td style=\"border: none; text-align:left; vertical-align:top; padding:0; margin:0;\" width=450>\n",
    "\n",
    "<img src=\"0000_02_MLP1d.svg\" width=400>\n",
    "\n",
    "</td></tr></table></div>"
   ]
  },
  {
   "cell_type": "markdown",
   "metadata": {},
   "source": [
    "**Forward:** $\\;$ pre-activaciones, activaciones y pérdida"
   ]
  },
  {
   "cell_type": "code",
   "execution_count": 2,
   "metadata": {},
   "outputs": [
    {
     "name": "stdout",
     "output_type": "stream",
     "text": [
      "z = 2.0\n",
      "h = 0.8808\n",
      "haty = 5.0\n",
      "loss = 8.0\n"
     ]
    }
   ],
   "source": [
    "import numpy as np; np.set_printoptions(precision=4)\n",
    "sigmoid = lambda x: 1.0 / (1.0 + np.exp(-x));\n",
    "x = 1.0; y = 1.0; w = b1 = 1.0; v = b2 = 1.0;\n",
    "z = w * x + b1;                print(\"z =\", round(z, 4))\n",
    "h = sigmoid(z);                print(\"h =\", round(h, 4))\n",
    "haty = z * z + b2;             print(\"haty =\", round(haty, 4))\n",
    "loss = .5 * np.square(y-haty); print(\"loss =\", round(loss, 4))"
   ]
  },
  {
   "cell_type": "markdown",
   "metadata": {},
   "source": [
    "**Backward:** $\\;$ Jacobianas (derivadas) de la pérdida con respecto a $\\ldots$\n",
    "$$\\begin{align*}\n",
    "u=&\\dfrac{d\\mathcal{L}}{d\\hat{y}}=\\hat{y}-y\n",
    "&&\\text{la predicción (activación de la capa de salida)}\\\\\n",
    "g_{v}=u&\\dfrac{d\\hat{y}}{dv}=hu\n",
    "&&\\text{la transformación lineal de la capa de salida}\\\\\n",
    "g_{b_2}=u&\\dfrac{d\\hat{y}}{db_2}=u\n",
    "&&\\text{el sesgo de la capa de salida}\\\\\n",
    "u=u&\\dfrac{d\\hat{y}}{dh}=uv\n",
    "&&\\text{la activación de la capa oculta}\\\\\n",
    "u=u&\\dfrac{dh}{dz}=u\\sigma'(z)\n",
    "&&\\text{la pre-activación de la capa oculta}\\\\\n",
    "g_{w}=u&\\dfrac{dz}{dw}=xu\n",
    "&&\\text{la transformación lineal de la capa oculta}\\\\\n",
    "g_{b_1}=u&\\dfrac{dz}{db_1}=u\n",
    "&&\\text{el sesgo de la capa oculta}\n",
    "\\end{align*}$$"
   ]
  },
  {
   "cell_type": "code",
   "execution_count": 3,
   "metadata": {},
   "outputs": [
    {
     "name": "stdout",
     "output_type": "stream",
     "text": [
      "J_haty = 4.0\n",
      "J_v = 3.5232\n",
      "J_b2 = 4.0\n",
      "J_h = 4.0\n",
      "J_z = 0.42\n",
      "J_w = 0.42\n",
      "J_b1 = 0.42\n"
     ]
    }
   ],
   "source": [
    "J_haty = haty-y;                         print(\"J_haty =\", round(J_haty, 4))\n",
    "J_v = h * J_haty;                        print(\"J_v =\", round(J_v, 4))\n",
    "J_b2 = J_haty;                           print(\"J_b2 =\", round(J_b2, 4))\n",
    "J_h = J_haty * v;                        print(\"J_h =\", round(J_h, 4))\n",
    "J_z = J_h * sigmoid(z) * sigmoid(-z);    print(\"J_z =\", round(J_z, 4))\n",
    "J_w = x * J_z;                           print(\"J_w =\", round(J_w, 4))\n",
    "J_b1 = J_z;                              print(\"J_b1 =\", round(J_b1, 4));"
   ]
  },
  {
   "cell_type": "markdown",
   "metadata": {},
   "source": [
    "**Actualización de parámetros:** $\\quad\\boldsymbol{\\theta}=\\boldsymbol{\\theta}-\\rho\\boldsymbol{g}_{\\boldsymbol{\\theta}}^t\\quad$ con $\\quad\\rho=1$"
   ]
  },
  {
   "cell_type": "code",
   "execution_count": 4,
   "metadata": {},
   "outputs": [
    {
     "name": "stdout",
     "output_type": "stream",
     "text": [
      "v = -2.5232\n",
      "b2 = -3.0\n",
      "w = 0.58\n",
      "b1 = 0.58\n"
     ]
    }
   ],
   "source": [
    "v  = v  - 1.0 * J_v;  print(\"v =\", round(v, 4))\n",
    "b2 = b2 - 1.0 * J_b2; print(\"b2 =\", round(b2, 4))\n",
    "w  = w  - 1.0 * J_w;  print(\"w =\", round(w, 4))\n",
    "b1 = b1 - 1.0 * J_b1; print(\"b1 =\", round(b1, 4))"
   ]
  }
 ],
 "metadata": {
  "kernelspec": {
   "display_name": "Python 3",
   "language": "python",
   "name": "python3"
  },
  "language_info": {
   "codemirror_mode": {
    "name": "ipython",
    "version": 3
   },
   "file_extension": ".py",
   "mimetype": "text/x-python",
   "name": "python",
   "nbconvert_exporter": "python",
   "pygments_lexer": "ipython3",
   "version": "3.11.4"
  }
 },
 "nbformat": 4,
 "nbformat_minor": 2
}
