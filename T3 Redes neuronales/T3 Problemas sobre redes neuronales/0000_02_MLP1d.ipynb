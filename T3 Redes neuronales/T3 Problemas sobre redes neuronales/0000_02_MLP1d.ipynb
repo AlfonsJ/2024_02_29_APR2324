{
 "cells": [
  {
   "cell_type": "markdown",
   "metadata": {},
   "source": [
    "## MLP 1d"
   ]
  },
  {
   "cell_type": "code",
   "execution_count": 1,
   "metadata": {},
   "outputs": [],
   "source": [
    "import graphviz; graphviz.Source('''digraph { rankdir=LR; splines=false;\n",
    "{rank=same x0[label=1] x[label=x]}\n",
    "{rank=same z0[label=1] z[label=\"z\"]}\n",
    "{rank=same y0[shape=none label=\"\"] y[label=y]}\n",
    "x0->z[label=<<i>b<sub>1</sub></i>>]\n",
    "x->z[label=<<i>w</i>>]\n",
    "z0->y[label=<<i>b<sub>2</sub></i>>]\n",
    "z->y[label=<<i>v</i>>]\n",
    "edge[style=invis] x0->x z0->z y0->y x0->z0 z0->y0\n",
    "}''').render(filename='0000_02_MLP1d', format='svg');"
   ]
  },
  {
   "cell_type": "markdown",
   "metadata": {},
   "source": [
    "<div align=\"center\">\n",
    "<table><tr><td style=\"border: none;\"><img src=\"0000_02_MLP1d.svg\" width=\"350\"/></td><td style=\"border: none;\">\n",
    "\n",
    "$$z=\\sigma(wx+b_1)\\qquad y=vz+b_2$$\n",
    "\n",
    "</td><tr></table>\n",
    "</div>"
   ]
  }
 ],
 "metadata": {
  "kernelspec": {
   "display_name": "Python 3",
   "language": "python",
   "name": "python3"
  },
  "language_info": {
   "codemirror_mode": {
    "name": "ipython",
    "version": 3
   },
   "file_extension": ".py",
   "mimetype": "text/x-python",
   "name": "python",
   "nbconvert_exporter": "python",
   "pygments_lexer": "ipython3",
   "version": "3.11.4"
  }
 },
 "nbformat": 4,
 "nbformat_minor": 2
}
