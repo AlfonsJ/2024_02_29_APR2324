{
 "cells": [
  {
   "cell_type": "markdown",
   "metadata": {},
   "source": [
    "## MLP"
   ]
  },
  {
   "cell_type": "code",
   "execution_count": 6,
   "metadata": {},
   "outputs": [],
   "source": [
    "import graphviz; graphviz.Source('''digraph { rankdir=LR; splines=false; node[shape=circle fontsize=12]\n",
    "{rank=same x0[label=1] x1[label=<<i>x<sub>1</sub></i>>] xvdots[shape=none label=\"&#8942;\"] \n",
    "xn[label=<<i>x<sub>n</sub></i>>]}\n",
    "{rank=same h0[label=1] h1[label=<<i>h<sub>1</sub></i>>] hvdots[shape=none label=\"&#8942;\"] \n",
    "hm[label=<<i>h<sub>m</sub></i>>]}\n",
    "y[label=y] {x0 x1 xn} -> {h1 hm} -> y; h0 -> y\n",
    "edge[style=invis] x0->x1->xvdots->xn h0->h1->hvdots->hm x0->h0\n",
    "}''').render(filename='0000_03_MLP', format='svg');"
   ]
  },
  {
   "cell_type": "markdown",
   "metadata": {},
   "source": [
    "<div><table border-collapse: collapse><tr>\n",
    "<td style=\"border: none; text-align:left; vertical-align:top; padding:0; margin:0;\" width=500>\n",
    "\n",
    "**Entrada-salida:** $\\qquad\\boldsymbol{x}=(1,1,1)^t\\qquad y=1$\n",
    "\n",
    "**Capa oculta:** $\\qquad\\boldsymbol{h}=\\boldsymbol{\\sigma}(\\boldsymbol{z})\\qquad$ con $\\qquad\\boldsymbol{z}=\\mathbf{W}\\boldsymbol{x}+\\boldsymbol{b}_1$\n",
    "$$\\mathbf{W}=\\begin{pmatrix}1&1&1\\\\1&1&1\\end{pmatrix}\\qquad\\boldsymbol{b}_1=\\begin{pmatrix}1\\\\1\\end{pmatrix}$$\n",
    "\n",
    "**Capa de salida:** $\\qquad\\hat{y}=\\mathbf{V}\\boldsymbol{h}+b_2$ \n",
    "$$\\mathbf{V}=\\begin{pmatrix}1&1\\end{pmatrix}\\qquad b_2=1$$\n",
    "\n",
    "**Pérdida cuadrática:** $\\qquad\\mathcal{L}=\\frac{1}{2}(y-\\hat{y})^2$\n",
    "\n",
    "</td><td style=\"border: none; padding:0; margin:0;\" width=50><br></td>\n",
    "<td style=\"border: none; text-align:left; vertical-align:top; padding:0; margin:0;\" width=450>\n",
    "\n",
    "<img src=\"0000_03_MLP.svg\" width=400>\n",
    "\n",
    "</td></tr></table></div>"
   ]
  },
  {
   "cell_type": "markdown",
   "metadata": {},
   "source": [
    "**Forward:** $\\;$ pre-activaciones, activaciones y pérdida"
   ]
  }
 ],
 "metadata": {
  "kernelspec": {
   "display_name": "Python 3",
   "language": "python",
   "name": "python3"
  },
  "language_info": {
   "codemirror_mode": {
    "name": "ipython",
    "version": 3
   },
   "file_extension": ".py",
   "mimetype": "text/x-python",
   "name": "python",
   "nbconvert_exporter": "python",
   "pygments_lexer": "ipython3",
   "version": "3.11.4"
  }
 },
 "nbformat": 4,
 "nbformat_minor": 2
}
