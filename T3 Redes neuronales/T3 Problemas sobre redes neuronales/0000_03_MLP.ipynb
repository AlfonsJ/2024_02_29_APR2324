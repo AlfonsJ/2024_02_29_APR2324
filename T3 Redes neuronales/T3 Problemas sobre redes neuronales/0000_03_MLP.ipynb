{
 "cells": [
  {
   "cell_type": "markdown",
   "metadata": {},
   "source": [
    "## MLP"
   ]
  },
  {
   "cell_type": "code",
   "execution_count": 6,
   "metadata": {},
   "outputs": [],
   "source": [
    "import graphviz; graphviz.Source('''digraph { rankdir=LR; splines=false; node[shape=circle fontsize=12]\n",
    "{rank=same x0[label=1] x1[label=<<i>x<sub>1</sub></i>>] xvdots[shape=none label=\"&#8942;\"] \n",
    "xn[label=<<i>x<sub>n</sub></i>>]}\n",
    "{rank=same h0[label=1] h1[label=<<i>h<sub>1</sub></i>>] hvdots[shape=none label=\"&#8942;\"] \n",
    "hm[label=<<i>h<sub>m</sub></i>>]}\n",
    "y[label=y] {x0 x1 xn} -> {h1 hm} -> y; h0 -> y\n",
    "edge[style=invis] x0->x1->xvdots->xn h0->h1->hvdots->hm x0->h0\n",
    "}''').render(filename='0000_03_MLP', format='svg');"
   ]
  },
  {
   "cell_type": "markdown",
   "metadata": {},
   "source": [
    "<div><table border-collapse: collapse><tr>\n",
    "<td style=\"border: none; text-align:left; vertical-align:top; padding:0; margin:0;\" width=500>\n",
    "\n",
    "**Entrada-salida:** $\\qquad\\boldsymbol{x}=(1,1,1)^t\\qquad y=1$\n",
    "\n",
    "**Capa oculta:** $\\qquad\\boldsymbol{h}=\\boldsymbol{\\sigma}(\\boldsymbol{z})\\qquad$ con $\\qquad\\boldsymbol{z}=\\mathbf{W}\\boldsymbol{x}+\\boldsymbol{b}_1$\n",
    "$$\\mathbf{W}=\\begin{pmatrix}1&1&1\\\\1&1&1\\end{pmatrix}\\qquad\\boldsymbol{b}_1=\\begin{pmatrix}1\\\\1\\end{pmatrix}$$\n",
    "\n",
    "**Capa de salida:** $\\qquad\\hat{y}=\\mathbf{V}\\boldsymbol{h}+b_2$ \n",
    "$$\\mathbf{V}=\\begin{pmatrix}1&1\\end{pmatrix}\\qquad b_2=1$$\n",
    "\n",
    "**Pérdida cuadrática:** $\\qquad\\mathcal{L}=\\frac{1}{2}(y-\\hat{y})^2$\n",
    "\n",
    "</td><td style=\"border: none; padding:0; margin:0;\" width=10><br></td>\n",
    "<td style=\"border: none; text-align:left; vertical-align:top; padding:0; margin:0;\" width=400>\n",
    "\n",
    "<img src=\"0000_03_MLP.svg\" width=400>\n",
    "\n",
    "</td></tr></table></div>"
   ]
  },
  {
   "cell_type": "markdown",
   "metadata": {},
   "source": [
    "**Forward:** $\\;$ pre-activaciones, activaciones y pérdida"
   ]
  },
  {
   "cell_type": "code",
   "execution_count": 7,
   "metadata": {},
   "outputs": [
    {
     "name": "stdout",
     "output_type": "stream",
     "text": [
      "z = [4 4]\n",
      "h = [0.982 0.982]\n",
      "haty = 2.964027580075817\n",
      "loss = 1.9287\n"
     ]
    }
   ],
   "source": [
    "import numpy as np; np.set_printoptions(precision=4)\n",
    "sigmoid = lambda x: 1.0 / (1.0 + np.exp(-x));\n",
    "x = np.array([1, 1, 1]); y = 1\n",
    "W = np.array([[1, 1, 1], [1, 1, 1]]); b1 = np.array([1, 1])\n",
    "V = np.array([1, 1]); b2 = 1\n",
    "z = W @ x + b1;                      print(\"z =\", z)\n",
    "h = sigmoid(z);                      print(\"h =\", h)\n",
    "haty = V @ h + b2;                   print(\"haty =\", haty)\n",
    "loss = .5 * np.square(y-haty).sum(); print(\"loss =\", round(loss, 4))"
   ]
  },
  {
   "cell_type": "markdown",
   "metadata": {},
   "source": [
    "**Backward:** $\\;$ Jacobianas de la pérdida con respecto a $\\ldots$\n",
    "$$\\begin{align*}\n",
    "u=&\\dfrac{\\partial\\mathcal{L}}{\\partial\\hat{y}}=\\hat{y}-y\n",
    "&&\\text{la predicción (activación de la capa de salida)}\\\\\n",
    "\\boldsymbol{g}_{\\mathbf{V}}=u&\\dfrac{\\partial\\hat{y}}{\\partial\\mathbf{V}}=\\boldsymbol{h}u\n",
    "&&\\text{la transformación lineal de la capa de salida}\\\\\n",
    "g_{\\boldsymbol{b}_2}=u&\\dfrac{\\partial\\hat{y}}{\\partial b_2}=u\n",
    "&&\\text{el sesgo de la capa de salida}\\\\\n",
    "\\boldsymbol{u}^t=u&\\dfrac{\\partial\\hat{y}}{\\partial\\boldsymbol{h}}=u\\mathbf{V}\n",
    "&&\\text{la activación de la capa oculta}\\\\\n",
    "\\boldsymbol{u}^t=\\boldsymbol{u}^t&\\dfrac{\\partial\\boldsymbol{h}}{\\partial\\boldsymbol{z}}=\\boldsymbol{u}^t\\operatorname{diag}(\\boldsymbol{\\sigma}'(\\boldsymbol{z}))\n",
    "&&\\text{la pre-activación de la capa oculta}\\\\\n",
    "\\boldsymbol{g}_{\\mathbf{W}}=\\boldsymbol{u}^t&\\dfrac{\\partial\\boldsymbol{z}}{\\partial\\mathbf{W}}=\\boldsymbol{x}\\boldsymbol{u}^t\n",
    "&&\\text{la transformación lineal de la capa oculta}\\\\\n",
    "\\boldsymbol{g}_{\\boldsymbol{b}_1}=\\boldsymbol{u}^t&\\dfrac{\\partial\\boldsymbol{z}}{\\partial\\boldsymbol{b}_1}=\\boldsymbol{u}^t\n",
    "&&\\text{el sesgo de la capa oculta}\n",
    "\\end{align*}$$"
   ]
  },
  {
   "cell_type": "code",
   "execution_count": 8,
   "metadata": {},
   "outputs": [
    {
     "name": "stdout",
     "output_type": "stream",
     "text": [
      "J_haty = 1.964\n",
      "J_V = [[1.9287]\n",
      " [1.9287]]\n",
      "J_b2 = 1.964\n",
      "J_h = [1.964 1.964]\n",
      "J_z = [0.0347 0.0347]\n",
      "J_W = [[0.0347 0.0347]\n",
      " [0.0347 0.0347]\n",
      " [0.0347 0.0347]]\n",
      "J_b1 = [0.0347 0.0347]\n"
     ]
    }
   ],
   "source": [
    "J_haty = haty-y;                         print(\"J_haty =\", round(J_haty, 4))\n",
    "J_V = np.outer(h, J_haty);               print(\"J_V =\", J_V)\n",
    "J_b2 = J_haty;                           print(\"J_b2 =\", round(J_b2, 4))\n",
    "J_h = J_haty * V;                        print(\"J_h =\", J_h)\n",
    "J_z = J_h * sigmoid(z) * sigmoid(-z);    print(\"J_z =\", J_z)\n",
    "J_W = np.outer(x, J_z);                  print(\"J_W =\", J_W)\n",
    "J_b1 = J_z;                              print(\"J_b1 =\", J_b1);"
   ]
  },
  {
   "cell_type": "markdown",
   "metadata": {},
   "source": [
    "**Actualización de parámetros:** $\\quad\\boldsymbol{\\theta}=\\boldsymbol{\\theta}-\\rho\\boldsymbol{g}_{\\boldsymbol{\\theta}}^t$"
   ]
  },
  {
   "cell_type": "code",
   "execution_count": 9,
   "metadata": {},
   "outputs": [
    {
     "name": "stdout",
     "output_type": "stream",
     "text": [
      "V = [[-0.9287 -0.9287]]\n",
      "b2 = -0.964\n",
      "W = [[0.9653 0.9653 0.9653]\n",
      " [0.9653 0.9653 0.9653]]\n",
      "b1 = [0.9653 0.9653]\n"
     ]
    }
   ],
   "source": [
    "V  = V  - 1.0 * J_V.T; print(\"V =\", V)\n",
    "b2 = b2 - 1.0 * J_b2;  print(\"b2 =\", round(b2, 4))\n",
    "W  = W  - 1.0 * J_W.T; print(\"W =\", W)\n",
    "b1 = b1 - 1.0 * J_b1;  print(\"b1 =\", b1)"
   ]
  }
 ],
 "metadata": {
  "kernelspec": {
   "display_name": "Python 3",
   "language": "python",
   "name": "python3"
  },
  "language_info": {
   "codemirror_mode": {
    "name": "ipython",
    "version": 3
   },
   "file_extension": ".py",
   "mimetype": "text/x-python",
   "name": "python",
   "nbconvert_exporter": "python",
   "pygments_lexer": "ipython3",
   "version": "3.11.4"
  }
 },
 "nbformat": 4,
 "nbformat_minor": 2
}
