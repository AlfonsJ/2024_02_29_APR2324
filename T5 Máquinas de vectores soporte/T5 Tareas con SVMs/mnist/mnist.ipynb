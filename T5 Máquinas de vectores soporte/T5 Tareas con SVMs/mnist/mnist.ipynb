{
 "cells": [
  {
   "cell_type": "markdown",
   "metadata": {},
   "source": [
    "# MNIST con SVMs"
   ]
  },
  {
   "cell_type": "markdown",
   "metadata": {},
   "source": [
    "**Lectura de MNIST:**"
   ]
  },
  {
   "cell_type": "code",
   "execution_count": 1,
   "metadata": {},
   "outputs": [
    {
     "name": "stderr",
     "output_type": "stream",
     "text": [
      "2023-11-17 18:40:30.823796: I tensorflow/core/platform/cpu_feature_guard.cc:182] This TensorFlow binary is optimized to use available CPU instructions in performance-critical operations.\n",
      "To enable the following instructions: AVX2 FMA, in other operations, rebuild TensorFlow with the appropriate compiler flags.\n",
      "2023-11-17 18:40:31.672588: W tensorflow/compiler/tf2tensorrt/utils/py_utils.cc:38] TF-TRT Warning: Could not find TensorRT\n"
     ]
    }
   ],
   "source": [
    "from tensorflow import keras; from keras.datasets import mnist\n",
    "from sklearn.model_selection import train_test_split\n",
    "(x_train, y_train), (x_test, y_test) = mnist.load_data()\n",
    "x_train = x_train.reshape(60000, 784).astype('float32')\n",
    "x_test = x_test.reshape(10000, 784).astype('float32')\n",
    "x_train /= 255; x_test /= 255\n",
    "# N_train = 5000; x_train = x_train[:N_train, :]; y_train = y_train[:N_train]\n",
    "# N_test  = 1000; x_test = x_test[:N_test, :]; y_test = y_test[:N_test]"
   ]
  },
  {
   "cell_type": "markdown",
   "metadata": {},
   "source": [
    "**SVM sin kernel:**"
   ]
  },
  {
   "cell_type": "code",
   "execution_count": 2,
   "metadata": {},
   "outputs": [
    {
     "name": "stdout",
     "output_type": "stream",
     "text": [
      "Error: train 2.9% test 6.0%\n"
     ]
    }
   ],
   "source": [
    "from sklearn import svm; from sklearn.metrics import accuracy_score\n",
    "C = 1; clf = svm.SVC(C=C, kernel='linear').fit(x_train, y_train)\n",
    "err_train = 1 - accuracy_score(y_train, clf.predict(x_train))\n",
    "err_test = 1 - accuracy_score(y_test, clf.predict(x_test))\n",
    "print(f'Error: train {err_train:.1%} test {err_test:.1%}')"
   ]
  },
  {
   "cell_type": "markdown",
   "metadata": {},
   "source": [
    "**SVM con kernel RBF:**"
   ]
  },
  {
   "cell_type": "code",
   "execution_count": 3,
   "metadata": {},
   "outputs": [
    {
     "name": "stdout",
     "output_type": "stream",
     "text": [
      "Error: train 1.0% test 2.1%\n"
     ]
    }
   ],
   "source": [
    "from sklearn import svm; from sklearn.metrics import accuracy_score\n",
    "C = 1; clf = svm.SVC(C=C, kernel='rbf').fit(x_train, y_train)\n",
    "err_train = 1 - accuracy_score(y_train, clf.predict(x_train))\n",
    "err_test = 1 - accuracy_score(y_test, clf.predict(x_test))\n",
    "print(f'Error: train {err_train:.1%} test {err_test:.1%}')"
   ]
  },
  {
   "cell_type": "markdown",
   "metadata": {},
   "source": [
    "## Ejercicio\n",
    "\n",
    "Halla una SVM de mínimo error en MNIST probando diferentes valores de $C$ y kernels. Por cada kernel probado, describe los experimentos realizados y presenta los resultados obtenidos mediante gráficas que faciliten su interpretación."
   ]
  }
 ],
 "metadata": {
  "kernelspec": {
   "display_name": "Python 3",
   "language": "python",
   "name": "python3"
  },
  "language_info": {
   "codemirror_mode": {
    "name": "ipython",
    "version": 3
   },
   "file_extension": ".py",
   "mimetype": "text/x-python",
   "name": "python",
   "nbconvert_exporter": "python",
   "pygments_lexer": "ipython3",
   "version": "3.11.4"
  }
 },
 "nbformat": 4,
 "nbformat_minor": 2
}
