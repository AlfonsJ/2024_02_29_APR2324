{
 "cells": [
  {
   "cell_type": "markdown",
   "metadata": {},
   "source": [
    "# Tema 5. Máquinas de vectores soporte"
   ]
  },
  {
   "cell_type": "markdown",
   "metadata": {},
   "source": [
    "## Comentarios sobre las transpas"
   ]
  },
  {
   "cell_type": "markdown",
   "metadata": {},
   "source": [
    "**2. Clasificadores de margen máximo: SVM**\n",
    "* [**SVMs:**](https://github.com/AlfonsJ/PML1/tree/main/P04%20Modelos%20no%20param%C3%A9tricos/T17%20M%C3%A9todos%20kernel/17.3%20Support%20vector%20machines) $\\;$ veremos las secciones 17.3.0-17.3.3 del PML"
   ]
  },
  {
   "cell_type": "markdown",
   "metadata": {},
   "source": [
    "**3. Núcleos**\n",
    "* [**Kernels Mercer:**](https://github.com/AlfonsJ/PML1/tree/main/P04%20Modelos%20no%20param%C3%A9tricos/T17%20M%C3%A9todos%20kernel/17.1%20Kernels%20Mercer) $\\;$ veremos la sección 17.1 del PML\n",
    "* [**El kernel trick:**](https://github.com/AlfonsJ/PML1/blob/main/P04%20Modelos%20no%20param%C3%A9tricos/T17%20M%C3%A9todos%20kernel/17.3%20Support%20vector%20machines/17.3.4%20El%20kernel%20trick.ipynb) $\\;$ el uso de kernels Mercer con SVMs se describe en la sección 17.3.4 del PML"
   ]
  },
  {
   "cell_type": "markdown",
   "metadata": {},
   "source": [
    "**4. SVM para problemas de $C$ clases**\n",
    "* [**Clasificación multi-clase con SVMs:**](https://github.com/AlfonsJ/PML1/blob/main/P04%20Modelos%20no%20param%C3%A9tricos/T17%20M%C3%A9todos%20kernel/17.3%20Support%20vector%20machines/17.3.7%20Clasificaci%C3%B3n%20multi-clase%20con%20SVMs.ipynb) $\\;$ la clasificación multi-clase con SVMs se presenta en la sección 17.3.7 del PML"
   ]
  },
  {
   "cell_type": "markdown",
   "metadata": {},
   "source": [
    "## Ejercicios de seguimiento propuestos"
   ]
  },
  {
   "cell_type": "markdown",
   "metadata": {},
   "source": [
    "### Problemas de redes en exámenes de los tres últimos cursos\n",
    "\n",
    "En el directorio [T5 Problemas sobre SVMs](https://github.com/AlfonsJ/2024_02_29_APR2324/tree/main/T5%20M%C3%A1quinas%20de%20vectores%20soporte/T5%20Problemas%20sobre%20SVMs) encontrarás un cuaderno por cada problema de SVMs en exámenes de los tres últimos cursos. Cada cuaderno incluye enunciado y solución. Trata de resolver por tu cuenta cada problema, escanea (o fotografía) las soluciones hechas a mano y adjúntalas a la tarea PoliFormaT."
   ]
  }
 ],
 "metadata": {
  "language_info": {
   "name": "python"
  }
 },
 "nbformat": 4,
 "nbformat_minor": 2
}
