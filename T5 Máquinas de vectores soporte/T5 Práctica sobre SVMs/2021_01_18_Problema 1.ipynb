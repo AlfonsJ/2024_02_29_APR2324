{
 "cells": [
  {
   "cell_type": "markdown",
   "metadata": {},
   "source": [
    "# 2021_01_18_Problema 1\n",
    "\n",
    "En la siguiente tabla se presenta una muestra de entrenamiento no linealmente separable en $\\mathbb{R}^2$ y los correspondientes multiplicadores de Lagrange óptimos obtenidos al entrenar una máquina de vectores soporte con esta muestra (y C=10):\n",
    "$$\\begin{array}{|l||rrrrrrrr|}\n",
    "\\hline\n",
    "i &  1 &  2 &  3 &  4 &  5 &  6 & 7 & 8\\\\\n",
    "\\hline\n",
    "x_{i1} &  1 &  3 &  4 &  4 &  3 &  1 & 3 & 2\\\\\n",
    "x_{i2} &  4 &  2 &  1 &  3 &  1 &  2 & 3 & 3\\\\\n",
    "\\hline\n",
    "\\text{Clase} & +1 & +1 & -1 & -1 & -1 & +1& +1 & -1\\\\\n",
    "\\hline\n",
    "\\hline\n",
    "\\alpha^\\star_i & ~0.0 & 10.0 & 0.0 & 6.0 & 6.4 & 2.4 & 10.0 & 10.0\\\\\n",
    "\\hline\n",
    "\\end{array}$$\n",
    "\n",
    "Se pide:\n",
    "1. Obtener la función discriminante lineal correspondiente y el valor del margen\n",
    "2. Calcular las tolerancias de cada muestra de aprendizaje\n",
    "3. Representar gráficamente la frontera lineal de separación entre clases, los márgenes y las muestras de entrenamiento,\n",
    "  indicando cuáles son vectores soporte\n",
    "4. Clasificar la muestra $(4,4)^t$"
   ]
  },
  {
   "cell_type": "code",
   "execution_count": 24,
   "metadata": {},
   "outputs": [
    {
     "name": "stdout",
     "output_type": "stream",
     "text": [
      "alpha:  [0.  1.  0.  0.6 1.  0.6 1.  1. ]\n"
     ]
    }
   ],
   "source": [
    "import numpy as np; from sklearn import svm\n",
    "X = np.array([[1, 4], [3, 2], [4, 1], [4, 3], [3, 1], [1, 2], [3, 3], [2, 3]]).astype(np.float32)\n",
    "y = np.array([1, 1, -1, -1, -1, 1, 1, -1]).astype(np.int32); N, D = X.shape\n",
    "clf = svm.SVC(kernel='linear', shrinking=False).fit(X, y)\n",
    "a = np.zeros(N); a[clf.support_] = clf.dual_coef_ * y[clf.support_]; print('alpha: ', a)\n",
    "\n"
   ]
  }
 ],
 "metadata": {
  "kernelspec": {
   "display_name": "Python 3",
   "language": "python",
   "name": "python3"
  },
  "language_info": {
   "codemirror_mode": {
    "name": "ipython",
    "version": 3
   },
   "file_extension": ".py",
   "mimetype": "text/x-python",
   "name": "python",
   "nbconvert_exporter": "python",
   "pygments_lexer": "ipython3",
   "version": "3.11.4"
  },
  "orig_nbformat": 4
 },
 "nbformat": 4,
 "nbformat_minor": 2
}
