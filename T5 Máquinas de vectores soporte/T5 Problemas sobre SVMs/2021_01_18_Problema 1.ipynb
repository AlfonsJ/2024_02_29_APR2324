{
 "cells": [
  {
   "cell_type": "markdown",
   "metadata": {},
   "source": [
    "# 2021_01_18_Problema 1\n",
    "\n",
    "En la siguiente tabla se presenta una muestra de entrenamiento no linealmente separable en $\\mathbb{R}^2$ y los correspondientes multiplicadores de Lagrange óptimos obtenidos al entrenar una máquina de vectores soporte con esta muestra (y C=10):\n",
    "$$\\begin{array}{|l||rrrrrrrr|}\n",
    "\\hline\n",
    "i &  1 &  2 &  3 &  4 &  5 &  6 & 7 & 8\\\\\n",
    "\\hline\n",
    "x_{i1} &  1 &  3 &  4 &  4 &  3 &  1 & 3 & 2\\\\\n",
    "x_{i2} &  4 &  2 &  1 &  3 &  1 &  2 & 3 & 3\\\\\n",
    "\\hline\n",
    "\\text{Clase} & +1 & +1 & -1 & -1 & -1 & +1& +1 & -1\\\\\n",
    "\\hline\n",
    "\\hline\n",
    "\\alpha^\\star_i & ~0.0 & 10.0 & 0.0 & 6.0 & 6.4 & 2.4 & 10.0 & 10.0\\\\\n",
    "\\hline\n",
    "\\end{array}$$\n",
    "\n",
    "Se pide:\n",
    "1. Obtener la función discriminante lineal correspondiente y el valor del margen\n",
    "2. Calcular las tolerancias de cada muestra de aprendizaje\n",
    "3. Representar gráficamente la frontera lineal de separación entre clases, los márgenes y las muestras de entrenamiento, indicando cuáles son vectores soporte\n",
    "4. Clasificar la muestra $(4,4)^t$"
   ]
  },
  {
   "cell_type": "markdown",
   "metadata": {},
   "source": [
    "## Solución\n",
    "\n",
    "**Pesos de la función discriminante:**\n",
    "\n",
    "$\\boldsymbol{\\theta}^\\star = %c_1~\\alpha^\\star_1~\\boldsymbol{x_1} + \n",
    "                c_2~\\alpha^\\star_2~\\boldsymbol{x_2} \n",
    "%              + c_3~\\alpha^\\star_3~\\boldsymbol{x_3} \n",
    "              + c_4~\\alpha^\\star_4~\\boldsymbol{x_4} \n",
    "              + c_5~\\alpha^\\star_5~\\boldsymbol{x_5} \n",
    "              + c_5~\\alpha^\\star_6~\\boldsymbol{x_6}\n",
    "              + c_5~\\alpha^\\star_7~\\boldsymbol{x_7}\n",
    "              + c_5~\\alpha^\\star_8~\\boldsymbol{x_8}$\n",
    "\n",
    "$\\theta^*_1 ~=~ (+1)~10.0~3+(-1)~6.0~4+(-1)~6.4~3+(+1)~2.4~1+(+1)~10.0~3+(-1)~10~2 ~=~ -0.8$\n",
    "\n",
    "$\\theta^*_2 ~=~ (+1)~10.0~2+(-1)~6.0~3+(-1)~6.4~1+(+1)~2.4~2+(+1)~10.0~3+(-1)~10~3 ~=~ +0.4$\n",
    "\n",
    "Usando el vector soporte $\\boldsymbol{x_4}$ (que verifica la condición : $0 < \\alpha_4^* < C=10$)\n",
    "\n",
    "$\\theta^\\star_0 = c_4-{\\boldsymbol{\\theta}^\\star}^t\\boldsymbol{x_4} = -1 - ((-0.8)~(4) + (0.4)~(3))~=~1.0$ \n",
    "\n",
    "Margen: $\\displaystyle \\frac{2}{\\|\\boldsymbol{\\theta}\\|} \\approx 2.23$\n",
    "\n",
    "**Calcular las tolerancias de cada muestra de aprendizaje:**\n",
    "$$\\begin{array}{llll}\n",
    "  \\zeta_1=0.0; & \\zeta_2=1~-~c_2~({\\boldsymbol{\\theta}^\\star}^t\\boldsymbol{x_2}+ \\theta^\\star_0)= 1.6; &\n",
    "  \\zeta_3=0.0; & \\zeta_4=0.0;\\\\\n",
    "  \\zeta_5=0.0; & \\zeta_6=0.0; &\n",
    "  \\zeta_7=1~-~c_7~({\\boldsymbol{\\theta}^\\star}^t\\boldsymbol{x_7}+ \\theta^\\star_0)= 1.2; &\n",
    "  \\zeta_8=1~-~c_8~({\\boldsymbol{\\theta}^\\star}^t\\boldsymbol{x_8}+ \\theta^\\star_0)= 1.6\n",
    "\\end{array}$$\n",
    "\n",
    "**Frontera de separación y representación gráfica:**\n",
    "\n",
    "Ecuación de la frontera lineal de separación:\n",
    "$~ - 0.8~x_1 + 0.4~x_2 + 1.0 ~=~ 0$\n",
    "\n",
    "Los vectores de entrenamiento son todos los de la tabla. De ellos, los vectores soporte son: $(2,3)^t, (4,2)^t, (3,2)^t, (2,2)^t\\,(1,2)^t$.\n",
    "\n",
    "El margen lo definen las dos rectas paralelas a la frontera de separación, cada una de ellas situada a una distancia de $2.23/2\n",
    "\\approx 1.12$ y cuyas ecuaciones son:\n",
    "\n",
    "$~ - 0.8~x_1 + 0.4~x_2 + 1.0 ~=~ +1\\quad$ y $\\quad - 0.8~x_1 + 0.4~x_2 + 1.0 ~=~ -1$\n",
    "\n",
    "Representación gráfica:\n",
    "<div><img src=\"2021_01_18_Problema 1.png\" width=400></div>\n",
    "\n",
    "**Clasificación de la muestra $(4,4)^t$:**\n",
    "\n",
    "El valor de la función discriminante para este vector es:  \n",
    "\n",
    "$\\theta^*_1~x_1+\\theta^*_2~x_2~+~\\theta^*_0= (-0.8)*4 + (0.467)*4 + 1.0 = -0.6 < 0 ~\\Rightarrow\\,$ clase -1.\n"
   ]
  },
  {
   "cell_type": "markdown",
   "metadata": {},
   "source": [
    "## Solución con sklearn"
   ]
  },
  {
   "cell_type": "code",
   "execution_count": 1,
   "metadata": {},
   "outputs": [
    {
     "name": "stdout",
     "output_type": "stream",
     "text": [
      "alfa:  [ 0.  10.   0.   6.   6.4  2.4 10.  10. ]\n",
      "w: [-0.8  0.4]  w0: 1.0  margen: 2.2361  t: [ 0.   1.6  0.  -0.  -0.  -0.   1.2  1.6]\n",
      "Clase de [4, 4] : -1\n"
     ]
    }
   ],
   "source": [
    "import numpy as np; np.set_printoptions(precision=4, suppress=True); from sklearn import svm\n",
    "X = np.array([[1, 4], [3, 2], [4, 1], [4, 3], [3, 1], [1, 2], [3, 3], [2, 3]]).astype(np.float32)\n",
    "y = np.array([1, 1, -1, -1, -1, 1, 1, -1]).astype(np.int32); N, D = X.shape\n",
    "C = 10.0; clf = svm.SVC(C=C, kernel='linear').fit(X, y)\n",
    "a = np.zeros(N); a[clf.support_] = clf.dual_coef_ * y[clf.support_]; print('alfa: ', a)\n",
    "w = clf.coef_[0]; w0 = clf.intercept_ [0]; m = 2.0/np.linalg.norm(w); \n",
    "t = np.zeros(N); t[clf.support_] = 1.0 - y[clf.support_] * (clf.support_vectors_ @ w + w0)\n",
    "print('w:', w, ' w0:', round(w0, 2), ' margen:', round(m, 4), ' t:', t)\n",
    "Z = [[4, 4]]; print('Clase de', Z[0],':',clf.predict([[4, 4]])[0])"
   ]
  },
  {
   "cell_type": "code",
   "execution_count": 2,
   "metadata": {},
   "outputs": [
    {
     "data": {
      "image/png": "[encoded data removed]",
      "text/plain": [
       "<Figure size 400x400 with 1 Axes>"
      ]
     },
     "metadata": {},
     "output_type": "display_data"
    }
   ],
   "source": [
    "import matplotlib.pyplot as plt\n",
    "fig, ax = plt.subplots(1, 1, figsize=(4, 4)); ax.scatter(*X.T, c=y)\n",
    "x1 = np.linspace(*ax.get_xlim()); x2 = (-w[0]*x1 - w0)/w[1]\n",
    "ax.plot(x1, x2, x1, x2 - 1/w[1], x1, x2 + 1/w[1])\n",
    "ax.scatter(*clf.support_vectors_.T, s=128, facecolors='none', edgecolors='r');"
   ]
  }
 ],
 "metadata": {
  "kernelspec": {
   "display_name": "Python 3",
   "language": "python",
   "name": "python3"
  },
  "language_info": {
   "codemirror_mode": {
    "name": "ipython",
    "version": 3
   },
   "file_extension": ".py",
   "mimetype": "text/x-python",
   "name": "python",
   "nbconvert_exporter": "python",
   "pygments_lexer": "ipython3",
   "version": "3.11.4"
  },
  "orig_nbformat": 4
 },
 "nbformat": 4,
 "nbformat_minor": 2
}
