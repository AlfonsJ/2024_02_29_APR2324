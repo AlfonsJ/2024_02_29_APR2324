{
 "cells": [
  {
   "cell_type": "markdown",
   "metadata": {},
   "source": [
    "# 2023_01_16_Problema 1\n",
    "\n",
    "En la siguiente tabla se presenta una muestra de entrenamiento no linealmente separable en $\\\\mathbb{R}^2$ y los correspondientes multiplicadores de Lagrange óptimos obtenidos al entrenar una máquina de vectores soporte con esta muestra (y C=10):\n",
    "$$\\begin{array}{|l||rrrrrrrr|}\n",
    "\\hline\n",
    " i     &  1 &  2 &  3 &  4 &  5 &  6 &  7 &  8 \\\\\n",
    "\\hline\n",
    " x_{i1} &  1 &  2 &  2 &  4 &  3 &  2 &  4 &  4 \\\\\n",
    " x_{i2} &  4 &  2 &  3 &  2 &  4 &  5 &  4 &  3 \\\\\n",
    "\\hline\n",
    "\\text{Clase} & +1 & +1 & -1 & +1 & -1 & -1 & -1 & -1 \\\\\n",
    "\\hline\n",
    "\\hline\n",
    " \\alpha^\\star_i & \n",
    "% 666.7& 0 & 10000 & 666.9& 0 & 0 & 0 & 333.6 \\\\\n",
    "  7.11  & ~0 & ~10    & \\!\\!9.11 & ~~0 & ~~0 & ~~0 & \\!6.22\\\\\n",
    "\\hline\n",
    "\\end{array}$$\n",
    "\n",
    "Se pide:\n",
    "* Obtener la función discriminante lineal correspondiente.\n",
    "* Representar gráficamente la frontera lineal de separación entre clases y las muestras de entrenamiento, indicando cuáles son vectores soporte.\n",
    "* Clasificar la muestra $(5,5)^t$."
   ]
  },
  {
   "cell_type": "markdown",
   "metadata": {},
   "source": [
    "## Solución\n",
    "\n",
    "**Pesos de la función discriminante:**\n",
    "\n",
    "$\\boldsymbol{\\theta}^\\star = c_1~\\alpha^\\star_1~\\boldsymbol{x_1} \n",
    "              + c_3~\\alpha^\\star_3~\\boldsymbol{x_3} \n",
    "              + c_4\\alpha^\\star_4~\\boldsymbol{x_4} \n",
    "              + c_8\\alpha^\\star_8~\\boldsymbol{x_8} $\n",
    "\n",
    "$\\theta^*_1~=~(+1)~(1)~(7.11)+(-1)~(2)~(10)+(+1)~(4)~(9.11)+(-1)~(4)~(6.22)~=~-1.33$\n",
    "\n",
    "$\\theta^*_2~=~(+1)~(4)~(7.11)+(-1)~(3)~(10)+(+1)~(2)~(9.11)+(-1)~(3)~(6.22)~=~-2.00$\n",
    "\n",
    "Usando el vector soporte $\\boldsymbol{x_1}$ (que verifica la condición : $0 < \\alpha_1^* < C$)\n",
    "\n",
    "$\\theta^\\star_0 = c_1-{\\boldsymbol{\\theta}^\\star}^t\\boldsymbol{x_1} = 1 - ((-1.33)~(1) - (2.00)~(4)) = 10.33$\n",
    " \n",
    "**Frontera de separación y representación gráfica:**\n",
    "\n",
    "Ecuación de la frontera lineal de separación: $~ 10.33 - 1.33~x_1 -  2.00~x_2 ~=~ 0 ~~\\rightarrow~~$  $  x_2 = - 0.665~x_1 + 5.165\\,$.\n",
    "\n",
    "Los vectores de entrenamiento son todos los de la tabla.  De ellos, los vectores soporte son: $(1,4)^t, (2,3)^t, (4,2)^t, (4,3)^t\\,$.\n",
    "\n",
    "Representación gráfica:\n",
    "<div><img src=\"2023_01_16_Problema 1.png\" width=400></div>\n",
    "\n",
    "**Clasificación de la muestra $(5,5)^t$:**\n",
    "\n",
    "El valor de la función discriminante para este vector es: $~\\theta^*_0+\\theta^*_1~5+\\theta^*_2~5~=-6.32 <0 ~\\Rightarrow\\,$ clase -1.\n"
   ]
  }
 ],
 "metadata": {
  "kernelspec": {
   "display_name": "Python 3",
   "language": "python",
   "name": "python3"
  },
  "language_info": {
   "codemirror_mode": {
    "name": "ipython",
    "version": 3
   },
   "file_extension": ".py",
   "mimetype": "text/x-python",
   "name": "python",
   "nbconvert_exporter": "python",
   "pygments_lexer": "ipython3",
   "version": "3.11.4"
  },
  "orig_nbformat": 4
 },
 "nbformat": 4,
 "nbformat_minor": 2
}
