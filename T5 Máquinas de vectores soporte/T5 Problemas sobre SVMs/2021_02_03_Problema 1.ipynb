{
 "cells": [
  {
   "cell_type": "markdown",
   "metadata": {},
   "source": [
    "# 2021_02_03_Problema 1\n",
    "\n",
    "En la siguiente tabla se presenta una muestra de entrenamiento no linealmente separable y los correspondientes multiplicadores de Lagrange óptimos obtenidos al entrenar una máquina de vectores soporte con esta muestra (y C=10):\n",
    "$$\\begin{array}{|l||rrrrr|}\n",
    "\\hline\n",
    "i     &  1 &  2 &  3 &  4 &  5 \\\\\n",
    "\\hline\n",
    "x_{i1} &  1 &  1 &  1 &  1 &  1 \\\\\n",
    "x_{i2} &  3 &  4 &  2 &  5 &  1 \\\\\n",
    "\\hline\n",
    "\\text{Clase} & -1 & +1 & +1 & -1 & +1  \\\\\n",
    "\\hline\n",
    "\\hline\n",
    "\\alpha^\\star_i & 10 & 10 & 3.56 & 3.56 & 0 \\\\\n",
    "\\hline\n",
    "\\end{array}$$\n",
    "\n",
    "Se pide:\n",
    "1. Obtener la función discriminante lineal correspondiente\n",
    "2. Representar gráficamente la frontera lineal de separación entre clases y las muestras de entrenamiento, indicando cuáles son vectores soporte\n",
    "3. Clasificar la muestra $(1,3.5)^t$"
   ]
  },
  {
   "cell_type": "markdown",
   "metadata": {},
   "source": [
    "## Solución\n",
    "\n",
    "**Pesos de la función discriminante:**\n",
    "\n",
    "$\\boldsymbol{\\theta}^\\star = c_1~\\alpha^\\star_1~\\boldsymbol{x_1} \n",
    "              + c_2~\\alpha^\\star_2~\\boldsymbol{x_2} \n",
    "              + c_3~\\alpha^\\star_3~\\boldsymbol{x_3} \n",
    "              + c_4~\\alpha^\\star_4~\\boldsymbol{x_4}~\\approx~(0.0,-0.67)$\n",
    "\n",
    "Usando el vector soporte $\\boldsymbol{x_4}$ (que verifica la condición : $0 < \\alpha_4^* < C$)\n",
    "\n",
    "$\\theta^\\star_0 = c_4-{\\boldsymbol{\\theta}^\\star}^t\\boldsymbol{x_4} \\approx 2.33$\n",
    "\n",
    "**Frontera de separación y representación gráfica:**\n",
    "\n",
    "Ecuación de la frontera lineal de separación: $\\; 2.33 -  0.67~x_2 ~=~ 0$ \n",
    "\n",
    "Ecuaciones de los márgenes: $\\; 2.33 -  0.67~x_2 ~=+1\\;$ y $\\; 2.33 -  0.67~x_2 ~=-1$\n",
    "\n",
    "Los vectores de entrenamiento son todos los de la tabla.  De ellos,\n",
    "los vectores soporte son: $(1,3)^t, (1,4)^t, (1,2)^t, (1,5)^t$.\n",
    "\n",
    "Representación gráfica:\n",
    "<div><img src=\"2021_02_03_Problema 1.png\" width=400></div>\n",
    "\n",
    "**Clasificación de la muestra $(1,3.5)^t$:**\n",
    "\n",
    "El valor de la función discriminante para este vector es:\n",
    "$~ 2.33 -  0.67~x_2~\\approx~-0.015 < 0 ~\\Rightarrow\\,$ clase -1.\n"
   ]
  }
 ],
 "metadata": {
  "kernelspec": {
   "display_name": "Python 3",
   "language": "python",
   "name": "python3"
  },
  "language_info": {
   "codemirror_mode": {
    "name": "ipython",
    "version": 3
   },
   "file_extension": ".py",
   "mimetype": "text/x-python",
   "name": "python",
   "nbconvert_exporter": "python",
   "pygments_lexer": "ipython3",
   "version": "3.11.4"
  },
  "orig_nbformat": 4
 },
 "nbformat": 4,
 "nbformat_minor": 2
}
