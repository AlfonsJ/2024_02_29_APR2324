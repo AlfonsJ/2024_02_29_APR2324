{
 "cells": [
  {
   "cell_type": "markdown",
   "metadata": {},
   "source": [
    "# 2021_02_03_Problema 1\n",
    "\n",
    "En la siguiente tabla se presenta una muestra de entrenamiento no linealmente separable y los correspondientes multiplicadores de Lagrange óptimos obtenidos al entrenar una máquina de vectores soporte con esta muestra (y C=10):\n",
    "$$\\begin{array}{|l||rrrrr|}\n",
    "\\hline\n",
    "i     &  1 &  2 &  3 &  4 &  5 \\\\\n",
    "\\hline\n",
    "x_{i1} &  1 &  1 &  1 &  1 &  1 \\\\\n",
    "x_{i2} &  3 &  4 &  2 &  5 &  1 \\\\\n",
    "\\hline\n",
    "\\text{Clase} & -1 & +1 & +1 & -1 & +1  \\\\\n",
    "\\hline\n",
    "\\hline\n",
    "\\alpha^\\star_i & 10 & 10 & 3.56 & 3.56 & 0 \\\\\n",
    "\\hline\n",
    "\\end{array}$$\n",
    "\n",
    "Se pide:\n",
    "1. Obtener la función discriminante lineal correspondiente\n",
    "2. Representar gráficamente la frontera lineal de separación entre clases y las muestras de entrenamiento, indicando cuáles son vectores soporte\n",
    "3. Clasificar la muestra $(1,3.5)^t$"
   ]
  },
  {
   "cell_type": "markdown",
   "metadata": {},
   "source": [
    "## Solución\n",
    "\n",
    "**Pesos de la función discriminante:**\n",
    "\n",
    "$\\boldsymbol{\\theta}^\\star = c_1~\\alpha^\\star_1~\\boldsymbol{x_1} \n",
    "              + c_2~\\alpha^\\star_2~\\boldsymbol{x_2} \n",
    "              + c_3~\\alpha^\\star_3~\\boldsymbol{x_3} \n",
    "              + c_4~\\alpha^\\star_4~\\boldsymbol{x_4}~\\approx~(0.0,-0.67)$\n",
    "\n",
    "Usando el vector soporte $\\boldsymbol{x_4}$ (que verifica la condición : $0 < \\alpha_4^* < C$)\n",
    "\n",
    "$\\theta^\\star_0 = c_4-{\\boldsymbol{\\theta}^\\star}^t\\boldsymbol{x_4} \\approx 2.33$\n",
    "\n",
    "**Frontera de separación y representación gráfica:**\n",
    "\n",
    "Ecuación de la frontera lineal de separación: $\\; 2.33 -  0.67~x_2 ~=~ 0$ \n",
    "\n",
    "Ecuaciones de los márgenes: $\\; 2.33 -  0.67~x_2 ~=+1\\;$ y $\\; 2.33 -  0.67~x_2 ~=-1$\n",
    "\n",
    "Los vectores de entrenamiento son todos los de la tabla.  De ellos,\n",
    "los vectores soporte son: $(1,3)^t, (1,4)^t, (1,2)^t, (1,5)^t$.\n",
    "\n",
    "Representación gráfica:\n",
    "<div><img src=\"2021_02_03_Problema 1.png\" width=400></div>\n",
    "\n",
    "**Clasificación de la muestra $(1,3.5)^t$:**\n",
    "\n",
    "El valor de la función discriminante para este vector es:\n",
    "$~ 2.33 -  0.67~x_2~\\approx~-0.015 < 0 ~\\Rightarrow\\,$ clase -1.\n"
   ]
  },
  {
   "cell_type": "markdown",
   "metadata": {},
   "source": [
    "## Solución con sklearn"
   ]
  },
  {
   "cell_type": "code",
   "execution_count": 1,
   "metadata": {},
   "outputs": [
    {
     "name": "stdout",
     "output_type": "stream",
     "text": [
      "alfa:  [10.     10.      3.5556  3.5556  0.    ]\n",
      "w: [ 0.     -0.6667]  w0: 2.33  margen: 3.0  t: [ 1.3333  1.3333  0.     -0.      0.    ]\n",
      "Clase de [1, 3.5] : 1\n"
     ]
    }
   ],
   "source": [
    "import numpy as np; np.set_printoptions(precision=4, suppress=True); from sklearn import svm\n",
    "X = np.array([[1, 3], [1, 4], [1, 2], [1, 5], [1, 1]]).astype(np.float32)\n",
    "y = np.array([-1, 1, 1, -1, 1]).astype(np.int32); N, D = X.shape\n",
    "C = 10.0; clf = svm.SVC(C=C, kernel='linear').fit(X, y)\n",
    "a = np.zeros(N); a[clf.support_] = clf.dual_coef_ * y[clf.support_]; print('alfa: ', a)\n",
    "w = clf.coef_[0]; w0 = clf.intercept_ [0]; m = 2.0/np.linalg.norm(w); \n",
    "t = np.zeros(N); t[clf.support_] = 1.0 - y[clf.support_] * (clf.support_vectors_ @ w + w0)\n",
    "print('w:', w, ' w0:', round(w0, 2), ' margen:', round(m, 4), ' t:', t)\n",
    "Z = [[1, 3.5]]; print('Clase de', Z[0],':',clf.predict(Z)[0])"
   ]
  },
  {
   "cell_type": "code",
   "execution_count": 2,
   "metadata": {},
   "outputs": [
    {
     "data": {
      "image/png": "[encoded data removed]",
      "text/plain": [
       "<Figure size 400x400 with 1 Axes>"
      ]
     },
     "metadata": {},
     "output_type": "display_data"
    }
   ],
   "source": [
    "import matplotlib.pyplot as plt\n",
    "fig, ax = plt.subplots(1, 1, figsize=(4, 4)); ax.scatter(*X.T, c=y)\n",
    "x1 = np.linspace(*ax.get_xlim()); x2 = (-w[0]*x1 - w0)/w[1]\n",
    "ax.plot(x1, x2, x1, x2 - 1/w[1], x1, x2 + 1/w[1])\n",
    "ax.scatter(*clf.support_vectors_.T, s=128, facecolors='none', edgecolors='r');"
   ]
  }
 ],
 "metadata": {
  "kernelspec": {
   "display_name": "Python 3",
   "language": "python",
   "name": "python3"
  },
  "language_info": {
   "codemirror_mode": {
    "name": "ipython",
    "version": 3
   },
   "file_extension": ".py",
   "mimetype": "text/x-python",
   "name": "python",
   "nbconvert_exporter": "python",
   "pygments_lexer": "ipython3",
   "version": "3.11.4"
  },
  "orig_nbformat": 4
 },
 "nbformat": 4,
 "nbformat_minor": 2
}
