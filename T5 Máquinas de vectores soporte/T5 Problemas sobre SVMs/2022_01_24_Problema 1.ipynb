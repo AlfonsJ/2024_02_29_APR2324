{
 "cells": [
  {
   "cell_type": "markdown",
   "metadata": {},
   "source": [
    "# 2022_01_24_Problema 1\n",
    "\n",
    "Se dispone de un conjunto de entrenamiento en $\\mathbb{R}^2$ con el que se prentende entrenar un modelo basado en máquinas de vectores soporte. Los multiplicadores de Lagrange óptimos obtenidos para $C=10$ son:\n",
    "$$\\begin{array}{|l||rrrrrrrr|}\n",
    "\\hline\n",
    "i     &  1 &  2 &  3 &  4 &  5 &  6 &  7 & 8\\\\\n",
    "\\hline\n",
    "x_{i1} &  3 &  2 &  4 &  2 &  2 &  4 &  1 & 4\\\\\n",
    "x_{i2} &  4 &  5 &  4 &  2 &  3 &  2 &  4 & 3\\\\ \n",
    "\\hline\n",
    "\\text{Clase} & -1& -1 & -1& +1 & -1& +1 & +1 & -1\\\\\n",
    "\\hline\n",
    "\\hline\n",
    "\\alpha^\\star_i & 0 & 0  &  0 &  0 &  10& 9.11&7.11&6.22\\\\\n",
    "\\hline\n",
    "\\end{array}$$\n",
    "\n",
    "Se pide:\n",
    "1. Obtener la función discriminante lineal correspondiente\n",
    "2. Representar gráficamente la frontera lineal de separación entre clases y las muestras de entrenamiento, indicando cuáles son\n",
    "  vectores soporte\n",
    "3. Clasificar la muestra $(6,5)^t$"
   ]
  },
  {
   "cell_type": "markdown",
   "metadata": {},
   "source": [
    "## Solución\n",
    "\n",
    "**Pesos de la función discriminante:**\n",
    "\n",
    "$\\boldsymbol{\\theta}^\\star = c_5~\\alpha^\\star_5~\\boldsymbol{x_5} \n",
    "              + c_6~\\alpha^\\star_6~\\boldsymbol{x_6} \n",
    "              + c_7\\alpha^\\star_4~\\boldsymbol{x_7} \n",
    "              + c_8\\alpha^\\star_8~\\boldsymbol{x_8} $\n",
    "\n",
    "$\\theta^*_1~=~ (-1)~(2)~(10)+(+1)~(4)~(9.11)+(+1)~(1)~(7.11)+(-1)~(4)~(6.22) ~=~-1.33$\n",
    "\n",
    "$\\theta^*_2~=~ (-1)~(3)~(10)+(+1)~(2)~(9.11)+(+1)~(4)~(7.11)+(-1)~(3)~(6.22) ~=~-2.00$\n",
    "\n",
    "Usando el vector soporte $\\boldsymbol{x_7}$ (que verifica la condición : $0 < \\alpha_1^* < C$)\n",
    "\n",
    "$\\theta^\\star_0 = c_7 - {\\boldsymbol{\\theta}^\\star}^t\\boldsymbol{x_7} =  1 - ((-1.33)~(1) - (2.00)~(4)) = 10.33$\n",
    "\n",
    "Función discriminante: $\\;\\phi(\\boldsymbol{x}) = 10.33 - 1.33 x_1 - 2 x_2$\n",
    "\n",
    "**Frontera de separación y representación gráfica:**\n",
    "\n",
    "Ecuación de la frontera lineal de separación:\n",
    "$~ 10.33 - 1.33~x_1 -  2.00~x_2 ~=~ 0 ~~\\rightarrow~~$ \n",
    "$  x_2 = - 0.665~x_1 + 5.165\\,$.\n",
    "\n",
    "Los vectores de entrenamiento son todos los de la tabla.  De ellos,\n",
    "los vectores soporte son: $(1,4)^t, (2,3)^t, (4,2)^t, (4,3)^t\\,$.\n",
    "\n",
    "Representación gráfica:\n",
    "<div><img src=\"2022_01_24_Problema 1.png\" width=400></div>\n",
    "\n",
    "**Clasificación de la muestra $(6,5)^t$:**\n",
    "\n",
    "El valor de la función discriminante para  $(6,5)^t$  es:\n",
    "\n",
    "$~\\theta^*_0+6*\\theta^*_1+5*\\theta^*_2~=~ 10.33 + 6*(-1.33) + 5*(-2.00)~=~ -7.65 <0 ~\\Rightarrow\\,$ clase -1."
   ]
  }
 ],
 "metadata": {
  "kernelspec": {
   "display_name": "Python 3",
   "language": "python",
   "name": "python3"
  },
  "language_info": {
   "codemirror_mode": {
    "name": "ipython",
    "version": 3
   },
   "file_extension": ".py",
   "mimetype": "text/x-python",
   "name": "python",
   "nbconvert_exporter": "python",
   "pygments_lexer": "ipython3",
   "version": "3.11.4"
  },
  "orig_nbformat": 4
 },
 "nbformat": 4,
 "nbformat_minor": 2
}
