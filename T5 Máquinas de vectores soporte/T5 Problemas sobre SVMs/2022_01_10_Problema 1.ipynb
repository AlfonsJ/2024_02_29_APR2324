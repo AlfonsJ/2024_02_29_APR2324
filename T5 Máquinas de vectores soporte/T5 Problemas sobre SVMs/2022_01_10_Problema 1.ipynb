{
 "cells": [
  {
   "cell_type": "markdown",
   "metadata": {},
   "source": [
    "# 2022_01_10_Problema 1\n",
    "\n",
    "Para entrenar un modelo basado en máquinas de vectores soporte, se dispone de un conjunto de entrenamiento en $\\mathbb{R}^2$.  Estos vectores y los correspondientes multiplicadores de Lagrange óptimos obtenidos con $C=10$ son:\n",
    "$$\\begin{array}{|l||rrrrrrrr|} % \n",
    "\\hline\n",
    "i      &  1 &    2 &  3  &   4 &   5 &  6  &  7 &  8 \\\\\n",
    "\\hline\n",
    "x_{i1}  &  2 &    2 &  2  &   2 &  3  &  4  &  3 &  1 \\\\\n",
    "x_{i2}   &  2 &   3 &  4  &   1 &  2  &  2  &  1 &  4\\\\\n",
    "\\hline\n",
    "\\text{Clase} & +1 & -1 & +1 & -1 & -1 & -1 & -1  & +1\\\\\n",
    "\\hline\n",
    "\\hline\n",
    "\\alpha^\\star_i & 10.0 & 10.0 & 3.78 &~~3.11& 0.67 &~~0&~~0&  ~0 \\\\\n",
    "\\hline\n",
    "\\end{array}$$\n",
    "\n",
    "Se pide:\n",
    "1. Obtener la función discriminante lineal correspondiente\n",
    "2. Obtener la ecuación de la frontera lineal de separación entre clases y representarla gráficamente junto con los vectores de entremamiento, indicando cuáles de ellos son vectores soporte\n",
    "3. Obtener la toleranacia óptima de cada muestra de entrenamiento\n",
    "4. Clasificar la muestra $(1,2)^t$"
   ]
  },
  {
   "cell_type": "markdown",
   "metadata": {},
   "source": [
    "## Solución\n",
    "\n",
    "**Pesos de la función discriminante:**\n",
    "\n",
    "$\\theta^*_1~=~\n",
    "   (+1)~(2)~(10.0)   %3\n",
    "   +(-1)~(2)~(10.0)   %4 \n",
    "   +(+1)~(2)~(3.79)   %5\n",
    "   +(-1)~(2)~(3.11)   %2\n",
    "   +(-1)~(3)~(0.67)   %6\n",
    "   =~-0.67$\n",
    "\n",
    "$\\theta^*_2~=~\n",
    "   (+1)~(2)~(10.0)   %3\n",
    "   +(-1)~(3)~(10.0)   %4 \n",
    "   +(+1)~(4)~(3.79)   %5\n",
    "   +(-1)~(1)~(3.11)   %2\n",
    "   +(-1)~(2)~(0.67)   %6\n",
    "   =~0.67$\n",
    "\n",
    "Usando el vector soporte $\\boldsymbol{x_4}$ (que verifica la condición : $0 < \\alpha_1^* < C$)\n",
    "\n",
    "$\\theta^\\star_0 = c_4-{\\boldsymbol{\\theta}^\\star}^t\\boldsymbol{x_4} = 1 - ((-0.67)~(2) + (0.67)~(1)) = -0.33$ \n",
    "\n",
    "Función discriminante lineal:\n",
    "\n",
    "$\\phi(\\boldsymbol{x}) = -0.33 - 0.67~x_1 +  0.67~x_2$\n",
    "\n",
    "**Frontera de separación y representación gráfica:**\n",
    "\n",
    "Ecuación de la frontera lineal de separación:\n",
    "$-0.33 - 0.67~x_1 +  0.67~x_2 ~=~ 0 ~~\\rightarrow~~$ \n",
    "$  x_2 = 1.0~x_1 + 0.49\\,$.\n",
    "\n",
    "Los vectores de entrenamiento son todos los de la tabla.  De ellos,\n",
    "los vectores soporte son: $(2,1)^t, (2,2)^t, (2,3)^t, (2,4)^t, (3,2)^t\\,$.\n",
    "\n",
    "Representación gráfica:\n",
    "<div><img src=\"2022_01_10_Problema 1.png\" width=400></div>\n",
    "\n",
    "Al lado de cada muestra se muestra el valor del multiplicador de lagrange asociado y la tolerancia.\n",
    "\n",
    "**Tolerancias:**\n",
    "\n",
    "Todas las muestras bien clasificadas y fuera del margen ( $i\\in\\{3, 4, 5, 6, 7, 8\\}$) tienen una tolerancia $\\zeta_i^*=0$ y el resto\n",
    "  \n",
    "$\\zeta_1^*~=~1-c_1~({\\boldsymbol{\\theta}^*}^t~\\boldsymbol{x}_1+\\theta_0^*)~=~1.33$\n",
    "\n",
    "$\\zeta_2^*~=~1-c_2~({\\boldsymbol{\\theta}^*}^t~\\boldsymbol{x}_2+\\theta_0^*)~=~1.33$\n",
    "\n",
    "**Clasificación de la muestra $(1,2)^t$:**\n",
    "\n",
    "El valor de la función discriminante para este vector es: $~\\theta^*_0+1\\,\\theta^*_1+2\\,\\theta^*_2~=~0.34~>~0 ~\\Rightarrow\\,$ clase +1."
   ]
  },
  {
   "cell_type": "markdown",
   "metadata": {},
   "source": [
    "## Solución con sklearn"
   ]
  },
  {
   "cell_type": "code",
   "execution_count": 1,
   "metadata": {},
   "outputs": [
    {
     "name": "stdout",
     "output_type": "stream",
     "text": [
      "alfa:  [10.     10.      3.7775  3.1117  0.6658  0.      0.      0.    ]\n",
      "w: [-0.6658  0.6667]  w0: -0.3353  margen: 2.1226  t: [ 1.3336  1.3331  0.0003 -0.0003  0.0006  0.      0.      0.    ]\n",
      "Clase de [1, 2] : 1\n"
     ]
    }
   ],
   "source": [
    "import numpy as np; np.set_printoptions(precision=4, suppress=True); from sklearn import svm\n",
    "X = np.array([[2, 2], [2, 3], [2, 4], [2, 1], [3, 2], [4, 2], [3, 1], [1, 4]]).astype(np.float32)\n",
    "y = np.array([1, -1, 1, -1, -1, -1, -1, 1]).astype(np.int32); N, D = X.shape\n",
    "C = 10.0; clf = svm.SVC(C=C, kernel='linear').fit(X, y)\n",
    "a = np.zeros(N); a[clf.support_] = clf.dual_coef_ * y[clf.support_]; print('alfa: ', a)\n",
    "w = clf.coef_[0]; w0 = clf.intercept_ [0]; m = 2.0/np.linalg.norm(w); \n",
    "t = np.zeros(N); t[clf.support_] = 1.0 - y[clf.support_] * (clf.support_vectors_ @ w + w0)\n",
    "print('w:', w, ' w0:', round(w0, 4), ' margen:', round(m, 4), ' t:', t)\n",
    "Z = [[1, 2]]; print('Clase de', Z[0],':',clf.predict(Z)[0])"
   ]
  },
  {
   "cell_type": "code",
   "execution_count": 2,
   "metadata": {},
   "outputs": [
    {
     "data": {
      "image/png": "[encoded data removed]",
      "text/plain": [
       "<Figure size 400x400 with 1 Axes>"
      ]
     },
     "metadata": {},
     "output_type": "display_data"
    }
   ],
   "source": [
    "import matplotlib.pyplot as plt\n",
    "fig, ax = plt.subplots(1, 1, figsize=(4, 4)); ax.scatter(*X.T, c=y)\n",
    "x1 = np.linspace(*ax.get_xlim()); x2 = (-w[0]*x1 - w0)/w[1]\n",
    "ax.plot(x1, x2, x1, x2 - 1/w[1], x1, x2 + 1/w[1])\n",
    "ax.scatter(*clf.support_vectors_.T, s=128, facecolors='none', edgecolors='r');"
   ]
  }
 ],
 "metadata": {
  "kernelspec": {
   "display_name": "Python 3",
   "language": "python",
   "name": "python3"
  },
  "language_info": {
   "codemirror_mode": {
    "name": "ipython",
    "version": 3
   },
   "file_extension": ".py",
   "mimetype": "text/x-python",
   "name": "python",
   "nbconvert_exporter": "python",
   "pygments_lexer": "ipython3",
   "version": "3.11.4"
  },
  "orig_nbformat": 4
 },
 "nbformat": 4,
 "nbformat_minor": 2
}
