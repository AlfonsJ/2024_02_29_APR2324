{
 "cells": [
  {
   "cell_type": "markdown",
   "metadata": {},
   "source": [
    "# 2023_01_30_Problema 1\n",
    "\n",
    "En la siguiente tabla se presenta una muestra de entrenamiento no linealmente separable en $\\mathbb{R}^2$ y los correspondientes multiplicadores de Lagrange óptimos obtenidos al entrenar una máquina de vectores soporte con esta muestra (y C=10):\n",
    "$$\\begin{array}{|l||rrrrrrrr|}\n",
    "\\hline\n",
    " i     &  1 &  2 &  3 &  4 &  5 &  6 &  7 &  8 \\\\\n",
    "\\hline\n",
    " x_{i1} &  1 &  3 &  2 &  4 &  3 &  2 &  4 &  4 \\\\\n",
    " x_{i2} &  4 &  1 &  3 &  2 &  4 &  5 &  4 &  3 \\\\\n",
    "\\hline\n",
    "\\text{Clase} & +1 & +1 & +1 & +1 & -1 & -1 & +1 & -1 \\\\\n",
    "\\hline\n",
    "\\hline\n",
    " \\alpha^\\star_i & \n",
    "        3.38 & ~0 & ~0 & \\!\\!5.75 & 9.13 & ~~0 & ~~10 & 10\\\\\n",
    "\\hline\n",
    "\\end{array}$$\n",
    "\n",
    "Se pide:\n",
    "1. Obtener la función discriminante lineal correspondiente.\n",
    "2. Representar gráficamente la frontera lineal de separación entre clases y las muestras de entrenamiento, indicando cuáles son vectores soporte. Representar los márgenes.\n",
    "3. Calcular las tolerancias óptimas.\n",
    "4. Clasificar la muestra $(5,5)^t$."
   ]
  },
  {
   "cell_type": "markdown",
   "metadata": {},
   "source": [
    "## Solución\n",
    "\n",
    "**Pesos de la función discriminante:**\n",
    "\n",
    "$\\boldsymbol{\\theta}^\\star = c_1~\\alpha^\\star_1~\\boldsymbol{x_1} \n",
    "              + c_4~\\alpha^\\star_4~\\boldsymbol{x_4} \n",
    "              + c_5~\\alpha^\\star_5~\\boldsymbol{x_5} \n",
    "              + c_7~\\alpha^\\star_7~\\boldsymbol{x_7}\n",
    "              + c_8~\\alpha^\\star_8~\\boldsymbol{x_8} $\n",
    "\n",
    "$\\theta^*_1~=~(+1)~(1)~(3.38)+(+1)~(4)~(5.75)+(-1)~(3)~(9.13)+(+1)~(4)~(10)+(-1)~(4)~(10)~\\approx~-1.0$\n",
    "\n",
    "$\\theta^*_2~=~(+1)~(4)~(3.38)+(+1)~(2)~(5.75)+(-1)~(4)~(9.13)+(+1)~(4)~(10)+(-1)~(3)~(10)~=~-1.5$\n",
    "\n",
    "Usando el vector soporte $\\boldsymbol{x_4}$ (que verifica la condición : $0 < \\alpha_4^* < C$)\n",
    "\n",
    "$\\theta^\\star_0 = c_4-{\\boldsymbol{\\theta}^\\star}^t\\boldsymbol{x_4} \n",
    "               = 1 - ((-1.0)~(4) + (-1.5)~(2)) = 8.0$ \n",
    "\n",
    "**Frontera de separación y representación gráfica:**\n",
    "\n",
    "Ecuación de la frontera lineal de separación:\n",
    "$~ 8.0 - 1.0~x_1 -  1.5~x_2 ~=~ 0 ~~\\rightarrow~~$ \n",
    "$  x_2 \\approx - 0.67~x_1 + 5.3$\n",
    "\n",
    "Los vectores de entrenamiento son todos los de la tabla.  De ellos,\n",
    "los vectores soporte son: $(1,4)^t, (4,2)^t, (3,4)^t, (4,4)^t\\,(4,3)^t$.\n",
    "\n",
    "Representación gráfica:\n",
    "<div><img src=\"2023_01_30_Problema 1.png\" width=400></div>\n",
    "\n",
    "**Cálculo de las tolerancias:**\n",
    "* La tolerancia de las muestras 1, 2, 3, 4, 5 y 6 es 0.\n",
    "* La tolerancia de la muestra 7 es: $1-c_7({\\theta^*}^tx_7+\\theta_0)=3.0$\n",
    "* La tolerancia de la muestra 8 es: $1-c_8({\\theta^*}^tx_8+\\theta_0)=0.5$\n",
    "\n",
    "**Clasificación de la muestra $(5,5)^t:$**\n",
    "\n",
    "El valor de la función discriminante para este vector es:\n",
    "$~\\theta^*_0+\\theta^*_1~1+\\theta^*_2~1~=-4.5 < 0 ~\\Rightarrow\\,$ clase -1.\n"
   ]
  },
  {
   "cell_type": "markdown",
   "metadata": {},
   "source": [
    "## Solución con sklearn"
   ]
  },
  {
   "cell_type": "code",
   "execution_count": 1,
   "metadata": {},
   "outputs": [
    {
     "name": "stdout",
     "output_type": "stream",
     "text": [
      "alfa:  [ 3.3746  0.      0.      5.7496  9.1242  0.     10.     10.    ]\n",
      "w: [-0.9995 -1.4993]  w0: 7.9963  margen: 1.1099 \n",
      "t: [0.0003 0.     0.     0.0003 0.0006 0.     2.9989 0.5004]\n",
      "Clase de [5, 5] : -1\n"
     ]
    }
   ],
   "source": [
    "import numpy as np; np.set_printoptions(precision=4, suppress=True); from sklearn import svm\n",
    "X = np.array([[1, 4], [3, 1], [2, 3], [4, 2], [3, 4], [2, 5], [4, 4], [4, 3]]).astype(np.float32)\n",
    "y = np.array([1, 1, 1, 1, -1, -1, 1, -1]).astype(np.int32); N, D = X.shape\n",
    "C = 10.0; clf = svm.SVC(C=C, kernel='linear').fit(X, y)\n",
    "a = np.zeros(N); a[clf.support_] = clf.dual_coef_ * y[clf.support_]; print('alfa: ', a)\n",
    "w = clf.coef_[0]; w0 = clf.intercept_ [0]; m = 2.0/np.linalg.norm(w);\n",
    "t = np.zeros(N); t[clf.support_] = 1.0 - y[clf.support_] * (clf.support_vectors_ @ w + w0)\n",
    "print('w:', w, ' w0:', round(w0, 4), ' margen:', round(m, 4), '\\nt:', t)\n",
    "Z = [[5, 5]]; print('Clase de', Z[0],':',clf.predict(Z)[0])"
   ]
  },
  {
   "cell_type": "code",
   "execution_count": 2,
   "metadata": {},
   "outputs": [
    {
     "data": {
      "image/png": "[encoded data removed]",
      "text/plain": [
       "<Figure size 400x400 with 1 Axes>"
      ]
     },
     "metadata": {},
     "output_type": "display_data"
    }
   ],
   "source": [
    "import matplotlib.pyplot as plt\n",
    "fig, ax = plt.subplots(1, 1, figsize=(4, 4)); ax.scatter(*X.T, c=y)\n",
    "x1 = np.linspace(*ax.get_xlim()); x2 = (-w[0]*x1 - w0)/w[1]\n",
    "ax.plot(x1, x2, x1, x2 - 1/w[1], x1, x2 + 1/w[1])\n",
    "ax.scatter(*clf.support_vectors_.T, s=128, facecolors='none', edgecolors='r');"
   ]
  }
 ],
 "metadata": {
  "kernelspec": {
   "display_name": "Python 3",
   "language": "python",
   "name": "python3"
  },
  "language_info": {
   "codemirror_mode": {
    "name": "ipython",
    "version": 3
   },
   "file_extension": ".py",
   "mimetype": "text/x-python",
   "name": "python",
   "nbconvert_exporter": "python",
   "pygments_lexer": "ipython3",
   "version": "3.11.4"
  },
  "orig_nbformat": 4
 },
 "nbformat": 4,
 "nbformat_minor": 2
}
