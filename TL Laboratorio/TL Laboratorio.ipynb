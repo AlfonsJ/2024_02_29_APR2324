{
 "cells": [
  {
   "cell_type": "markdown",
   "metadata": {},
   "source": [
    "## [Práctica 1. Perceptrón multicapa](https://github.com/RParedesPalacios/APR_LAB)\n",
    "\n",
    "## [Práctica 2. Redes convolucionales](https://github.com/jorcisai/APR/tree/master/2023-24/prac2)"
   ]
  }
 ],
 "metadata": {
  "language_info": {
   "name": "python"
  }
 },
 "nbformat": 4,
 "nbformat_minor": 2
}
