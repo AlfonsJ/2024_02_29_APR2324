{
 "cells": [
  {
   "cell_type": "markdown",
   "metadata": {},
   "source": [
    "**2023_01_16_Cuestión 1.** Se ha evaluado un sistema de Aprendizaje Automático mediante la técnica de **validación cruzada en $B$ bloques** (\"B-fold Cross Validation\") con $B=100$ y utilizando un conjunto de datos etiquetados de que contiene 1000 muestras. Se han obtenido un total de 22 errores. Indica cuál de las afirmaciones siguientes es razonable:\n",
    "\n",
    "1. La talla de entrenamiento efectiva es 990 muestras y el error estimado es $2.2 \\% \\pm 0.1\\%$\n",
    "2. La talla de entrenamiento efectiva es de 900 muestras y el error estimado es $2.2\\%$\n",
    "3. La talla de test efectiva es de 1000 muestras y el error estimado es $2.2\\%\\pm 0.9\\%$\n",
    "4. El error estimado es $22\\%\\pm 9\\%$"
   ]
  },
  {
   "cell_type": "markdown",
   "metadata": {},
   "source": [
    "**Solución:** $\\;$ La 3."
   ]
  },
  {
   "cell_type": "code",
   "execution_count": 17,
   "metadata": {},
   "outputs": [
    {
     "name": "stdout",
     "output_type": "stream",
     "text": [
      "2.20% pm 0.91%\n"
     ]
    }
   ],
   "source": [
    "import numpy as np; N = 1000.0; p = 22.0 / N; s = np.sqrt(p*(1-p)/N); e = 1.96*s; print(f\"{p:.2%} pm {e:.2%}\")"
   ]
  }
 ],
 "metadata": {
  "kernelspec": {
   "display_name": "Python 3",
   "language": "python",
   "name": "python3"
  },
  "language_info": {
   "codemirror_mode": {
    "name": "ipython",
    "version": 3
   },
   "file_extension": ".py",
   "mimetype": "text/x-python",
   "name": "python",
   "nbconvert_exporter": "python",
   "pygments_lexer": "ipython3",
   "version": "3.10.12"
  },
  "orig_nbformat": 4
 },
 "nbformat": 4,
 "nbformat_minor": 2
}
