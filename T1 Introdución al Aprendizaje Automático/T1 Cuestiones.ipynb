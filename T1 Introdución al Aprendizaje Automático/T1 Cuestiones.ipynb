{
 "cells": [
  {
   "cell_type": "markdown",
   "metadata": {},
   "source": [
    "**2023_01_16_Cuestión 1.** Se ha evaluado un sistema de Aprendizaje Automático mediante la técnica de **validación cruzada en $B$ bloques** (\"B-fold Cross Validation\") con $B=100$ y utilizando un conjunto de datos etiquetados de que contiene 1000 muestras. Se han obtenido un total de 22 errores. Indica cuál de las afirmaciones siguientes es razonable:\n",
    "\n",
    "1. La talla de entrenamiento efectiva es 990 muestras y el error estimado es $2.2 \\% \\pm 0.1\\%$\n",
    "2. La talla de entrenamiento efectiva es de 900 muestras y el error estimado es $2.2\\%$\n",
    "3. La talla de test efectiva es de 1000 muestras y el error estimado es $2.2\\%\\pm 0.9\\%$\n",
    "4. El error estimado es $22\\%\\pm 9\\%$"
   ]
  },
  {
   "cell_type": "markdown",
   "metadata": {},
   "source": [
    "**Solución:** $\\;$ La 3."
   ]
  },
  {
   "cell_type": "code",
   "execution_count": 17,
   "metadata": {},
   "outputs": [
    {
     "name": "stdout",
     "output_type": "stream",
     "text": [
      "2.20% pm 0.91%\n"
     ]
    }
   ],
   "source": [
    "import numpy as np; N = 1000.0; p = 22.0 / N; s = np.sqrt(p*(1-p)/N); e = 1.96*s; print(f\"{p:.2%} pm {e:.2%}\")"
   ]
  },
  {
   "cell_type": "markdown",
   "metadata": {},
   "source": [
    "**2022_01_24_Cuestión 1.** Sea $S$ un conjunto de 1000 datos supervisados o etiquetados.  En el diseño de un sistema de reconocimiento de formas se utiliza el método de *validación cruzada en 10 bloques* y se obtienen los errores siguientes: (1,1,1,1,1,1,1,1,1,1). Indica cuál de las siguientes afirmaciones es incorrecta.\n",
    "1. El test efectivo es de 100 muestras\n",
    "2. El error estimado es $p_e=1.0\\%$\n",
    "3. El intervalo de confianza al 95\\% es $\\pm 0.6$\n",
    "4. El tamaño de entrenamiento efectivo es de 900 muestras"
   ]
  },
  {
   "cell_type": "markdown",
   "metadata": {},
   "source": [
    "**Solución:** $\\;$ La 1; los 1000 datos se usan para test."
   ]
  },
  {
   "cell_type": "code",
   "execution_count": 1,
   "metadata": {},
   "outputs": [
    {
     "name": "stdout",
     "output_type": "stream",
     "text": [
      "1.00% pm 0.62%\n"
     ]
    }
   ],
   "source": [
    "import numpy as np; N = 1000.0; p = 10.0 / N; s = np.sqrt(p*(1-p)/N); e = 1.96*s; print(f\"{p:.2%} pm {e:.2%}\")"
   ]
  },
  {
   "cell_type": "markdown",
   "metadata": {},
   "source": [
    "**2022_01_10_Cuestión 1.** Se ha evaluado un sistema de Aprendizaje Automático mediante la técnica de *validación cruzada en $B$ bloques* (\"B-fold Cross Validation\") con $B=100$ y utilizando un conjunto de datos etiquetados  que contiene 10000 muestras. Se han obtenido un total de 50 errores. Indica cuál de las afirmaciones siguientes es razonable:\n",
    "1. La talla de entrenamiento efectiva es 9900 muestras y el error estimado es $0.50 \\% \\pm 0.14\\%$\n",
    "2. La talla de entrenamiento efectiva es de 9900 muestras y el error estimado es $5.0\\%$ \n",
    "3. La talla de test efectiva es de 10000 muestras y el error estimado es $5.0\\%\\pm 0.14\\%$\n",
    "4. El error estimado es $0.50\\%\\pm 0.0014\\%$"
   ]
  },
  {
   "cell_type": "markdown",
   "metadata": {},
   "source": [
    "**Solución:** $\\;$ La 1."
   ]
  },
  {
   "cell_type": "code",
   "execution_count": 2,
   "metadata": {},
   "outputs": [
    {
     "name": "stdout",
     "output_type": "stream",
     "text": [
      "0.50% pm 0.14%\n"
     ]
    }
   ],
   "source": [
    "import numpy as np; N = 10000.0; p = 50.0 / N; s = np.sqrt(p*(1-p)/N); e = 1.96*s; print(f\"{p:.2%} pm {e:.2%}\")"
   ]
  },
  {
   "cell_type": "markdown",
   "metadata": {},
   "source": [
    "**2022_01_10_Cuestión 3.** En el compromiso entre sesgo y varianza indica qué afirmación es correcta.\n",
    "1. Si el modelo presenta una gran varianza quiere decir que el error de entrenamiento es alto\n",
    "2. Cuando el sesgo es muy alto, la varianza suele ser también alta\n",
    "3. Si el modelo presenta una sesgo alto quiere decir que el error de entrenamiento es bajo\n",
    "4. Cuando el sesgo es muy bajo, la varianza suele ser alta"
   ]
  },
  {
   "cell_type": "markdown",
   "metadata": {},
   "source": [
    "**Solución:** la 4\n",
    "1. Incorrecta: varianza alta supone sesgo bajo, esto es, modelo sobreajustado\n",
    "2. Incorrecta: sesgo alto supone varianza baja\n",
    "3. Incorrecta: sesgo alto supone varianza baja, esto es, modelo subajustado\n",
    "4. Correcta"
   ]
  },
  {
   "cell_type": "markdown",
   "metadata": {},
   "source": [
    "**2021_01_18_Cuestión 3.** Se ha evaluado un sistema de Aprendizaje Automático mediante la técnica de *validación cruzada en $B$ bloques* (\"B-fold Cross Validation\") con $B=10$ y utilizando un conjunto de datos etiquetados que contiene 1000 muestras. Se han obtenido un total de 20 errores. Indicar cuál de las afirmaciones siguientes es correcta:\n",
    "1. La talla de entrenamiento efectiva es de 1000 muestras y la talla de test efectiva es 1000 muestras.\n",
    "2. La talla de entrenamiento efectiva es de 900 muestras y el error es del $20.0\\pm 0.2\\%$\n",
    "3. La talla de entrenamiento efectiva es de 1000 muestras y el error es del $20.0\\pm 0.2\\%$\n",
    "4. La talla de entrenamiento efectiva es de 900 muestras y el error es del $2.0\\pm 0.9\\%$"
   ]
  },
  {
   "cell_type": "markdown",
   "metadata": {},
   "source": [
    "**Solución:** $\\;$ La 4."
   ]
  },
  {
   "cell_type": "code",
   "execution_count": 1,
   "metadata": {},
   "outputs": [
    {
     "name": "stdout",
     "output_type": "stream",
     "text": [
      "2.00% pm 0.87%\n"
     ]
    }
   ],
   "source": [
    "import numpy as np; N = 1000.0; p = 20.0 / N; s = np.sqrt(p*(1-p)/N); e = 1.96*s; print(f\"{p:.2%} pm {e:.2%}\")"
   ]
  }
 ],
 "metadata": {
  "kernelspec": {
   "display_name": "Python 3",
   "language": "python",
   "name": "python3"
  },
  "language_info": {
   "codemirror_mode": {
    "name": "ipython",
    "version": 3
   },
   "file_extension": ".py",
   "mimetype": "text/x-python",
   "name": "python",
   "nbconvert_exporter": "python",
   "pygments_lexer": "ipython3",
   "version": "3.10.12"
  },
  "orig_nbformat": 4
 },
 "nbformat": 4,
 "nbformat_minor": 2
}
