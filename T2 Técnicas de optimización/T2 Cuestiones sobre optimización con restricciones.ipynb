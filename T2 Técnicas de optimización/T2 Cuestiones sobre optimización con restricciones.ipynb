{
 "cells": [
  {
   "cell_type": "markdown",
   "metadata": {},
   "source": [
    "**2023_01_30_Cuestión 1.** En el problema de optimización con restricciones\n",
    "$$\\begin{align*}\n",
    "&\\text{minimizar} && q(\\mathbf{\\Theta}), ~~~~\\mathbf{\\Theta}\\in\\mathbb{R}^D\\\\\n",
    "&\\text{sujeto a}  && v_i(\\mathbf{\\Theta})\\leq 0,~~ 1\\leq i\\leq k\n",
    "\\end{align*}$$\n",
    "se cumplen las condiciones complementarias de Karush-Kuhn-Tucker $\\alpha_i^\\star v_i(\\mathbf{\\Theta}^\\star)\\!=\\!0$ para $1\\leq i\\leq k$. Indica cuál de las siguientes afirmaciones se deduce de ellas:\n",
    "1. Si para un $i$, $\\,\\alpha_i^\\star > 0,\\,$ entonces $\\,v_i(\\mathbf{\\Theta}^\\star)=0$ \n",
    "2. Existe un $i$ tal que $\\,\\alpha_i^\\star < 0\\,$ y $\\,v_i(\\mathbf{\\Theta}^\\star)=0$ \n",
    "3. Para todo $i$, si $\\,\\alpha_i^\\star = 0,\\,$ entonces $\\,v_i(\\mathbf{\\Theta}^\\star) = 0$\n",
    "4. Existe un $i$ tal que $\\,v_i(\\mathbf{\\Theta}^\\star) > 0\\,$ y $\\,\\alpha_i^\\star = 0$"
   ]
  },
  {
   "cell_type": "markdown",
   "metadata": {},
   "source": [
    "**Solución:** $\\;$ La 1; el resto no se deduce."
   ]
  },
  {
   "cell_type": "markdown",
   "metadata": {},
   "source": [
    "**2022_01_24_Cuestión 2.** En el problema de optimización con restricciones\n",
    "$$\\begin{align*}\n",
    "&\\text{minimizar} && q(\\mathbf{\\Theta}), ~~~~\\mathbf{\\Theta}\\in\\mathbb{R}^D\\\\\n",
    "&\\text{sujeto a}  && v_i(\\mathbf{\\Theta})\\leq 0,~~ 1\\leq i\\leq k\n",
    "\\end{align*}$$\n",
    "se cumplen las condiciones complementarias de Karush-Kuhn-Tucker $\\alpha_i^\\star v_i(\\mathbf{\\Theta}^\\star)\\!=\\!0$ para $1\\leq i\\leq k$. Indica cuál de las siguientes afirmaciones se deduce de ellas:\n",
    "1. Si para un $i$, $\\,\\alpha_i^\\star=0,\\,$ entonces $\\,v_i(\\mathbf{\\Theta}^\\star)>0$\n",
    "2. Si para un $i$, $\\,\\alpha_i^\\star=0,\\,$ entonces $\\,v_i(\\mathbf{\\Theta}^\\star)=0$\n",
    "3. Si para un $i$, $\\,\\alpha_i^\\star>0,\\,$ entonces $\\,v_i(\\mathbf{\\Theta}^\\star)=0$\n",
    "4. Si para un $i$, $\\,v_i(\\mathbf{\\Theta}^\\star)=0,\\,$ entonces $\\,\\alpha_i^\\star=0$"
   ]
  },
  {
   "cell_type": "markdown",
   "metadata": {},
   "source": [
    "**Solución:** $\\;$ La 3; el resto no se deduce."
   ]
  },
  {
   "cell_type": "markdown",
   "metadata": {},
   "source": [
    "**2021_02_03_Cuestión 1.** En el problema de optimización con restricciones\n",
    "$$\\begin{align*}\n",
    "&\\text{minimizar} && q(\\mathbf{\\Theta}), ~~~~\\mathbf{\\Theta}\\in\\mathbb{R}^D\\\\%\n",
    "&\\text{sujeto a}  && v_i(\\mathbf{\\Theta})\\leq 0,~~ 1\\leq i\\leq k\\\\%\n",
    "&                 && u_i(\\mathbf{\\Theta})\\leq 0,~~ 1\\leq i\\leq m\n",
    "\\end{align*}$$\n",
    "se cumplen las condiciones complementarias de Karush-Kuhn-Tucker $\\alpha_i^\\star v_i(\\mathbf{\\Theta}^\\star)\\!=\\!0$ para $1\\leq i\\leq k$. Indica cuál de las siguientes afirmaciones se deduce de ellas:\n",
    "1. Si para un $i$, $\\,\\alpha_i^\\star>0,\\,$ entonces $\\,v_i(\\mathbf{\\Theta}^\\star)=0$\n",
    "2. Si para un $i$, $\\,\\alpha_i^\\star=0,\\,$ entonces $\\,v_i(\\mathbf{\\Theta}^\\star)=0$\n",
    "3. Si para un $i$, $\\,\\alpha_i^\\star>0,\\,$ entonces $\\,v_i(\\mathbf{\\Theta}^\\star)>0$\n",
    "4. Si para un $i$, $\\,\\alpha_i^\\star=0,\\,$ entonces $\\,u_i(\\mathbf{\\Theta}^\\star)=0$"
   ]
  },
  {
   "cell_type": "markdown",
   "metadata": {},
   "source": [
    "**Solución:** $\\;$ La 1; el resto no se deduce."
   ]
  }
 ],
 "metadata": {
  "language_info": {
   "name": "python"
  },
  "orig_nbformat": 4
 },
 "nbformat": 4,
 "nbformat_minor": 2
}
