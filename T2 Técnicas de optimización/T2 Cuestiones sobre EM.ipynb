{
 "cells": [
  {
   "cell_type": "markdown",
   "metadata": {},
   "source": [
    "**2023_01_30_Cuestión 3.** $\\;$ Las siguientes afirmaciones se refieren a la estimación por máxima verosimilitud de los parámetros de una mezcla de $K$ gaussianas (vector-media y peso de cada gaussiana) mediante un conjunto de vectores de entrenamiento cualquiera de dimensión $D$. Identifica cuál es **falsa**.\n",
    "1. Los parámetros de la mezcla se estiman adecuadamente mediante un algoritmo de **esperanza maximización** (EM)\n",
    "2. La verosimilitud del conjunto de entrenamiento, calculada con los parámetros estimados, aumenta en cada iteración del EM\n",
    "3. El algoritmo EM obtiene los valores óptimos de los parámetros a estimar\n",
    "4. En cada iteración, el algoritmo EM estima los valores de las variables ocultas que, en este caso, son los pesos de las gaussianas"
   ]
  },
  {
   "cell_type": "markdown",
   "metadata": {},
   "source": [
    "**Solución:** $\\;$ La 3 es false ya que el EM encuentra un óptimo local, no necesariamente global. También podría decirse que la 2 no es del todo cierta ya que el EM garantiza que la verosimilitud no disminuye, pero puede que tampoco aumente; de hecho, una vez alcanzado un máximo local, no aumenta. Asimismo, la 4 también es discutible porque el EM estima todos los parámetros desconocidos de la mezcla; éstos pueden ser tanto los pesos (coeficientes) de las gaussianas como los parámetros propios de cada gaussiana."
   ]
  }
 ],
 "metadata": {
  "language_info": {
   "name": "python"
  },
  "orig_nbformat": 4
 },
 "nbformat": 4,
 "nbformat_minor": 2
}
