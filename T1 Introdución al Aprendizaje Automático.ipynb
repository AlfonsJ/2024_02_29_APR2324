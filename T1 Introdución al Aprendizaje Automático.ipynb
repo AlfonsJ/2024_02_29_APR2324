{
 "cells": [
  {
   "cell_type": "markdown",
   "metadata": {},
   "source": [
    "# Tema 1. Introducción al Aprendizaje Automático"
   ]
  },
  {
   "cell_type": "markdown",
   "metadata": {},
   "source": [
    "## Preliminares\n",
    "\n",
    "[**Introducción del PML:**](https://github.com/AlfonsJ/2024_01_31_RFA2324/tree/main/P00%20Introducci%C3%B3n) $\\;$ empezaremos revisando la introducción al Aprendizaje Automático del libro de Kevin Murphy \"Probabilistic Machine Learning: An Introduction\" (PML) que ya se ha visto en la asignatura Percepción (PER)"
   ]
  },
  {
   "cell_type": "markdown",
   "metadata": {},
   "source": [
    "## Comentarios sobre las transpas\n",
    "\n",
    "**5. Teoría de la decisión:**\n",
    "* [**Teoría de la decisión Bayesiana del PML:**](https://github.com/AlfonsJ/2024_01_31_RFA2324/tree/main/P01%20Fundamentos/T05%20Teor%C3%ADa%20de%20la%20decisi%C3%B3n/5.1%20Teor%C3%ADa%20de%20la%20decisi%C3%B3n%20Bayesiana) $\\;$ revisaremos brevemente la introducción a esta teoría del PML, ya vista en PER\n",
    "* En problemas de clasificación, la minimización del riesgo empírico con pérdida 01 conduce al estimador máximo a posteriori (MAP) como regla de decisión óptima o regla de Bayes, esto es, escogemos la etiqueta más probable o moda de la probabilidad a posteriori\n",
    "* En problemas de regresión, la minimización del riesgo empírico con pérdida L2 conduce al estimador minimum mean squared error (MMSE) como regla de decisión óptima o regla de Bayes, esto es, escogemos la media a posteriori\n",
    "\n",
    "**6. Estimación empírica de la probabilidad de error:**\n",
    "* La estimación de la probabilidad de error de un clasificador se refiere a la aproximación de su riesgo teórico con un conjunto de test (Sección 1.2.3 en PML)\n",
    "* Resustitución es el riesgo empírico, mientras que partición, validación cruzada y exclusión individual son técnicas más o menos refinadas para estimar la probabilidad de error de un clasificador ajustado con toda la evidencia (todos los datos)\n",
    "\n"
   ]
  }
 ],
 "metadata": {
  "language_info": {
   "name": "python"
  },
  "orig_nbformat": 4
 },
 "nbformat": 4,
 "nbformat_minor": 2
}
