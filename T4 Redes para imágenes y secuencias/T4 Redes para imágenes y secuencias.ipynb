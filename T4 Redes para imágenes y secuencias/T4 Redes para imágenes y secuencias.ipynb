{
 "cells": [
  {
   "cell_type": "markdown",
   "metadata": {},
   "source": [
    "# Tema 3. Redes para imágenes y secuencias"
   ]
  },
  {
   "cell_type": "markdown",
   "metadata": {},
   "source": [
    "[**Redes neuronales para imágenes del PML:**](https://github.com/AlfonsJ/2024_01_31_RFA2324/tree/main/P03%20Redes%20neuronales%20profundas/T14%20Redes%20neuronales%20para%20im%C3%A1genes) $\\;$ veremos el tema 14 del PML por encima\n",
    "\n",
    "[**Redes neuronales para secuencias del PML:**](https://github.com/AlfonsJ/2024_01_31_RFA2324/tree/main/P03%20Redes%20neuronales%20profundas/T15%20Redes%20neuronales%20para%20secuencias) $\\;$ veremos el tema 15 del PML por encima"
   ]
  }
 ],
 "metadata": {
  "language_info": {
   "name": "python"
  }
 },
 "nbformat": 4,
 "nbformat_minor": 2
}
