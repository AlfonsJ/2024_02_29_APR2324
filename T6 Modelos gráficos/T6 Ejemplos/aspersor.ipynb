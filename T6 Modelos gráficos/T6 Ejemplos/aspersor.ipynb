{
 "cells": [
  {
   "cell_type": "markdown",
   "metadata": {},
   "source": [
    "# Ejemplo de red bayesiana: aspersor"
   ]
  },
  {
   "cell_type": "code",
   "execution_count": 1,
   "metadata": {},
   "outputs": [],
   "source": [
    "import graphviz; graphviz.Source('''digraph { rankdir=LR; node [shape=plaintext];\n",
    "Lluvia [label=<<TABLE BORDER=\"0\" CELLBORDER=\"1\" CELLSPACING=\"0\">\n",
    "<TR><TD COLSPAN=\"2\">P(L)</TD></TR>\n",
    "<TR><TD COLSPAN=\"2\">Lluvia</TD></TR>\n",
    "<TR><TD>no llueve</TD><TD>sí llueve</TD></TR>\n",
    "<TR><TD>0.8</TD><TD>0.2</TD></TR>\n",
    "</TABLE>>];\n",
    "Aspersor [label=<<TABLE BORDER=\"0\" CELLBORDER=\"1\" CELLSPACING=\"0\">\n",
    "<TR><TD COLSPAN=\"3\">P(A | L)</TD></TR>\n",
    "<TR><TD></TD><TD COLSPAN=\"2\">Aspersor</TD></TR>\n",
    "<TR><TD>Lluvia</TD><TD>parado</TD><TD>funciona</TD></TR>\n",
    "<TR><TD>no llueve</TD><TD>0.60</TD><TD>0.40</TD></TR>\n",
    "<TR><TD>sí llueve</TD><TD>0.99</TD><TD>0.01</TD></TR>\n",
    "</TABLE>>];\n",
    "Césped [label=<<TABLE BORDER=\"0\" CELLBORDER=\"1\" CELLSPACING=\"0\">\n",
    "<TR><TD COLSPAN=\"4\">P(C | L, A)</TD></TR>\n",
    "<TR><TD COLSPAN=\"2\"></TD><TD COLSPAN=\"2\">Césped</TD></TR>\n",
    "<TR><TD>Lluvia</TD><TD>Aspersor</TD><TD>reseco</TD><TD>mojado</TD></TR>\n",
    "<TR><TD>no llueve</TD><TD>parado</TD><TD>1.00</TD><TD>0.00</TD></TR>\n",
    "<TR><TD>no llueve</TD><TD>funciona</TD><TD>0.10</TD><TD>0.90</TD></TR>\n",
    "<TR><TD>sí llueve</TD><TD>parado</TD><TD>0.20</TD><TD>0.80</TD></TR>\n",
    "<TR><TD>sí llueve</TD><TD>funciona</TD><TD>0.01</TD><TD>0.99</TD></TR>\n",
    "</TABLE>>];\n",
    "Lluvia -> Aspersor -> Césped\n",
    "Lluvia -> Césped\n",
    "}''').render(filename='aspersor', format='svg');"
   ]
  },
  {
   "cell_type": "markdown",
   "metadata": {},
   "source": [
    "<div align=\"center\"><img src='aspersor.svg'/></div>"
   ]
  }
 ],
 "metadata": {
  "anaconda-cloud": {},
  "kernelspec": {
   "display_name": "Python 3",
   "language": "python",
   "name": "python3"
  },
  "language_info": {
   "codemirror_mode": {
    "name": "ipython",
    "version": 3
   },
   "file_extension": ".py",
   "mimetype": "text/x-python",
   "name": "python",
   "nbconvert_exporter": "python",
   "pygments_lexer": "ipython3",
   "version": "3.11.4"
  }
 },
 "nbformat": 4,
 "nbformat_minor": 1
}
