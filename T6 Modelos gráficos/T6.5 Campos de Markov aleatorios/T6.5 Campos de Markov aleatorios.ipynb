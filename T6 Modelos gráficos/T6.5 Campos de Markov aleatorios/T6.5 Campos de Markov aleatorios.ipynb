{
 "cells": [
  {
   "cell_type": "markdown",
   "metadata": {},
   "source": [
    "# T6.5 Campos de Markov aleatorios"
   ]
  },
  {
   "cell_type": "markdown",
   "metadata": {},
   "source": [
    "# Índice\n",
    "\n",
    "1. Campos de Markov aleatorios\n",
    "2. Potenciales exponenciales\n",
    "3. Ejemplo\n",
    "4. Inferencia"
   ]
  },
  {
   "cell_type": "markdown",
   "metadata": {},
   "source": [
    "## 1 Campos de Markov aleatorios\n",
    "\n",
    "**Clique de un grafo:** $\\;$ subgrafo completamente conectado; máximo si no es subgrafo de otro clique\n",
    "\n",
    "**Clique máximo de un grafo:** $\\;$ clique no subgrafo de otro clique\n",
    "\n",
    "**Campo de Markov aleatorio:** $\\;$ grafo **no dirigido** de variables aleatorias cuya conjunta puede factorizarse a partir del conjunto $\\mathcal{Q}$ de todos los **cliques (máximos)** del grafo como\n",
    "$$P(x_1,\\dots,x_D) ~=~ \\frac{1}{Z}\\prod_{C\\in\\mathcal{Q}} \\psi_C(V_C)$$\n",
    "donde $V_C$ es el conjunto de variables del clique $C$, $\\,\\psi_C\\!:\\!\\mathcal{Q}\\!\\rightarrow\\!\\R^{>0}$ es una **función potencial** y $Z$ es un factor de normalización"
   ]
  },
  {
   "cell_type": "code",
   "execution_count": 1,
   "metadata": {},
   "outputs": [],
   "source": [
    "import graphviz; graphviz.Source('graph {rankdir=LR; A -- B; {A, B} -- {C} -- D -- E }').render(filename='3cliques', format='svg');"
   ]
  },
  {
   "cell_type": "markdown",
   "metadata": {},
   "source": [
    "<div><table border-collapse: collapse align=left><tr>\n",
    "<td style=\"border: none; text-align:left; vertical-align:top; padding:0; margin:0;\" width=500>\n",
    "\n",
    "**Ejemplo:** $\\;$ grafo con tres cliques máximos\n",
    "$$\\begin{align*}\n",
    "V_1&=\\{A,B,C\\}\\\\\n",
    "V_2&=\\{C,D\\}\\\\\n",
    "V_3&=\\{D,E\\}\\\\\n",
    "P(A,B,C,D,E)&=\\frac{1}{Z}\\,\\psi_1(A,B,C)\\,\\psi_2(C,D)\\,\\psi_3(D,E)\n",
    "\\end{align*}$$\n",
    "\n",
    "</td><td style=\"border: none; text-align:left; vertical-align:center; padding:0; margin:0;\" width=500>\n",
    "\n",
    "<img src=\"3cliques.svg\" width=500>\n",
    "\n",
    "</td></tr></table></div>"
   ]
  },
  {
   "cell_type": "markdown",
   "metadata": {},
   "source": [
    "## 2 Potenciales exponenciales\n",
    "\n",
    "**Potenciales exponenciales:** $\\;$ funciones de la família exponencial usuales\n",
    "$$P(x_1,\\dots,x_D)=\\frac{1}{Z}\\prod_{C\\in\\mathcal{Q}} \\psi_C(V_C)=\\frac{1}{Z}\\prod_{C\\in\\mathcal{Q}} \\exp\\left(-E_C(V_C)\\right)=\\frac{1}{Z}\\,\\exp\\Big(-\\sum_{C\\in\\mathcal{Q}} E_C(V_C)\\Big)$$\n",
    "donde $\\,E_C:\\mathcal{Q}\\rightarrow\\mathbb{R}\\,$ es una **función de energía** como, por ejemplo, una función lineal (generalizada)"
   ]
  },
  {
   "cell_type": "markdown",
   "metadata": {},
   "source": [
    "## 3 Ejemplo"
   ]
  },
  {
   "cell_type": "markdown",
   "metadata": {},
   "source": [
    "<div><table border-collapse: collapse align=left><tr>\n",
    "<td style=\"border: none; text-align:left; vertical-align:top; padding:0; margin:0;\" width=500>\n",
    "\n",
    "**Objetivo:** $\\;$ recuperar una imagen original\n",
    "$$\\boldsymbol{x}=(x_1,\\dotsc,x_D)^t\\in\\{-1,1\\}^D$$\n",
    "a partir de una versión observada ruidosa,\n",
    "$$\\boldsymbol{y}=(y_1,\\dotsc,y_D)^t\\in\\{-1,1\\}^D$$\n",
    "\n",
    "</td><td style=\"border: none; text-align:left; vertical-align:center; padding:0; margin:0;\" width=20></td>\n",
    "<td style=\"border: none; text-align:left; vertical-align:center; padding:0; margin:0;\" width=480>\n",
    "\n",
    "<img src=\"Figure8.30a.png\" width=200> &emsp; <img src=\"Figure8.30b.png\" width=200>\n",
    "\n",
    "</td></tr></table></div>"
   ]
  },
  {
   "cell_type": "markdown",
   "metadata": {},
   "source": [
    "<div><table border-collapse: collapse align=left><tr>\n",
    "<td style=\"border: none; text-align:left; vertical-align:top; padding:0; margin:0;\" width=700>\n",
    "\n",
    "**Correlaciones:** \n",
    "* Fuerte correlación entre $x_i$ y $y_i$\n",
    "* Correlación entre $x_i$ y $x_j$ si son píxeles vecinos; es decir, si $i\\in N(j), j\\in N(i)$\n",
    "\n",
    "**Cliques máximos:**\n",
    "$$\\begin{align*}\n",
    "C_{i}&=(x_i,y_i) &&\\text{para todo $i$}\\\\\n",
    "C_{ij}&=(x_i,x_{j}) &&\\text{para todo $i$ y todo $j\\in N(i)$}\n",
    "\\end{align*}$$\n",
    "\n",
    "</td><td style=\"border: none; text-align:left; vertical-align:center; padding:0; margin:0;\" width=50></td>\n",
    "<td style=\"border: none; text-align:left; vertical-align:center; padding:0; margin:0;\" width=250>\n",
    "\n",
    "&emsp; <img src=\"Figure8.31.png\" width=200>\n",
    "\n",
    "</td></tr></table></div>"
   ]
  },
  {
   "cell_type": "markdown",
   "metadata": {},
   "source": [
    "**Función de energía:** $\\displaystyle\\quad\\left.\\begin{array}{c}\n",
    "E_C(V_{C_{ij}}) = -\\beta~x_i~x_j\\\\\n",
    "E_C(V_{C_{i}}) = -\\nu~x_i~y_i\n",
    "\\end{array}\\right\\}\\quad\\rightarrow\\quad\\sum_{C \\in\\mathcal{Q}} E_C(V_C)~=\\, -\\beta\\,\\sum_{i,j} x_i~x_j-\\nu\\sum_i x_i~y_i$\n",
    "\n",
    "**Probabilidad conjunta:** $\\displaystyle\\quad P(\\boldsymbol{x},\\boldsymbol{y})=\\frac{1}{Z}\\,\\exp \\Big(\\beta \\sum_{i,j} x_ix_j + \\nu \\sum_i x_iy_i \\Big)$\n",
    "\n",
    "**Inferencia:** $\\displaystyle\\quad P(\\boldsymbol{x}\\mid\\boldsymbol{y})=\\dfrac{P(\\boldsymbol{x},\\boldsymbol{y})}{P(\\boldsymbol{y})}=\\dfrac{\\exp \\Big(\\beta \\sum_{i,j} x_ix_j + \\nu \\sum_i x_iy_i \\Big)}{\\sum_{\\boldsymbol{x}'}\\exp\\Big(\\beta \\sum_{i,j} x'_ix'_j + \\nu \\sum_i x'_iy_i \\Big)}$"
   ]
  },
  {
   "cell_type": "markdown",
   "metadata": {},
   "source": [
    "<div><table border-collapse: collapse align=left><tr>\n",
    "<td style=\"border: none; text-align:left; vertical-align:top; padding:0; margin:0;\" width=500>\n",
    "\n",
    "**Explicación más probable:**\n",
    "$$\\begin{align*}\n",
    "\\hat{\\boldsymbol{x}}&=\\operatorname*{argmax}_{\\boldsymbol{x}}P(\\boldsymbol{x}\\mid\\boldsymbol{y})\\\\\n",
    "&=\\operatorname*{argmax}_{\\boldsymbol{x}}\\,\\Big(\\beta\\sum_{i,j}x_ix_j + \\nu\\sum_ix_iy_i\\Big)\n",
    "\\end{align*}$$\n",
    "\n",
    "</td><td style=\"border: none; text-align:left; vertical-align:center; padding:0; margin:0;\" width=50></td>\n",
    "<td style=\"border: none; text-align:left; vertical-align:center; padding:0; margin:0;\" width=250>\n",
    "\n",
    "&emsp; <img src=\"Figure8.30d.png\" width=200>\n",
    "\n",
    "</td></tr></table></div>"
   ]
  },
  {
   "cell_type": "markdown",
   "metadata": {},
   "source": [
    "## 4 Inferencia\n",
    "\n",
    "**Inferencia en cadenas:** $\\;$ algoritmo adelante-atrás (\"backward-Forward algorithm\")\n",
    "\n",
    "**Inferencia en árboles:** $\\;$ algoritmo suma-producto\n",
    "\n",
    "**Inferencia en grafos generales:** $\\;$ algoritmo de árbol de unión (\"Junction tree algorithm\"), algoritmo suma-producto (\"Loopy belief propagation\")"
   ]
  }
 ],
 "metadata": {
  "kernelspec": {
   "display_name": "Python 3",
   "language": "python",
   "name": "python3"
  },
  "language_info": {
   "codemirror_mode": {
    "name": "ipython",
    "version": 3
   },
   "file_extension": ".py",
   "mimetype": "text/x-python",
   "name": "python",
   "nbconvert_exporter": "python",
   "pygments_lexer": "ipython3",
   "version": "3.10.12"
  }
 },
 "nbformat": 4,
 "nbformat_minor": 2
}
