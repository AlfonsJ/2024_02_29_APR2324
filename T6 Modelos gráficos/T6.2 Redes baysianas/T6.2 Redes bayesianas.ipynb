{
 "cells": [
  {
   "cell_type": "markdown",
   "metadata": {},
   "source": [
    "# T6.2 Redes Bayesianas"
   ]
  },
  {
   "cell_type": "markdown",
   "metadata": {},
   "source": [
    "# Índice\n",
    "\n",
    "1. Ejemplos\n",
    "2. Un ejemplo detallado: aspersor\n",
    "3. Otro ejemplo: cáncer\n",
    "4. Redes bayesianas\n",
    "5. Algunas redes bayesianas simples\n",
    "6. Otro ejemplo de red bayesiana: modelo oculto de Markov"
   ]
  },
  {
   "cell_type": "markdown",
   "metadata": {},
   "source": [
    "## 1 Ejemplos\n",
    "\n",
    "**Factorización de una distribución conjunta con dependencias inexistentes o despreciables:** $\\;$ la factorización exacta (o aproximada) de una distribución conjunta puede ser incompleta, lo que queda reflejado en el grafo correspondiente"
   ]
  },
  {
   "cell_type": "code",
   "execution_count": 1,
   "metadata": {},
   "outputs": [],
   "source": [
    "import graphviz; graphviz.Source('digraph { rankdir=LR; a -> c b -> c}').render(filename='ejemplo1', format='svg');"
   ]
  },
  {
   "cell_type": "markdown",
   "metadata": {},
   "source": [
    "<div align=left>\n",
    "<table><tr><td style=\"border: none; text-align:left; vertical-align:top; padding:0; margin:0;\" width=400>\n",
    "\n",
    "**Ejemplo:**\n",
    "\n",
    "$$P(a,b,c)=P(a)~P(b)~P(c \\mid a,b)$$\n",
    "\n",
    "</td><td style=\"border: none;\"><img src=\"ejemplo1.svg\"/></td><tr></table>\n",
    "</div>"
   ]
  },
  {
   "cell_type": "markdown",
   "metadata": {},
   "source": [
    "## 2 Un ejemplo detallado: aspersor"
   ]
  },
  {
   "cell_type": "code",
   "execution_count": 2,
   "metadata": {},
   "outputs": [],
   "source": [
    "import graphviz; graphviz.Source('''digraph { rankdir=LR; node [shape=plaintext];\n",
    "Lluvia [label=<<TABLE BORDER=\"0\" CELLBORDER=\"1\" CELLSPACING=\"0\">\n",
    "<TR><TD COLSPAN=\"2\">P(L)</TD></TR>\n",
    "<TR><TD COLSPAN=\"2\">Lluvia</TD></TR>\n",
    "<TR><TD>no llueve</TD><TD>sí llueve</TD></TR>\n",
    "<TR><TD>0.8</TD><TD>0.2</TD></TR>\n",
    "</TABLE>>];\n",
    "Aspersor [label=<<TABLE BORDER=\"0\" CELLBORDER=\"1\" CELLSPACING=\"0\">\n",
    "<TR><TD COLSPAN=\"3\">P(A | L)</TD></TR>\n",
    "<TR><TD></TD><TD COLSPAN=\"2\">Aspersor</TD></TR>\n",
    "<TR><TD>Lluvia</TD><TD>parado</TD><TD>funciona</TD></TR>\n",
    "<TR><TD>no llueve</TD><TD>0.60</TD><TD>0.40</TD></TR>\n",
    "<TR><TD>sí llueve</TD><TD>0.99</TD><TD>0.01</TD></TR>\n",
    "</TABLE>>];\n",
    "Césped [label=<<TABLE BORDER=\"0\" CELLBORDER=\"1\" CELLSPACING=\"0\">\n",
    "<TR><TD COLSPAN=\"4\">P(C | L, A)</TD></TR>\n",
    "<TR><TD COLSPAN=\"2\"></TD><TD COLSPAN=\"2\">Césped</TD></TR>\n",
    "<TR><TD>Lluvia</TD><TD>Aspersor</TD><TD>reseco</TD><TD>mojado</TD></TR>\n",
    "<TR><TD>no llueve</TD><TD>parado</TD><TD>1.00</TD><TD>0.00</TD></TR>\n",
    "<TR><TD>no llueve</TD><TD>funciona</TD><TD>0.10</TD><TD>0.90</TD></TR>\n",
    "<TR><TD>sí llueve</TD><TD>parado</TD><TD>0.20</TD><TD>0.80</TD></TR>\n",
    "<TR><TD>sí llueve</TD><TD>funciona</TD><TD>0.01</TD><TD>0.99</TD></TR>\n",
    "</TABLE>>];\n",
    "Lluvia -> Aspersor -> Césped\n",
    "Lluvia -> Césped\n",
    "}''').render(filename='aspersor', format='svg');"
   ]
  },
  {
   "cell_type": "markdown",
   "metadata": {},
   "source": [
    "<div align=\"center\"><img src='aspersor.svg'/></div>"
   ]
  },
  {
   "cell_type": "markdown",
   "metadata": {},
   "source": [
    "**Distribución conjunta:** $\\quad P(L,A,C)=P(L)P(A\\mid L)P(C\\mid L, A)$"
   ]
  },
  {
   "cell_type": "markdown",
   "metadata": {},
   "source": [
    "**Ejercicio:** $\\quad$ calcular $P(L=l, A=a, C=c)\\;$ para todo $\\,l\\in\\{\\mathrm{n,s}\\},\\,$ $a\\in\\{\\mathrm{p,f}\\}\\,$ y $\\,c\\in\\{\\mathrm{r,m}\\}$"
   ]
  },
  {
   "cell_type": "markdown",
   "metadata": {},
   "source": [
    "# 3 Otro ejemplo: cáncer"
   ]
  },
  {
   "cell_type": "code",
   "execution_count": 3,
   "metadata": {},
   "outputs": [],
   "source": [
    "import graphviz; graphviz.Source('''digraph { rankdir=LR; node [shape=plaintext];\n",
    "Polución [label=<<TABLE BORDER=\"0\" CELLBORDER=\"1\" CELLSPACING=\"0\">\n",
    "<TR><TD COLSPAN=\"2\">P(P)</TD></TR>\n",
    "<TR><TD COLSPAN=\"2\">Polución</TD></TR>\n",
    "<TR><TD>bajo</TD><TD>alto</TD></TR>\n",
    "<TR><TD>0.9</TD><TD>0.1</TD></TR>\n",
    "</TABLE>>];\n",
    "Fumador [label=<<TABLE BORDER=\"0\" CELLBORDER=\"1\" CELLSPACING=\"0\">\n",
    "<TR><TD COLSPAN=\"2\">P(F)</TD></TR>\n",
    "<TR><TD COLSPAN=\"2\">Fumador</TD></TR>\n",
    "<TR><TD>no</TD><TD>sí</TD></TR>\n",
    "<TR><TD>0.7</TD><TD>0.3</TD></TR>\n",
    "</TABLE>>];\n",
    "Cáncer [label=<<TABLE BORDER=\"0\" CELLBORDER=\"1\" CELLSPACING=\"0\">\n",
    "<TR><TD COLSPAN=\"4\">P(C | P, F)</TD></TR>\n",
    "<TR><TD COLSPAN=\"2\"></TD><TD COLSPAN=\"2\">Cáncer</TD></TR>\n",
    "<TR><TD>Polución</TD><TD>Fumador</TD><TD>negativo</TD><TD>positivo</TD></TR>\n",
    "<TR><TD>bajo</TD><TD>no</TD><TD>0.999</TD><TD>0.001</TD></TR>\n",
    "<TR><TD>bajo</TD><TD>sí</TD><TD>0.970</TD><TD>0.030</TD></TR>\n",
    "<TR><TD>alto</TD><TD>no</TD><TD>0.950</TD><TD>0.050</TD></TR>\n",
    "<TR><TD>alto</TD><TD>sí</TD><TD>0.920</TD><TD>0.080</TD></TR>\n",
    "</TABLE>>];\n",
    "RayosX [label=<<TABLE BORDER=\"0\" CELLBORDER=\"1\" CELLSPACING=\"0\">\n",
    "<TR><TD COLSPAN=\"4\">P(X | C)</TD></TR>\n",
    "<TR><TD></TD><TD COLSPAN=\"3\">Rayos X</TD></TR>\n",
    "<TR><TD>Cáncer</TD><TD>negativo</TD><TD>dudoso</TD><TD>positivo</TD></TR>\n",
    "<TR><TD>negativo</TD><TD>0.80</TD><TD>0.10</TD><TD>0.10</TD></TR>\n",
    "<TR><TD>positivo</TD><TD>0.10</TD><TD>0.20</TD><TD>0.70</TD></TR>\n",
    "</TABLE>>];\n",
    "Disnea [label=<<TABLE BORDER=\"0\" CELLBORDER=\"1\" CELLSPACING=\"0\">\n",
    "<TR><TD COLSPAN=\"3\">P(D | C)</TD></TR>\n",
    "<TR><TD></TD><TD COLSPAN=\"2\">Disnea</TD></TR>\n",
    "<TR><TD>Cáncer</TD><TD>no</TD><TD>sí</TD></TR>\n",
    "<TR><TD>negativo</TD><TD>0.70</TD><TD>0.30</TD></TR>\n",
    "<TR><TD>positivo</TD><TD>0.35</TD><TD>0.65</TD></TR>\n",
    "</TABLE>>];\n",
    "{ Polución, Fumador } -> Cáncer -> {RayosX, Disnea}\n",
    "}''').render(filename='cancer', format='svg');"
   ]
  },
  {
   "cell_type": "markdown",
   "metadata": {},
   "source": [
    "<div align=\"center\"><img src='cancer.svg'/></div>"
   ]
  },
  {
   "cell_type": "markdown",
   "metadata": {},
   "source": [
    "**Ejercicio:** ¿Cuál es la probabilidad de que un paciente no fumador no tenga cáncer si la radiografía ha dado un resultado negativo pero sufre de disnea?"
   ]
  }
 ],
 "metadata": {
  "anaconda-cloud": {},
  "kernelspec": {
   "display_name": "Python 3",
   "language": "python",
   "name": "python3"
  },
  "language_info": {
   "codemirror_mode": {
    "name": "ipython",
    "version": 3
   },
   "file_extension": ".py",
   "mimetype": "text/x-python",
   "name": "python",
   "nbconvert_exporter": "python",
   "pygments_lexer": "ipython3",
   "version": "3.11.4"
  }
 },
 "nbformat": 4,
 "nbformat_minor": 1
}
