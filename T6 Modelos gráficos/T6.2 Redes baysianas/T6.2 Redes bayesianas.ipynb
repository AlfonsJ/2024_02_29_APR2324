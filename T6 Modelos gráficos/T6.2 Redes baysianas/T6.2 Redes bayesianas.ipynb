{
 "cells": [
  {
   "cell_type": "markdown",
   "metadata": {},
   "source": [
    "# T6.2 Redes Bayesianas"
   ]
  },
  {
   "cell_type": "markdown",
   "metadata": {},
   "source": [
    "# Índice\n",
    "\n",
    "1. Ejemplos\n",
    "2. Un ejemplo detallado: aspersor\n",
    "3. Otro ejemplo: cáncer\n",
    "4. Redes bayesianas\n",
    "5. Algunas redes bayesianas simples\n",
    "6. Otro ejemplo de red bayesiana: modelo oculto de Markov"
   ]
  },
  {
   "cell_type": "markdown",
   "metadata": {},
   "source": [
    "## 1 Ejemplos\n",
    "\n",
    "**Factorización de una distribución conjunta con dependencias inexistentes o despreciables:** $\\;$ la factorización exacta (o aproximada) puede ser incompleta, lo que queda reflejado en el grafo correspondiente"
   ]
  },
  {
   "cell_type": "markdown",
   "metadata": {},
   "source": [
    "**Ejemplo:** $\\;P(a,b,c)=P(a)~P(b)~P(c \\mid a,b)$"
   ]
  },
  {
   "cell_type": "code",
   "execution_count": 1,
   "metadata": {},
   "outputs": [],
   "source": [
    "import graphviz; graphviz.Source('digraph { rankdir=LR; a -> c b -> c}').render(filename='ejemplo1', format='svg');"
   ]
  },
  {
   "cell_type": "markdown",
   "metadata": {},
   "source": [
    "<div align=center><img src=\"ejemplo1.svg\"/></div>"
   ]
  },
  {
   "cell_type": "markdown",
   "metadata": {},
   "source": [
    "**Ejemplo:** $\\;P(a,b,c,d,e,f)=P(a)~P(b)~P(c)~P(d\\mid b,c)~P(e\\mid a,b,d)~P(f\\mid a,c)$"
   ]
  },
  {
   "cell_type": "code",
   "execution_count": 2,
   "metadata": {},
   "outputs": [],
   "source": [
    "import graphviz; graphviz.Source('''digraph { rankdir=LR; a -> {e, f} b -> {d, e} c -> {d, f} d -> e}\n",
    "''').render(filename='ejemplo2', format='svg');"
   ]
  },
  {
   "cell_type": "markdown",
   "metadata": {},
   "source": [
    "\n",
    "<div align=center><img src=\"ejemplo2.svg\"/></div>\n"
   ]
  },
  {
   "cell_type": "markdown",
   "metadata": {},
   "source": [
    "## 2 Un ejemplo detallado: aspersor"
   ]
  },
  {
   "cell_type": "code",
   "execution_count": 3,
   "metadata": {},
   "outputs": [],
   "source": [
    "import graphviz; graphviz.Source('''digraph { rankdir=LR; node [shape=plaintext];\n",
    "Lluvia [label=<<TABLE BORDER=\"0\" CELLBORDER=\"1\" CELLSPACING=\"0\">\n",
    "<TR><TD COLSPAN=\"2\">P(L)</TD></TR>\n",
    "<TR><TD COLSPAN=\"2\">Lluvia</TD></TR>\n",
    "<TR><TD>no llueve</TD><TD>sí llueve</TD></TR>\n",
    "<TR><TD>0.8</TD><TD>0.2</TD></TR>\n",
    "</TABLE>>];\n",
    "Aspersor [label=<<TABLE BORDER=\"0\" CELLBORDER=\"1\" CELLSPACING=\"0\">\n",
    "<TR><TD COLSPAN=\"3\">P(A | L)</TD></TR>\n",
    "<TR><TD></TD><TD COLSPAN=\"2\">Aspersor</TD></TR>\n",
    "<TR><TD>Lluvia</TD><TD>parado</TD><TD>funciona</TD></TR>\n",
    "<TR><TD>no llueve</TD><TD>0.60</TD><TD>0.40</TD></TR>\n",
    "<TR><TD>sí llueve</TD><TD>0.99</TD><TD>0.01</TD></TR>\n",
    "</TABLE>>];\n",
    "Césped [label=<<TABLE BORDER=\"0\" CELLBORDER=\"1\" CELLSPACING=\"0\">\n",
    "<TR><TD COLSPAN=\"4\">P(C | L, A)</TD></TR>\n",
    "<TR><TD COLSPAN=\"2\"></TD><TD COLSPAN=\"2\">Césped</TD></TR>\n",
    "<TR><TD>Lluvia</TD><TD>Aspersor</TD><TD>reseco</TD><TD>mojado</TD></TR>\n",
    "<TR><TD>no llueve</TD><TD>parado</TD><TD>1.00</TD><TD>0.00</TD></TR>\n",
    "<TR><TD>no llueve</TD><TD>funciona</TD><TD>0.10</TD><TD>0.90</TD></TR>\n",
    "<TR><TD>sí llueve</TD><TD>parado</TD><TD>0.20</TD><TD>0.80</TD></TR>\n",
    "<TR><TD>sí llueve</TD><TD>funciona</TD><TD>0.01</TD><TD>0.99</TD></TR>\n",
    "</TABLE>>];\n",
    "Lluvia -> Aspersor -> Césped\n",
    "Lluvia -> Césped\n",
    "}''').render(filename='aspersor', format='svg');"
   ]
  },
  {
   "cell_type": "markdown",
   "metadata": {},
   "source": [
    "<div align=\"center\"><img src='aspersor.svg'/></div>"
   ]
  },
  {
   "cell_type": "markdown",
   "metadata": {},
   "source": [
    "**Distribución conjunta:** $\\quad P(L,A,C)=P(L)P(A\\mid L)P(C\\mid L, A)$"
   ]
  },
  {
   "cell_type": "markdown",
   "metadata": {},
   "source": [
    "**Ejercicio:** $\\;$ calcular $P(L=l, A=a, C=c)\\;$ para todo $\\,l\\in\\{\\mathrm{n,s}\\},\\,$ $a\\in\\{\\mathrm{p,f}\\}\\,$ y $\\,c\\in\\{\\mathrm{r,m}\\}$"
   ]
  },
  {
   "cell_type": "markdown",
   "metadata": {},
   "source": [
    "**Solución:**\n",
    "$$\\begin{array}{cccc}\n",
    "L & A & C & P(L,A,C)\\\\\\hline\n",
    "\\mathrm{n} & \\mathrm{p} & \\mathrm{r} & 0.8\\cdot 0.60\\cdot 1.00 = 0.48000\\\\\n",
    "\\mathrm{n} & \\mathrm{p} & \\mathrm{m} & 0.8\\cdot 0.60\\cdot 0.00 = 0.00000\\\\\n",
    "\\mathrm{n} & \\mathrm{f} & \\mathrm{r} & 0.8\\cdot 0.40\\cdot 0.10 = 0.03200\\\\\n",
    "\\mathrm{n} & \\mathrm{f} & \\mathrm{m} & 0.8\\cdot 0.40\\cdot 0.90 = 0.28800\\\\\n",
    "\\mathrm{s} & \\mathrm{p} & \\mathrm{r} & 0.2\\cdot 0.99\\cdot 0.20 = 0.03960\\\\\n",
    "\\mathrm{s} & \\mathrm{p} & \\mathrm{m} & 0.2\\cdot 0.99\\cdot 0.80 = 0.15840\\\\\n",
    "\\mathrm{s} & \\mathrm{f} & \\mathrm{r} & 0.2\\cdot 0.01\\cdot 0.01 = 0.00002\\\\\n",
    "\\mathrm{s} & \\mathrm{f} & \\mathrm{m} & 0.2\\cdot 0.01\\cdot 0.99 = 0.00198\n",
    "\\end{array}$$"
   ]
  },
  {
   "cell_type": "markdown",
   "metadata": {},
   "source": [
    "**Ejercicio:** $\\;$ ¿Cuál es la probabilidad de que llueva si el césped está mojado?"
   ]
  },
  {
   "cell_type": "markdown",
   "metadata": {},
   "source": [
    "**Solución:**\n",
    "$$\\begin{align*}\n",
    "P(L=\\mathrm{s} \\mid C=\\mathrm{m})&=\\frac{P(L=\\mathrm{s},C=\\mathrm{m})}{P(C=\\mathrm{m})}\\\\\n",
    "&=\\frac{\\sum_aP(L=\\mathrm{s},A=a,C=\\mathrm{m})}{\\sum_{l,\\,a}P(L=l,A=a,C=\\mathrm{m})}\\\\\n",
    "&=\\frac{0.1584+0.00198}{0.0+0.288+0.1584+0.00198}=0.3577\n",
    "\\end{align*}$$\n"
   ]
  },
  {
   "cell_type": "markdown",
   "metadata": {},
   "source": [
    "**Ejercicio:** $\\;$ El césped está mojado. ¿Cuál es la mejor predicción: llueve o no llueve?"
   ]
  },
  {
   "cell_type": "markdown",
   "metadata": {},
   "source": [
    "**Solución:** $\\;\\operatorname{argmax}_{l\\in\\{\\mathrm{n,s}\\}} P(L=l \\mid C=\\mathrm{m}) ~=~ \\mathrm{n}$"
   ]
  },
  {
   "cell_type": "markdown",
   "metadata": {},
   "source": [
    "**Ejercicio:** $\\;$ calcular $P(A=a\\mid L=l, C=c),\\,a\\in\\{\\mathrm{p,f}\\},\\,l\\in\\{\\mathrm{n,s}\\},\\,c\\in\\{\\mathrm{r,m}\\}$"
   ]
  },
  {
   "cell_type": "markdown",
   "metadata": {},
   "source": [
    "**Solución:** $\\displaystyle\\;P(A=a\\mid L=l, C=c)=\\frac{P(L=l, A=a, C=c)}{P(L=l, C=c)}=\\frac{P(L=l, A=a, C=c)}{\\sum_{\\tilde{a}}P(L=l, A=\\tilde{a}, C=c)}$\n",
    "$$\\begin{array}{cccccc}\n",
    "L & A & C & P(L,A,C) & P(L,C) & P(A\\mid L, C)\\\\\\hline\n",
    "\\mathrm{n} & \\mathrm{p} & \\mathrm{r} & 0.48000 & 0.51200 & 0.93750\\\\\n",
    "\\mathrm{n} & \\mathrm{p} & \\mathrm{m} & 0.00000 & 0.28800 & 0.00000\\\\\n",
    "\\mathrm{n} & \\mathrm{f} & \\mathrm{r} & 0.03200 & 0.51200 & 0.06250\\\\\n",
    "\\mathrm{n} & \\mathrm{f} & \\mathrm{m} & 0.28800 & 0.28800 & 1.00000\\\\\n",
    "\\mathrm{s} & \\mathrm{p} & \\mathrm{r} & 0.03960 & 0.03962 & 0.99950\\\\\n",
    "\\mathrm{s} & \\mathrm{p} & \\mathrm{m} & 0.15840 & 0.16038 & 0.98765\\\\\n",
    "\\mathrm{s} & \\mathrm{f} & \\mathrm{r} & 0.00002 & 0.03962 & 0.00050\\\\\n",
    "\\mathrm{s} & \\mathrm{f} & \\mathrm{m} & 0.00198 & 0.16038 & 0.01235\n",
    "\\end{array}$$"
   ]
  },
  {
   "cell_type": "markdown",
   "metadata": {},
   "source": [
    "**Ejercicio:** $\\;$ Llueve y el cesped está mojado. ¿Cuál es la mejor predicción sobre el estado del aspersor?"
   ]
  },
  {
   "cell_type": "markdown",
   "metadata": {},
   "source": [
    "**Solución:** $\\;\\operatorname{argmax}_{a\\in\\{\\mathrm{p,f}\\}} P(A=a \\mid L=\\mathrm{s}, C=\\mathrm{m}) ~=~ \\mathrm{p}\\quad$ con probabilidad del $\\;98.8\\%$"
   ]
  },
  {
   "cell_type": "markdown",
   "metadata": {},
   "source": [
    "# 3 Otro ejemplo: cáncer"
   ]
  },
  {
   "cell_type": "code",
   "execution_count": 4,
   "metadata": {},
   "outputs": [],
   "source": [
    "import graphviz; graphviz.Source('''digraph { rankdir=LR; node [shape=plaintext];\n",
    "Polución [label=<<TABLE BORDER=\"0\" CELLBORDER=\"1\" CELLSPACING=\"0\">\n",
    "<TR><TD COLSPAN=\"2\">P(P)</TD></TR>\n",
    "<TR><TD COLSPAN=\"2\">Polución</TD></TR>\n",
    "<TR><TD>bajo</TD><TD>alto</TD></TR>\n",
    "<TR><TD>0.9</TD><TD>0.1</TD></TR>\n",
    "</TABLE>>];\n",
    "Fumador [label=<<TABLE BORDER=\"0\" CELLBORDER=\"1\" CELLSPACING=\"0\">\n",
    "<TR><TD COLSPAN=\"2\">P(F)</TD></TR>\n",
    "<TR><TD COLSPAN=\"2\">Fumador</TD></TR>\n",
    "<TR><TD>no</TD><TD>sí</TD></TR>\n",
    "<TR><TD>0.7</TD><TD>0.3</TD></TR>\n",
    "</TABLE>>];\n",
    "Cáncer [label=<<TABLE BORDER=\"0\" CELLBORDER=\"1\" CELLSPACING=\"0\">\n",
    "<TR><TD COLSPAN=\"4\">P(C | P, F)</TD></TR>\n",
    "<TR><TD COLSPAN=\"2\"></TD><TD COLSPAN=\"2\">Cáncer</TD></TR>\n",
    "<TR><TD>Polución</TD><TD>Fumador</TD><TD>negativo</TD><TD>positivo</TD></TR>\n",
    "<TR><TD>bajo</TD><TD>no</TD><TD>0.999</TD><TD>0.001</TD></TR>\n",
    "<TR><TD>bajo</TD><TD>sí</TD><TD>0.970</TD><TD>0.030</TD></TR>\n",
    "<TR><TD>alto</TD><TD>no</TD><TD>0.950</TD><TD>0.050</TD></TR>\n",
    "<TR><TD>alto</TD><TD>sí</TD><TD>0.920</TD><TD>0.080</TD></TR>\n",
    "</TABLE>>];\n",
    "RayosX [label=<<TABLE BORDER=\"0\" CELLBORDER=\"1\" CELLSPACING=\"0\">\n",
    "<TR><TD COLSPAN=\"4\">P(X | C)</TD></TR>\n",
    "<TR><TD></TD><TD COLSPAN=\"3\">Rayos X</TD></TR>\n",
    "<TR><TD>Cáncer</TD><TD>negativo</TD><TD>dudoso</TD><TD>positivo</TD></TR>\n",
    "<TR><TD>negativo</TD><TD>0.80</TD><TD>0.10</TD><TD>0.10</TD></TR>\n",
    "<TR><TD>positivo</TD><TD>0.10</TD><TD>0.20</TD><TD>0.70</TD></TR>\n",
    "</TABLE>>];\n",
    "Disnea [label=<<TABLE BORDER=\"0\" CELLBORDER=\"1\" CELLSPACING=\"0\">\n",
    "<TR><TD COLSPAN=\"3\">P(D | C)</TD></TR>\n",
    "<TR><TD></TD><TD COLSPAN=\"2\">Disnea</TD></TR>\n",
    "<TR><TD>Cáncer</TD><TD>no</TD><TD>sí</TD></TR>\n",
    "<TR><TD>negativo</TD><TD>0.70</TD><TD>0.30</TD></TR>\n",
    "<TR><TD>positivo</TD><TD>0.35</TD><TD>0.65</TD></TR>\n",
    "</TABLE>>];\n",
    "{ Polución, Fumador } -> Cáncer -> {RayosX, Disnea}\n",
    "}''').render(filename='cancer', format='svg');"
   ]
  },
  {
   "cell_type": "markdown",
   "metadata": {},
   "source": [
    "<div align=\"center\"><img src='cancer.svg'/></div>"
   ]
  },
  {
   "cell_type": "markdown",
   "metadata": {},
   "source": [
    "**Ejercicio:** ¿Cuál es la probabilidad de que un paciente no fumador no tenga cáncer si la radiografía ha dado un resultado negativo pero sufre de disnea?"
   ]
  },
  {
   "cell_type": "markdown",
   "metadata": {},
   "source": [
    "**Solución:** $\\;P(P,F,C,X,D)=P(P)P(F)P(C\\mid P,F)P(X\\mid C)P(D\\mid C)$\n",
    "$$\\begin{align*}\n",
    "P(C=n\\mid F=n, X=n, D=s)&=\\frac{P(F=n, C=n, X=n, D=s)}{P(F=n, X=n, D=s)}\\\\\n",
    "&=\\frac{\\sum_p P(P=p, F=n, C=n, X=n, D=s)}{\\sum_{p,c} P(P=p, F=n, C=c, X=n, D=s)}\\\\\n",
    "&=\\frac{0.15105+0.01596}{0.15105+0.00004+0.01596+0.00023}=99.8\\%\n",
    "\\end{align*}$$\n",
    "\n",
    "$$\\begin{array}{ccccccc}\n",
    "P & F & C & X & D & P(P, F, C, X, D)\\\\\\hline\n",
    "\\mathrm{b}&\\mathrm{n}&\\mathrm{n}&\\mathrm{n}&\\mathrm{s}&0.9\\cdot0.7\\cdot0.999\\cdot0.80\\cdot0.30=0.15105\\\\\n",
    "\\mathrm{b}&\\mathrm{n}&\\mathrm{p}&\\mathrm{n}&\\mathrm{s}&0.9\\cdot0.7\\cdot0.001\\cdot0.10\\cdot0.65=0.00004\\\\\n",
    "\\mathrm{a}&\\mathrm{n}&\\mathrm{n}&\\mathrm{n}&\\mathrm{s}&0.1\\cdot0.7\\cdot0.950\\cdot0.80\\cdot0.30=0.01596\\\\\n",
    "\\mathrm{a}&\\mathrm{n}&\\mathrm{p}&\\mathrm{n}&\\mathrm{s}&0.1\\cdot0.7\\cdot0.050\\cdot0.10\\cdot0.65=0.00023\n",
    "\\end{array}$$"
   ]
  },
  {
   "cell_type": "markdown",
   "metadata": {},
   "source": [
    "## 4 Redes bayesianas\n",
    "\n",
    "**Red bayesiana:** $\\;$ grafo dirigido y acíclico (DAG)\n",
    "\n",
    "**Nodos:** $\\;$ cada nodo se asocia a una variable aleatoria discreta (o continua), $\\,x_i,\\,$ cuya distribución de probabilidad se halla condicionada por los valores observados de las variables asociadas a sus nodos padre o antepasado $\\;a(x_i)$\n",
    "\n",
    "**Arcos:** $\\;$ representan dependencias entre variables; cada ausencia de arista indica una independencia condicional\n",
    "\n",
    "**Distribución conjunta:** $\\;$ de una red con nodos $\\;x_1,\\dotsc,x_D$\n",
    "$$P(x_1,\\dotsc,x_D)=\\prod_{i=1}^DP(x_i\\mid a(x_i))$$"
   ]
  },
  {
   "cell_type": "markdown",
   "metadata": {},
   "source": [
    "## 5 Algunas redes bayesianas simples\n",
    "\n",
    "**Tarea:** $\\;$ clasificar un $\\,\\boldsymbol{x}=(x_1,\\dotsc,x_D)^t\\in\\mathbb{R}^D\\,$ dado en una clase $\\,c\\in\\{1,\\dotsc,C\\}$"
   ]
  },
  {
   "cell_type": "markdown",
   "metadata": {},
   "source": [
    "### Red general"
   ]
  },
  {
   "cell_type": "code",
   "execution_count": 5,
   "metadata": {},
   "outputs": [],
   "source": [
    "import graphviz; graphviz.Source('digraph {rankdir=TB; x[label=<<B><I>x</I></B>>] c->x}').render(filename='bayes', format='svg');"
   ]
  },
  {
   "cell_type": "markdown",
   "metadata": {},
   "source": [
    "<div><table border-collapse: collapse align=left><tr>\n",
    "<td style=\"border: none; text-align:left; vertical-align:top; padding:0; margin:0;\" width=600>\n",
    "\n",
    "**Red:** $\\;c\\,$ depende de $\\,\\boldsymbol{x}\\,$ sin más (asunciones)\n",
    "\n",
    "**Distribución conjunta:** $\\displaystyle\\;P(\\boldsymbol{x}, c)=P(c)P(\\boldsymbol{x}\\mid c)$\n",
    "\n",
    "**Clasificador de Bayes:** $\\displaystyle\\;P(c\\mid\\boldsymbol{x})=\\frac{P(\\boldsymbol{x},c)}{P(\\boldsymbol{x})}=\\frac{P(c)P(\\boldsymbol{x}\\mid c)}{\\sum_{\\tilde{c}}P(\\tilde{c})P(\\boldsymbol{x}\\mid\\tilde{c})}$\n",
    "\n",
    "</td><td style=\"border: none; text-align:left; vertical-align:top; padding:0; margin:0;\" width=200>\n",
    "\n",
    "<img src=\"bayes.svg\">\n",
    "\n",
    "</td></tr></table></div>"
   ]
  },
  {
   "cell_type": "markdown",
   "metadata": {},
   "source": [
    "### Red naive Bayes"
   ]
  },
  {
   "cell_type": "code",
   "execution_count": 1,
   "metadata": {},
   "outputs": [],
   "source": [
    "import graphviz; graphviz.Source('''digraph {rankdir=TB; splines=false;\n",
    "{rank=same x1[label=<<i>x<sub>1</sub></i>>] xdots[shape=none label=\"&hellip;\"] xD[label=<<i>x<sub>D</sub></i>>]}\n",
    "c->{x1,xD} c->xdots[style=invis]}''').render(filename='naive', format='svg');"
   ]
  },
  {
   "cell_type": "markdown",
   "metadata": {},
   "source": [
    "<div><table border-collapse: collapse align=left><tr>\n",
    "<td style=\"border: none; text-align:left; vertical-align:top; padding:0; margin:0;\" width=600>\n",
    "\n",
    "**Red:** $\\;c\\,$ depende de $\\,x_1,\\dotsc,x_D,\\,$ y las características son condicionalmente independientes dada la clase\n",
    "$$P(x_1,\\dotsc,x_D\\mid c)=\\prod_{d=1}^DP(x_d\\mid c)$$\n",
    "\n",
    "**Distribución conjunta:** $\\displaystyle\\;P(x_1,\\dotsc,x_D,c)=P(c)\\prod_{d=1}^DP(x_d\\mid c)$\n",
    "\n",
    "**Clasificador naive Bayes:**\n",
    "$$P(c\\mid x_1,\\dotsc,x_D)=\\frac{P(x_1,\\dotsc,x_D,c)}{P(x_1,\\dotsc,x_D)}=\\frac{P(c)\\prod_{d=1}^DP(x_d\\mid c)}{\\sum_{\\tilde{c}}P(\\tilde{c})\\prod_{d=1}^DP(x_d\\mid\\tilde{c})}$$\n",
    "\n",
    "</td><td style=\"border: none; text-align:left; vertical-align:top; padding:0; margin:0;\" width=300>\n",
    "\n",
    "<img src=\"naive.svg\">\n",
    "\n",
    "</td></tr></table></div>"
   ]
  },
  {
   "cell_type": "markdown",
   "metadata": {},
   "source": [
    "## 6 Otro ejemplo de red bayesiana: modelo oculto de Markov"
   ]
  }
 ],
 "metadata": {
  "anaconda-cloud": {},
  "kernelspec": {
   "display_name": "Python 3",
   "language": "python",
   "name": "python3"
  },
  "language_info": {
   "codemirror_mode": {
    "name": "ipython",
    "version": 3
   },
   "file_extension": ".py",
   "mimetype": "text/x-python",
   "name": "python",
   "nbconvert_exporter": "python",
   "pygments_lexer": "ipython3",
   "version": "3.11.4"
  }
 },
 "nbformat": 4,
 "nbformat_minor": 1
}
