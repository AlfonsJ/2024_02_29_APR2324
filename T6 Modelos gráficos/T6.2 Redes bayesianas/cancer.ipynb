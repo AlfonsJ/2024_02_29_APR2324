{
 "cells": [
  {
   "cell_type": "markdown",
   "metadata": {},
   "source": [
    "# Ejemplo de red bayesiana: cáncer"
   ]
  },
  {
   "cell_type": "code",
   "execution_count": 1,
   "metadata": {},
   "outputs": [],
   "source": [
    "import graphviz; graphviz.Source('''digraph { rankdir=LR; node [shape=plaintext];\n",
    "Polución [label=<<TABLE BORDER=\"0\" CELLBORDER=\"1\" CELLSPACING=\"0\">\n",
    "<TR><TD COLSPAN=\"2\">P(P)</TD></TR>\n",
    "<TR><TD COLSPAN=\"2\">Polución</TD></TR>\n",
    "<TR><TD>bajo</TD><TD>alto</TD></TR>\n",
    "<TR><TD>0.9</TD><TD>0.1</TD></TR>\n",
    "</TABLE>>];\n",
    "Fumador [label=<<TABLE BORDER=\"0\" CELLBORDER=\"1\" CELLSPACING=\"0\">\n",
    "<TR><TD COLSPAN=\"2\">P(F)</TD></TR>\n",
    "<TR><TD COLSPAN=\"2\">Fumador</TD></TR>\n",
    "<TR><TD>no</TD><TD>sí</TD></TR>\n",
    "<TR><TD>0.7</TD><TD>0.3</TD></TR>\n",
    "</TABLE>>];\n",
    "Cáncer [label=<<TABLE BORDER=\"0\" CELLBORDER=\"1\" CELLSPACING=\"0\">\n",
    "<TR><TD COLSPAN=\"4\">P(C | P, F)</TD></TR>\n",
    "<TR><TD COLSPAN=\"2\"></TD><TD COLSPAN=\"2\">Cáncer</TD></TR>\n",
    "<TR><TD>Polución</TD><TD>Fumador</TD><TD>negativo</TD><TD>positivo</TD></TR>\n",
    "<TR><TD>bajo</TD><TD>no</TD><TD>0.999</TD><TD>0.001</TD></TR>\n",
    "<TR><TD>bajo</TD><TD>sí</TD><TD>0.970</TD><TD>0.030</TD></TR>\n",
    "<TR><TD>alto</TD><TD>no</TD><TD>0.950</TD><TD>0.050</TD></TR>\n",
    "<TR><TD>alto</TD><TD>sí</TD><TD>0.920</TD><TD>0.080</TD></TR>\n",
    "</TABLE>>];\n",
    "RayosX [label=<<TABLE BORDER=\"0\" CELLBORDER=\"1\" CELLSPACING=\"0\">\n",
    "<TR><TD COLSPAN=\"4\">P(X | C)</TD></TR>\n",
    "<TR><TD></TD><TD COLSPAN=\"3\">Rayos X</TD></TR>\n",
    "<TR><TD>Cáncer</TD><TD>negativo</TD><TD>dudoso</TD><TD>positivo</TD></TR>\n",
    "<TR><TD>negativo</TD><TD>0.80</TD><TD>0.10</TD><TD>0.10</TD></TR>\n",
    "<TR><TD>positivo</TD><TD>0.10</TD><TD>0.20</TD><TD>0.70</TD></TR>\n",
    "</TABLE>>];\n",
    "Disnea [label=<<TABLE BORDER=\"0\" CELLBORDER=\"1\" CELLSPACING=\"0\">\n",
    "<TR><TD COLSPAN=\"3\">P(D | C)</TD></TR>\n",
    "<TR><TD></TD><TD COLSPAN=\"2\">Disnea</TD></TR>\n",
    "<TR><TD>Cáncer</TD><TD>no</TD><TD>sí</TD></TR>\n",
    "<TR><TD>negativo</TD><TD>0.70</TD><TD>0.30</TD></TR>\n",
    "<TR><TD>positivo</TD><TD>0.35</TD><TD>0.65</TD></TR>\n",
    "</TABLE>>];\n",
    "{ Polución, Fumador } -> Cáncer -> {RayosX, Disnea}\n",
    "}''').render(filename='cancer', format='svg');"
   ]
  },
  {
   "cell_type": "markdown",
   "metadata": {},
   "source": [
    "<div align=\"center\"><img src='cancer.svg'/></div>"
   ]
  },
  {
   "cell_type": "markdown",
   "metadata": {},
   "source": [
    "**Ejercicio:** ¿Cuál es la probabilidad de que un paciente no fumador no tenga cáncer si la radiografía ha dado un resultado negativo pero sufre de disnea?"
   ]
  }
 ],
 "metadata": {
  "anaconda-cloud": {},
  "kernelspec": {
   "display_name": "Python 3",
   "language": "python",
   "name": "python3"
  },
  "language_info": {
   "codemirror_mode": {
    "name": "ipython",
    "version": 3
   },
   "file_extension": ".py",
   "mimetype": "text/x-python",
   "name": "python",
   "nbconvert_exporter": "python",
   "pygments_lexer": "ipython3",
   "version": "3.11.4"
  }
 },
 "nbformat": 4,
 "nbformat_minor": 1
}
