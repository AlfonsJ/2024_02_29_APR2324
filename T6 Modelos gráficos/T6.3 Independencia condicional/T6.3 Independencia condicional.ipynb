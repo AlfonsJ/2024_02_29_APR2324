{
 "cells": [
  {
   "cell_type": "markdown",
   "metadata": {},
   "source": [
    "# T6.3 Independencia condicional"
   ]
  },
  {
   "cell_type": "markdown",
   "metadata": {},
   "source": [
    "## Independencia condicional\n",
    "\n",
    "**Independencia (incondicional) de dos variables:** $\\;X$ e $Y$ son **incondicionalmente independientes** o **marginalmente independientes** si su conjunta puede expresarse como el producto de sus marginales\n",
    "$$ X\\perp Y \\;\\Leftrightarrow\\; P(X, Y) = P(X)\\,P(Y)$$\n",
    "\n",
    "**Independencia mútua de un conjunto de variables:** $\\;$ un conjunto de variables $X_1,\\dotsc,X_n$ es **(mútuamente) independiente** si la conjunta puede expresarse como producto de marginales para todo subconjunto $\\{X_1,\\dotsc,X_m\\}\\subseteq\\{X_1,\\dotsc,X_n\\}$; esto es,\n",
    "$$P(X_1,\\dotsc,X_m)=\\prod_{i=1}^mP(X_i)$$\n",
    "\n",
    "**Independencia condicional de dos variables:** $\\;X$ e $Y$ son **condicionalmente independientes** dada $Z$ sii su conjunta condicional puede expresarse como el producto de sus marginales condicionales\n",
    "$$ X\\perp Y\\mid Z \\;\\Leftrightarrow\\; P(X, Y\\mid Z) = P(X\\mid Z)\\,P(Y\\mid Z)$$"
   ]
  },
  {
   "cell_type": "markdown",
   "metadata": {},
   "source": [
    "## Independencia condicional en una red (d-separación)\n",
    "\n",
    "**Camino d-separado:** $\\;$ un *camino no dirigido* $P$ está d-separado por un conjunto de nodos $C$ (que contiene la evidencia) sii se cumple al menos una de las siguientes condiciones\n",
    "1. $P$ contiene una **cadena (chain)** o **tubería (pipe)**, $\\,s\\leftarrow m\\leftarrow t\\,$ o $\\,s\\rightarrow m\\rightarrow t,\\,$ donde $m\\in C$\n",
    "2. $P$ contiene una **colisionador (tent)** o **bifurcación (fork)**, $\\,s\\swarrow ^m\\searrow t,\\,$ donde $m\\in C$\n",
    "3. $P$ contiene un **chocador (collider)** o **estructura en V**, $\\,s\\searrow _m\\swarrow t,\\,$ donde ni $m$ ni ninguno de sus descendientes pertenece a $C$\n",
    "\n",
    "**Conjunto de nodos d-separado:** $\\;$ un *conjunto de nodos* $A$ está d-separado de un conjunto diferente de nodos $B$ dado un tercer conjunto (observado) $C$ sii cada camino no dirigido desde cada nodo $a\\in A$ a cada nodo $b\\in B$ está d-separado por $C$\n",
    "\n",
    "**Independencia condicional en una red $G$:** $\\quad\\mathbf{X}_A\\perp_G\\mathbf{X}_B\\mid\\mathbf{X}_C\\;\\Leftrightarrow\\;A\\,$ está d-separado de $B$ dado $C$"
   ]
  }
 ],
 "metadata": {
  "language_info": {
   "name": "python"
  }
 },
 "nbformat": 4,
 "nbformat_minor": 2
}
