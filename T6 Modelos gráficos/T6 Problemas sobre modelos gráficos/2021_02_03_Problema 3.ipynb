{
 "cells": [
  {
   "cell_type": "markdown",
   "metadata": {},
   "source": [
    "# 2021_02_03_Problema 3"
   ]
  },
  {
   "cell_type": "markdown",
   "metadata": {},
   "source": [
    "Las variables aleatorias $A, B, C, D, E$ toman valores en $\\{0,1\\}$. La distribución de probabilidad conjunta de estas variables viene dada por\n",
    "$$P(A,B,C,D,E)~=~P(A)~P(B\\mid A)~P(C\\mid A,B)~P(D\\mid B,C)~P(E\\mid C,D)$$\n",
    "con las correspondientes distribuciones de probabilidad:\n",
    "$$\\begin{array}{l}\n",
    "P(A=1)~=~0.3 \\\\[1ex]\n",
    "P(B=1\\mid A=1)~=~0.4 \\\\\n",
    "P(B=1\\mid A=0)~=~0.6 \\\\[1ex]\n",
    "P(C=1\\mid A=0,B=0)~=~P(D=1\\mid B=0,C=0)~=~P(E=1\\mid C=0,D=0)~=~0.2\\\\\n",
    "P(C=1\\mid A=0,B=1)~=~P(D=1\\mid B=0,C=1)~=~P(E=1\\mid C=0,D=1)~=~0.3\\\\\n",
    "P(C=1\\mid A=1,B=0)~=~P(D=1\\mid B=1,C=0)~=~P(E=1\\mid C=1,D=0)~=~0.4\\\\\n",
    "P(C=1\\mid A=1,B=1)~=~P(D=1\\mid B=1,C=1)~=~P(E=1\\mid C=1,D=1)~=~0.5\\\\\n",
    "\\end{array}$$\n",
    "\n",
    "Se pide:\n",
    "1. Representar gráficamente la red bayesiana correspondiente\n",
    "2. Obtener una expresión simplificada de $P(D,E\\mid A,B,C)$\n",
    "3. Dados $A=B=C=1$, ¿Cuál es la mejor predicción para el valor de $E$?"
   ]
  },
  {
   "cell_type": "markdown",
   "metadata": {},
   "source": [
    "## Solución\n",
    "\n",
    "**Representar gráficamente la red bayesiana correspondiente:**\n",
    "<div><img src=\"2021_02_03_Problema 3.png\" width=400></div>\n",
    "\n",
    "**Obtener una expresión simplificada de $P(D,E\\mid A,B,C)$:**\n",
    "$$\\begin{align*}\n",
    "P(D,E\\mid A,B,C)&=\\frac{P(A,B,C,D,E)}{P(A,B,C)}\\\\\n",
    "&=\\frac{P(A)~P(B\\mid A)~P(C\\mid A,B)~P(D\\mid B,C)~P(E\\mid C,D)}{\\sum_{e,d} P(A)~P(B\\mid A)~P(C\\mid A,B)~P(D=d\\mid B,C)~P(E=e\\mid C,D=d)}\\\\\n",
    "&=\\frac{\\cancel{P(A)}~\\cancel{P(B\\mid A)}~\\cancel{P(C\\mid A,B)}~P(D\\mid B,C)~P(E\\mid C,D)}{\\cancel{P(A)}~\\cancel{P(B\\mid A)}~\\cancel{P(C\\mid A,B)}~\\sum_{e,d} P(D=d\\mid B,C)~P(E=e\\mid C,D=d)} \\\\\n",
    "&=\\frac{P(D\\mid B,C)~P(E\\mid C,D)}{\\sum_{d} P(D=d\\mid B,C)~\\sum_{e}P(E=e\\mid C,D=d)}\\\\\n",
    "&=P(D\\mid B,C)~P(E\\mid C,D)\n",
    "\\end{align*}$$\n",
    "\n",
    "**Dados $A=B=C=1$, ¿Cuál es la mejor predicción para el valor de $E$?:**\n",
    "$$\\begin{align*}\n",
    "P(D=0,E=0\\mid A=1,B=1,C=1)&=P(D=0\\mid B=1,C=1)~P(E=0\\mid C=1,D=0)~=~0.5\\cdot 0.6~=~0.3\\\\\n",
    "P(D=0,E=1\\mid A=1,B=1,C=1)&=P(D=0\\mid B=1,C=1)~P(E=1\\mid C=1,D=0)~=~0.5\\cdot 0.4~=~0.2\\\\\n",
    "P(D=1,E=0\\mid A=1,B=1,C=1)&=P(D=1\\mid B=1,C=1)~P(E=0\\mid C=1,D=1)~=~0.5\\cdot 0.5~=~0.25\\\\\n",
    "P(D=1,E=1\\mid A=1,B=1,C=1)&=P(D=1\\mid B=1,C=1)~P(E=1\\mid C=1,D=1)~=~0.5\\cdot 0.5~=~0.25\n",
    "\\end{align*}$$\n",
    "$$\\begin{align*}\n",
    "P(E\\mid A=1,B=1,C=1)&=\\sum_d P(D=d,E\\mid A=1,B=1,C=1)\\\\[1ex]\n",
    "P(E=0\\mid A=1,B=1,C=1)&=0.3+0.25= 0.55\\\\\n",
    "P(E=1\\mid A=1,B=1,C=1)&=0.2+0.25= 0.45\n",
    "\\end{align*}$$\n",
    "\n",
    "$$\\hat{e}~=~\\operatorname*{argmax}_e P(E=e\\mid A=1,B=1,C=1)~=~0$$"
   ]
  }
 ],
 "metadata": {
  "kernelspec": {
   "display_name": "Python 3",
   "language": "python",
   "name": "python3"
  },
  "language_info": {
   "codemirror_mode": {
    "name": "ipython",
    "version": 3
   },
   "file_extension": ".py",
   "mimetype": "text/x-python",
   "name": "python",
   "nbconvert_exporter": "python",
   "pygments_lexer": "ipython3",
   "version": "3.11.4"
  },
  "orig_nbformat": 4
 },
 "nbformat": 4,
 "nbformat_minor": 2
}
