{
 "cells": [
  {
   "cell_type": "markdown",
   "metadata": {},
   "source": [
    "# 2023_01_30_Problema 3"
   ]
  },
  {
   "cell_type": "markdown",
   "metadata": {},
   "source": [
    "Considerar la red bayesiana $\\mathcal{R}$ definida como $P(R, X, Y, Z)~=~P(R)~P(X\\mid R)~P(Y\\mid R)~P(Z\\mid R)$, cuya variable $R$ toma valores en $\\{1,2,3\\}$ y las variables $X$, $Y$, $Z$, en $\\{\\verb|\"a\",\"b\",\"c\"|\\}$.  Las distribuciones de probabilidad\n",
    "asociadas son como sigue:\n",
    "* $P(R)$ es uniforme: $P(R=1)=P(R=2)=P(R=3)$\n",
    "* $P(X\\mid R)$, $P(Y\\mid R)$ y $P(Z\\mid R)$ son idénticas y vienen dadas en la tabla T\n",
    "\n",
    "$$\\begin{array}{l|ccc}\n",
    "    T & \\verb|\"a\"| & \\verb|\"b\"| & \\verb|\"c\"| \\\\\n",
    "    \\hline\n",
    "    1 & 1/3 &  0  & 2/3\\\\\n",
    "    2 & 1/4 & 1/2 & 1/4\\\\\n",
    "    3 &  0  & 3/5 & 2/5\n",
    "\\end{array}$$\n",
    " \n",
    "Se pide:\n",
    "1. Representar gráficamente la red\n",
    "2. Obtener una expresión simplificada de $P(X,Y,Z\\mid R)$ en función de las distribuciones que definen $\\mathcal{R}$ y calcular $P(X=\\verb|\"a\"|,Y=\\verb|\"a\"|,Z=\\verb|\"a\"|\\mid R=1)$\n",
    "3. Calcular $P(R=3\\mid X=\\verb|\"b\"|,Y=\\verb|\"b\"|,Z=\\verb|\"b\"|)$"
   ]
  },
  {
   "cell_type": "markdown",
   "metadata": {},
   "source": [
    "## Solución\n",
    "\n",
    "**Representación gráfica de la red:**\n",
    "<div><img src=\"2023_01_30_Problema 3.png\" width=150></div>\n",
    "\n",
    "**Expresión simplificada de $P(X,Y,Z\\mid R)$:**\n",
    "$$\\begin{align*}\n",
    "P(X,Y,Z\\mid R)&=\\frac{P(R,X,Y,Z)}{P(R)}=P(X\\mid R)~P(Y\\mid R)~P(Z\\mid R)\\\\\n",
    "P(X=\\verb|\"a\"|,Y=\\verb|\"a\"|,Z=\\verb|\"a\"| \\mid R=1)&=\\frac{1}{3}\\cdot\\frac{1}{3}\\cdot\\frac{1}{3}\\cdot~=~ \\frac{1}{27}\n",
    "\\end{align*}$$\n",
    "\n",
    "**Calcular $P(R=3\\mid X=\\verb|\"b\"|,Y=\\verb|\"b\"|,Z=\\verb|\"b\"|)$:**\n",
    "$$\\begin{align*}\n",
    "P(R=3&\\mid X=\\verb|\"b\"|, Y=\\verb|\"b\"|, Z=\\verb|\"b\"|)\n",
    "=\\frac{P(R=3, X=\"b\", Y=\"b\", Z=\"b\")}{P(X=\"b\", Y=\"b\", Z=\"b\")}\\\\\n",
    "&=\\frac{P(R=3)P(X=\"b\"\\mid R=3)~P(Y=\"b\"\\mid R=3)~P(Z=\"b\"\\mid R=3)}\n",
    "{\\sum\\limits_{r\\in\\{1,2,3\\}} P(R=r)~P(X=\"b\"\\mid R=r)~P(Y=\"b\"\\mid R=r)~P(Z=\"b\"\\mid R=r)}\\\\\n",
    "&=\\frac{\\frac{1}{3}~\\frac{3}{5}~\\frac{3}{5}~\\frac{3}{5}}\n",
    "{\\frac{1}{3}~0~0~0~+~\\frac{1}{3}~\\frac{1}{2}~\\frac{1}{2}~\\frac{1}{2}~+~\\frac{1}{3}~\\frac{3}{5}~\\frac{3}{5}~\\frac{3}{5}}\n",
    "~=~ \\frac{216}{341} ~\\approx~ 0.633\n",
    "\\end{align*}$$"
   ]
  }
 ],
 "metadata": {
  "kernelspec": {
   "display_name": "Python 3",
   "language": "python",
   "name": "python3"
  },
  "language_info": {
   "codemirror_mode": {
    "name": "ipython",
    "version": 3
   },
   "file_extension": ".py",
   "mimetype": "text/x-python",
   "name": "python",
   "nbconvert_exporter": "python",
   "pygments_lexer": "ipython3",
   "version": "3.11.4"
  },
  "orig_nbformat": 4
 },
 "nbformat": 4,
 "nbformat_minor": 2
}
