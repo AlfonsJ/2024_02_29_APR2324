{
 "cells": [
  {
   "cell_type": "markdown",
   "metadata": {},
   "source": [
    "# 2022_01_24_Problema 3"
   ]
  },
  {
   "cell_type": "markdown",
   "metadata": {},
   "source": [
    "Considerar la red bayesiana $\\mathcal{R}$ definida como $P(X, Y, Z, V, W)~=~P(X)~P(Y\\mid X)~P(Z\\mid X)~P(V\\mid Y)~P(W\\mid Z)$, cuyas variables aleatorias, $W$, $X$, $Y$, $Z$ y $V$ toman valores en $\\{\\textrm{a,b}\\}$. Las distribuciones de probabilidad\n",
    "asociadas son como sigue:\n",
    "* $P(X)$ es uniforme: $P(X=\\textrm{a})=P(X=\\textrm{b})$, \n",
    "* $P(Y\\mid X)$, $P(Z\\mid X)$, $P(V\\mid Y)$ y $P(W\\mid Z)$ son idénticas a la  siguiente tabla $P(A\\mid B)$:\n",
    "$$\\begin{array}{r|ccc}\n",
    "P(A\\mid B) & A: ~~\\textrm{a} & \\textrm{b}\\\\\n",
    "\\hline\n",
    "B:~~\\textrm{a} & ~~~~~1/3 & 2/3\\\\\n",
    "\\textrm{b} & ~~~~~1/4 & 3/4\n",
    "\\end{array}$$\n",
    "\n",
    "Se pide:\n",
    "1. Representar gráficamente la red\n",
    "2. Obtener una expresión simplificada de $P(W,Y,Z,V\\mid X)$ en función de las distribuciones que definen $\\mathcal{R}$ y calcular $P(W\\!=\\textrm{b},~Y=\\!\\textrm{b},~Z=\\!\\textrm{b},~V=\\!\\textrm{b}\\mid X=\\textrm{a})$\n",
    "3. Calcular $P(V=b\\mid X=a)$"
   ]
  },
  {
   "cell_type": "markdown",
   "metadata": {},
   "source": [
    "## Solución\n",
    "\n",
    "**Representación gráfica de la red:**\n",
    "<div><img src=\"2022_01_24_Problema 3.png\" width=200></div>\n",
    "\n",
    "**Expresión simplificada de $P(W,Y,Z,V\\mid X)$:**\n",
    "$$\\begin{align*}\n",
    "P(W,Y,Z,V\\mid X)&=\\frac{P(W,X,Y,Z,V)}{P(X)}\\\\\n",
    "&=\\frac{\\cancel{P(X)}~P(Y\\mid X)~P(Z\\mid X)~P(W\\mid Z)~P(V\\mid Y)}{\\cancel{P(X)}}\\\\\n",
    "&=P(Y\\mid X)~P(Z\\mid X)~P(W\\mid Z)~P(V\\mid Y)\n",
    "\\end{align*}$$\n",
    "\n",
    "$$P(W\\!=\\textrm{b},~Y=\\!\\textrm{b},~Z=\\!\\textrm{b},~V=\\!\\textrm{b}\\mid X=\\textrm{a})\n",
    "=\\frac{2}{3}\\cdot\\frac{2}{3}\\cdot\\frac{3}{4}\\cdot\\frac{3}{4}=\\frac{36}{144}=0.25$$\n",
    "\n",
    "**Calcular $P(V=b\\mid X=a)$:**\n",
    "$$\\begin{align*}\n",
    "P(V\\mid X)&=\\frac{P(V,X)}{P(X)} \n",
    "~=~ \\!\\!\\!\\!\\sum_{y,z,w\\in\\{a,b\\}} P(Y=y\\mid X)~P(Z=z\\mid X)~P(W=w\\mid Z=z)~P(V\\mid Y=y)\\\\[1em]\n",
    "P(V=b\\mid X=a)&=\\sum_{y,z,w\\in\\{a,b\\}}P(Y=y\\mid X=a)~P(Z=z\\mid X=a)~P(W=w\\mid Z=z)~P(V=b\\mid Y=y)\\\\\n",
    "&=\\sum_{y,z\\in\\{a,b\\}} P(Y=y\\mid X=a)~P(Z=z\\mid X=a)~P(V=b\\mid Y=y)\\\\\n",
    "&=\\sum_{y\\in\\{a,b\\}} P(Y=y\\mid X=a)~P(V=b\\mid Y=y)\\\\\n",
    "&= P(Y=a\\mid X=a)~P(V=b\\mid Y=a)+P(Y=b\\mid X=a)~P(V=b\\mid Y=b)\\\\\n",
    "&=\\frac{1}{3}\\cdot\\frac{2}{3}+\\frac{2}{3}\\cdot\\frac{3}{4} ~=~ 0.8333\n",
    "\\end{align*}$$   \n"
   ]
  }
 ],
 "metadata": {
  "kernelspec": {
   "display_name": "Python 3",
   "language": "python",
   "name": "python3"
  },
  "language_info": {
   "codemirror_mode": {
    "name": "ipython",
    "version": 3
   },
   "file_extension": ".py",
   "mimetype": "text/x-python",
   "name": "python",
   "nbconvert_exporter": "python",
   "pygments_lexer": "ipython3",
   "version": "3.11.4"
  },
  "orig_nbformat": 4
 },
 "nbformat": 4,
 "nbformat_minor": 2
}
