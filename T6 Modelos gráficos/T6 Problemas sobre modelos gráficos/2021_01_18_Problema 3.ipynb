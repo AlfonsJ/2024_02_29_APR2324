{
 "cells": [
  {
   "cell_type": "markdown",
   "metadata": {},
   "source": [
    "# 2021_01_18_Problema 3"
   ]
  },
  {
   "cell_type": "markdown",
   "metadata": {},
   "source": [
    "Las variables aleatorias $A, B, C, D, E$ toman valores en $\\{0,1\\}$ y la $F$ en $\\{x,y,z\\}$. La distribución de probabilidad conjunta de estas variables viene dada por \n",
    "$$P(A,B,C,D,E,F)~=~P(A)~P(B\\mid A)~P(C\\mid B)~P(D\\mid A)~P(E\\mid D)~P(F\\mid D,E),$$\n",
    "con las correspondientes distribuciones de probabilidad:\n",
    "$$\\begin{array}{cc}\n",
    "P(A=1)~=~0.3         & P(A=0)~=~0.7\\\\[1ex]\n",
    "P(B=1\\mid A=1)~=~0.4 & P(B=0\\mid A=1)~=~0.6\\\\\n",
    "P(B=1\\mid A=0)~=~0.6 & P(B=0\\mid A=0)~=~0.4\\\\[1ex]\n",
    "P(C=1\\mid B=1)~=~0.5 & P(C=0\\mid B=1)~=~0.5\\\\\n",
    "P(C=1\\mid B=0)~=~0.3 & P(C=0\\mid B=0)~=~0.7\\\\[1ex]\n",
    "P(D=1\\mid A=1)~=~0.9 & P(D=0\\mid A=1)~=~0.1\\\\\n",
    "P(D=1\\mid A=0)~=~0.1 & P(D=0\\mid A=0)~=~0.9\\\\[1ex]\n",
    "P(E=1\\mid D=1)~=~0.2 & P(E=0\\mid D=1)~=~0.8\\\\\n",
    "P(E=1\\mid D=0)~=~0.1 & P(E=0\\mid D=0)~=~0.9\\\\[1ex]\n",
    "\\end{array}$$\n",
    "$$\\begin{array}{ccc}\n",
    "P(F=x\\mid D=0,E=0)~=~0.1 & P(F=y\\mid D=0,E=0)~=~0.2 & P(F=z\\mid D=0,E=0)~=~0.7\\\\\n",
    "P(F=x\\mid D=0,E=1)~=~0.0 & P(F=y\\mid D=0,E=1)~=~0.2 & P(F=z\\mid D=0,E=1)~=~0.8\\\\\n",
    "P(F=x\\mid D=1,E=0)~=~0.3 & P(F=y\\mid D=1,E=0)~=~0.3 & P(F=z\\mid D=1,E=0)~=~0.4\\\\\n",
    "P(F=x\\mid D=1,E=1)~=~0.4 & P(F=y\\mid D=1,E=1)~=~0.3 & P(F=z\\mid D=1,E=1)~=~0.3\n",
    "\\end{array}$$\n",
    "\n",
    "Se pide:\n",
    "1. Representar gráficamente la red bayesiana correspondiente\n",
    "2. Obtener una expresión simplificada de $P(F\\mid A,B,C,D)$\n",
    "3. Dados $A=B=C=D=1$, ¿Cuál es la mejor predicción para el valor de $F$?"
   ]
  },
  {
   "cell_type": "markdown",
   "metadata": {},
   "source": [
    "## Solución\n",
    "\n",
    "**Representar gráficamente la red bayesiana correspondiente:**\n",
    "<div><img src=\"2021_01_18_Problema 3.png\" width=200></div>\n",
    "\n",
    "**Obtener una expresión simplificada de $P(F\\mid A,B,C,D)$:**\n",
    "\n",
    "$$\\begin{align*}\n",
    "P(F\\mid A,B,C,D)     &= \\frac{P(A,B,C,D,F)}{P(A,B,C,D)}\\\\\n",
    "  &= \\frac{\\sum_{e}P(A)~P(B\\mid A)~P(C\\mid B)~P(D\\mid A)~\n",
    "                                               P(E=e\\mid D)~P(F\\mid D,E=e)}\n",
    "           {\\sum_{e,f} P(A)~P(B\\mid A)~P(C\\mid B)~P(D\\mid A)~\n",
    "                                               P(E=e\\mid D)~P(F=f\\mid D,E=e)}\\\\\n",
    "   &=  \\frac{\\cancel{P(A)}~\\cancel{P(B\\mid A)}~\\cancel{P(C\\mid B)}~\n",
    "              \\cancel{P(D\\mid A)}~\\sum_{e} P(E=e\\mid D)~P(F\\mid D,E=e)}\n",
    "             {\\cancel{P(A)}~\\cancel{P(B\\mid A)}~\\cancel{P(C\\mid B)}~\n",
    "              \\cancel{P(D\\mid A)}~\\sum_{e}P(E=e\\mid D)~\n",
    "              \\sum_{f} P(F=f\\mid D,E)}\\\\\n",
    "   &= \\sum_{e} P(E=e\\mid D)~P(F\\mid D,E=e)\n",
    "\\end{align*}$$\n",
    "\n",
    "**Dados $A=B=C=D=1$, ¿Cuál es el mejor valor de $F$ que se puede predecir?:**\n",
    "$$\\begin{align*}\n",
    "f^\\star &= \\operatorname*{argmax}_{f\\in\\{x,y,z\\}}P(F=f\\mid A=1,B=1,C=1,D=1)\\\\\n",
    "&=~ \\operatorname*{argmax}_{f\\in\\{x,y,z\\}}\\sum_{e} P(E=e\\mid D=1)~P(F=f\\mid D=1,E=e)\\end{align*}$$\n",
    "\n",
    "$$\\begin{align*}P(F=x\\mid A=1,B=1,C=1,D=1)\n",
    "&=\\sum_{e} P(E=e\\mid D=1)~P(F=x\\mid D=1,E=e)\\\\\n",
    "&=0.2\\cdot 0.4 + 0.8\\cdot 0.3 ~=~0.32\\\\\n",
    "P(F=y\\mid A=1,B=1,C=1,D=1)&=\\sum_{e} P(E=e\\mid D=1)~P(F=y\\mid D=1,E=e)\\\\\n",
    "&=0.2\\cdot 0.3 + 0.8\\cdot 0.3 ~=~0.30\\\\\n",
    "P(F=z\\mid A=1,B=1,C=1,D=1)&=1~-~0.32~-~0.30~=~0.38\\end{align*}$$\n",
    "\n",
    "El  valor óptimo de $F$ es $f^\\star=z$"
   ]
  }
 ],
 "metadata": {
  "kernelspec": {
   "display_name": "Python 3",
   "language": "python",
   "name": "python3"
  },
  "language_info": {
   "codemirror_mode": {
    "name": "ipython",
    "version": 3
   },
   "file_extension": ".py",
   "mimetype": "text/x-python",
   "name": "python",
   "nbconvert_exporter": "python",
   "pygments_lexer": "ipython3",
   "version": "3.11.4"
  },
  "orig_nbformat": 4
 },
 "nbformat": 4,
 "nbformat_minor": 2
}
