{
 "cells": [
  {
   "cell_type": "markdown",
   "metadata": {},
   "source": [
    "# Tema 6. Modelos gráficos"
   ]
  },
  {
   "cell_type": "markdown",
   "metadata": {},
   "source": [
    "## Preliminares\n",
    "\n",
    "[**Introducción a los modelos gráficos del PML:**](https://github.com/AlfonsJ/PML1/tree/main/P01%20Fundamentos/T03%20Probabilidad%3A%20modelos%20multivariados/3.6%20Modelos%20gr%C3%A1ficos%20probabil%C3%ADsticos) $\\;$ empezaremos revisando la sección 3.6 del PML"
   ]
  },
  {
   "cell_type": "markdown",
   "metadata": {},
   "source": [
    "## Comentarios sobre las transpas"
   ]
  },
  {
   "cell_type": "markdown",
   "metadata": {},
   "source": [
    "Seguiremos las transpas del tema 6"
   ]
  },
  {
   "cell_type": "markdown",
   "metadata": {},
   "source": [
    "## Ejercicios de seguimiento propuestos"
   ]
  },
  {
   "cell_type": "markdown",
   "metadata": {},
   "source": [
    "### Problemas de modelos gráficos de los tres últimos cursos\n",
    "\n",
    "En el directorio [T6 Problemas sobre modelos gráficos](https://github.com/AlfonsJ/2024_02_29_APR2324/tree/main/T6%20Modelos%20gr%C3%A1ficos/T6%20Problemas%20sobre%20modelos%20gr%C3%A1ficos) encontrarás un cuaderno por cada problema de modelos gráficos en exámenes de los tres últimos cursos. Cada cuaderno incluye enunciado y solución a mano. Trata de resolver por tu cuenta dos o más problemas, escanea (o fotografía) las soluciones hechas a mano y adjúntalas a la tarea PoliFormaT."
   ]
  }
 ],
 "metadata": {
  "language_info": {
   "name": "python"
  }
 },
 "nbformat": 4,
 "nbformat_minor": 2
}
