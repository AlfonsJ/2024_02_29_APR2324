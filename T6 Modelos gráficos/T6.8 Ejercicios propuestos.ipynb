{
 "cells": [
  {
   "cell_type": "markdown",
   "metadata": {},
   "source": [
    "# T6.8 Ejercicios propuestos"
   ]
  },
  {
   "cell_type": "markdown",
   "metadata": {},
   "source": [
    "En el directorio [T6.7 Problemas sobre modelos gráficos](https://github.com/AlfonsJ/2024_02_29_APR2324/tree/main/T6%20Modelos%20gr%C3%A1ficos/T6.7%20Problemas%20sobre%20modelos%20gr%C3%A1ficos) encontrarás un cuaderno por cada problema de modelos gráficos en exámenes de los tres últimos cursos. Cada cuaderno incluye enunciado y solución a mano. Trata de resolver por tu cuenta dos o más problemas, escanea (o fotografía) las soluciones hechas a mano y adjúntalas a la tarea PoliFormaT."
   ]
  }
 ],
 "metadata": {
  "language_info": {
   "name": "python"
  }
 },
 "nbformat": 4,
 "nbformat_minor": 2
}
