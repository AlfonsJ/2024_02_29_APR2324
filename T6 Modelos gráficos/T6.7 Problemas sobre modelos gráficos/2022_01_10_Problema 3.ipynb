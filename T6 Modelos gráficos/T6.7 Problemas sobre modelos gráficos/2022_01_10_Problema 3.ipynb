{
 "cells": [
  {
   "cell_type": "markdown",
   "metadata": {},
   "source": [
    "# 2022_01_10_Problema 3"
   ]
  },
  {
   "cell_type": "markdown",
   "metadata": {},
   "source": [
    "Considerar la red bayesiana $\\mathcal{R}$ definida como $P(R, T, X, Y, Z)~=~P(R)~P(X\\mid R)~P(Y\\mid R)~P(Z\\mid R)~P(T\\mid Y)$, cuyas variables $R$ y $T$ toman valores en $\\{1,2,3\\}$ y las variables $X$, $Y$, $Z$, en $\\{\\verb|\"a\",\"b\"|\\}$. Las distribuciones de probabilidad asociadas son como sigue:\n",
    "* $P(R)$ es uniforme: $P(R=1)=P(R=2)=P(R=3)$\n",
    "* $P(X\\mid R)$, $P(Y\\mid R)$ y $P(Z\\mid R)$ son idénticas y vienen dadas en la tabla A.\n",
    "* $P(T\\mid Y)$ viene dada por la tabla B.\n",
    "\n",
    "$$\\begin{array}{ccc}\n",
    "  \\begin{array}{l|cc}\n",
    "    A & \\verb|\"a\"| & \\verb|\"b\"|  \\\\\n",
    "    \\hline\n",
    "    1 & 2/3 & 1/3 \\\\\n",
    "    2 & 1/4 & 3/4 \\\\\n",
    "    3 & 3/5 & 2/5 \\\\\n",
    "  \\end{array}\n",
    "  &\\qquad&\n",
    "  \\begin{array}{l|ccc}\n",
    "    B & 1 & 2 & 3  \\\\\n",
    "    \\hline\n",
    "    \\verb|\"a\"| & 1/3 & 1/3 & 1/3\\\\\n",
    "    \\verb|\"b\" | & 1/4 & 2/4 & 1/4\\\\\n",
    "  \\end{array}\n",
    "  \\end{array}$$\n",
    "\n",
    "Se pide:\n",
    "1. Representar gráficamente la red\n",
    "2. Obtener una expresión simplificada de $P(X,Y,Z\\mid R)$ en función de las distribuciones que definen $\\mathcal{R}$ \n",
    "3. ¿Cuál es el mejor valor de $X$ sabiendo que $R=1$?"
   ]
  },
  {
   "cell_type": "markdown",
   "metadata": {},
   "source": [
    "## Solución\n",
    "\n",
    "**Representación gráfica de la red:**\n",
    "<div><img src=\"2022_01_10_Problema 3.png\" width=200></div>\n",
    "\n",
    "**Expresión simplificada de $P(X,Y,Z\\mid R)$:**\n",
    "$$\\begin{align*}\n",
    "P(X,Y,Z\\mid R)%\n",
    "&=\\frac{P(R,X,Y,Z)}{P(R)} \\\\\n",
    "&=\\frac{\\sum_{t} P(R,T=t,X,Y,Z)}{P(R)}\\\\\n",
    "&=\\frac{\\sum_{t} \\cancel{P(R)}~P(X\\mid R)~P(Y\\mid R)~P(Z\\mid R)~P(T=t\\mid Y) }{\\cancel{P(R)}}\\\\ \n",
    "&=P(X\\mid R)~P(Y\\mid R)~P(Z\\mid R)\\sum_{t}~P(T=t\\mid Y)\\\\ \n",
    "&=P(X\\mid R)~P(Y\\mid R)~P(Z\\mid R)\n",
    "\\end{align*}$$\n",
    "\n",
    "**El mejor valor de $X$ sabiendo que $R=1$ se calcula:**\n",
    "\n",
    "*Solución trivial:* A partir de la tabla que define $P(X \\mid R)$, $P(X=\\verb|\"a\"| \\mid R=1)=2/3$, $P(X=\\verb|\"b\"| \\mid R=1)=1/3$, por tanto el mejor valor de $X$ es $\\verb|\"a\"|$.\n",
    "\n",
    "*Solución indirecta:* A partir del resultado del apartado anterior\n",
    "$$\\begin{align*}\n",
    "P(X=\\verb|\"a\"| \\mid R=1)\n",
    "&=\\sum_{v,w\\in\\{\\verb|\"a\"|,\\verb|\"b\"|\\}}P(X=\\verb|\"a\"|,Y=v,Z=w \\mid R=1)\\\\\n",
    "&=\\sum_{v,w\\in\\{\\verb|\"a\"|,\\verb|\"b\"|\\}}P(X=\\verb|\"a\"| \\mid R=1)~P(Y=v\\mid R=1)~P(Z=w\\mid R=1)\\\\\n",
    "&=P(X=\\verb|\"a\"| \\mid R=1)~=~2/3\\\\\n",
    "P(X=\\verb|\"b\"| \\mid R=1)&=1/3\n",
    "\\end{align*}$$\n",
    "\n",
    "El mejor valor de $X$ sabiendo que $R=1$ es $\\verb|\"a\"|$"
   ]
  }
 ],
 "metadata": {
  "kernelspec": {
   "display_name": "Python 3",
   "language": "python",
   "name": "python3"
  },
  "language_info": {
   "codemirror_mode": {
    "name": "ipython",
    "version": 3
   },
   "file_extension": ".py",
   "mimetype": "text/x-python",
   "name": "python",
   "nbconvert_exporter": "python",
   "pygments_lexer": "ipython3",
   "version": "3.11.4"
  },
  "orig_nbformat": 4
 },
 "nbformat": 4,
 "nbformat_minor": 2
}
