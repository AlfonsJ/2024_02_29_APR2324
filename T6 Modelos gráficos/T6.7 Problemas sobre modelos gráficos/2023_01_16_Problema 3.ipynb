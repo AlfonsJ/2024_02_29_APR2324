{
 "cells": [
  {
   "cell_type": "markdown",
   "metadata": {},
   "source": [
    "# 2023_01_16_Problema 3"
   ]
  },
  {
   "cell_type": "markdown",
   "metadata": {},
   "source": [
    "Considerar la red bayesiana $\\mathcal{R}$ definida como $P(A, B, C, D)~=~P(A)~P(B)~P(C\\mid A, B)~ P(D\\mid C)$, cuyas variables $A$, $B$, $C$, y $D$ toman valores en $\\{0,1\\}$ y sus distribuciones de probabilidad asociadas son:\n",
    "$$\\begin{align*}\n",
    "P(A=1)&=0.3             &\\quad&\\quad& P(A=0)&=0.7\\\\[1ex]\n",
    "P(B=1)&=0.4             &\\quad&\\quad& P(B=0)&=0.6\\\\[1ex]\n",
    "P(C=1\\mid A=0,B=0)&=0.1 &\\quad&\\quad& P(C=0\\mid A=0,B=0)&=0.9\\\\\n",
    "P(C=1\\mid A=0,B=1)&=0.2 &\\quad&\\quad& P(C=0\\mid A=0,B=1)&=0.8\\\\\n",
    "P(C=1\\mid A=1,B=0)&=0.3 &\\quad&\\quad& P(C=0\\mid A=1,B=0)&=0.7\\\\\n",
    "P(C=1\\mid A=1,B=1)&=0.4 &\\quad&\\quad& P(C=0\\mid A=1,B=1)&=0.6\\\\[1ex]\n",
    "P(D=1\\mid C=0)&=0.3     &\\quad&\\quad& P(D=0\\mid C=0)&=0.7\\\\\n",
    "P(D=1\\mid C=1)&=0.7     &\\quad&\\quad& P(D=0\\mid C=1)&=0.3\n",
    "\\end{align*}$$\n",
    "\n",
    "Se pide:\n",
    "1. Representar gráficamente la red\n",
    "2. Obtener una expresión simplificada de $P(A\\mid B,C,D)$ en función de las distribuciones definidas en los nodos de $\\mathcal{R}$ y calcular su valor para  $A=0$ cuando $B=1,C=1$ y $D=1$\n",
    "3. Dados $B=1,C=1$ y $D=1$, ¿Cuál es el valor óptimo de $A$?\n",
    "4. Obtener una expresión simplificada de $P(B,C,D\\mid A)$ y calcular su valor para $B=1,C=1$ y $D=1$ cuando $A=0$"
   ]
  },
  {
   "cell_type": "markdown",
   "metadata": {},
   "source": [
    "## Solución\n",
    "\n",
    "**Representación gráfica de la red:**\n",
    "<div><img src=\"2023_01_16_Problema 3.png\" width=150></div>\n",
    "\n",
    "**Obtener una expresión simplificada de $P(A\\mid B,C,D)$ en función de las distribuciones definidas en los nodos de $\\mathcal{R}$ y calcular su valor para  $A=0$ cuando $B=1,C=1$ y $D=1$:**\n",
    "$$\\begin{align*}\n",
    "P(A\\mid B,C,D)\n",
    "&=\\frac{P(A,B,C,D)}{P(B,C,D)}\\\\\n",
    "&=\\frac{P(A)~P(B)~P(C\\mid A,B)~P(D\\mid C)}{P(B)~P(D\\mid C)~\\sum_aP(A=a)~P(C\\mid A=a,B)}\\\\\n",
    "&=\\frac{P(A)~P(C\\mid A,B)}{\\sum_aP(A=a)~P(C\\mid A=a,B)}\\\\[+1em]\n",
    "P(A=0\\mid B=1,C=1,D=1)&=\\frac{0.7\\cdot 0.2}{0.7\\cdot 0.2~+~0.3\\cdot 0.4}=0.5385\n",
    "\\end{align*}$$\n",
    "\n",
    "**Dados $B=1,C=1$ y $D=1$, ¿Cuál es el valor óptimo de $A$?:**\n",
    "\n",
    "$\\displaystyle a^\\star = \\operatorname*{argmax}_{a\\in\\{0,1\\}}P(A=a\\mid B=1,C=1,D=1)$\n",
    "\n",
    "$P(A=1\\mid B=1, C=1, D=1) ~=~ 1~-~ 0.5385 ~=~ 0.4615$, por tanto el valor óptimo es $A=0$\n",
    "\n",
    "**Obtener una expresión simplificada de $P(B,C,D\\mid A)$ y calcular su valor para $B=1,C=1$ y $D=1$ cuando $A=0$:**\n",
    "\n",
    "$\\displaystyle P(B,C,D\\mid A)=\\frac{P(A, B,C,D)}{P(A)}=P(B)~P(C\\mid A,B)~P(D\\mid C)$\n",
    "\n",
    "$\\displaystyle P(B=1,C=1,D=1\\mid A=0)=0.4\\cdot 0.2\\cdot 0.7 ~=~ 0.056$"
   ]
  }
 ],
 "metadata": {
  "kernelspec": {
   "display_name": "Python 3",
   "language": "python",
   "name": "python3"
  },
  "language_info": {
   "codemirror_mode": {
    "name": "ipython",
    "version": 3
   },
   "file_extension": ".py",
   "mimetype": "text/x-python",
   "name": "python",
   "nbconvert_exporter": "python",
   "pygments_lexer": "ipython3",
   "version": "3.11.4"
  },
  "orig_nbformat": 4
 },
 "nbformat": 4,
 "nbformat_minor": 2
}
