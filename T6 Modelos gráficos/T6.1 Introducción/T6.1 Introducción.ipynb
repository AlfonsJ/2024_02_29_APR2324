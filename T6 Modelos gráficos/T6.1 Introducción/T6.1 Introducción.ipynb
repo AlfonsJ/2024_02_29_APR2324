{
 "cells": [
  {
   "cell_type": "markdown",
   "metadata": {},
   "source": [
    "# T6.1 Introducción"
   ]
  },
  {
   "cell_type": "markdown",
   "metadata": {},
   "source": [
    "# Índice\n",
    "\n",
    "1. Modelos gráficos\n",
    "2. Algunos conceptos sobre la teoría de las probabilidades\n",
    "3. Factorización de distribuciones conjuntas"
   ]
  },
  {
   "cell_type": "markdown",
   "metadata": {},
   "source": [
    "## 1 Modelos gráficos\n",
    "\n",
    "**Propósito:** $\\;$ los modelos gráficos y concretamente las redes bayesianas fundamentan la aproximación probabilística a los sistemas inteligentes\n",
    "\n",
    "**Origen:** $\\;$ uno de los más famosos impulsores fue Judea Pearl ganador del \"ACM A.M. Turing Award\" en 2011\n",
    "\n",
    "**Modelos probabilísticos estructurados:** $\\;$ nombre alternativos con el que también se conocen los modelos gráficos\n",
    "\n",
    "**Concepto:** $\\;$ representación compacta de distribuciones de probabilidad conjunta mediante grafos dirigidos (**redes bayesianas**) y no dirigidos (**campos aleatorios markovianos**) (teoría de grafos + teoría de la probabilidad)\n",
    "\n",
    "**Generalidad:** $\\;$ los modelos gráficos generalizan a las redes neuronales y a los modelos de Markov ocultos entre otros\n",
    "\n",
    "**Inferencia:** $\\;$ deducción de distribuciones de probabilidad a partir de otras dadas\n",
    "\n",
    "**Aprendizaje:** $\\;$ obtención de un modelo probabilístico a partir de observaciones\n",
    "\n",
    "**Aplicaciones:**\n",
    "* Diagnóstico médico, de fallos, ...\n",
    "* Visión por computador: segmentación de imágenes, reconstrucción 3D, análisis de escenas\n",
    "* Procesado del lenguaje natural: reconocimiento del habla, extracción de información textual, traducción automática, ...\n",
    "* Robótica: planificación, localización, ..."
   ]
  }
 ],
 "metadata": {
  "language_info": {
   "name": "python"
  }
 },
 "nbformat": 4,
 "nbformat_minor": 2
}
