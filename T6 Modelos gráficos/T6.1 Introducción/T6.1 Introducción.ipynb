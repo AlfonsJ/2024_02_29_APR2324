{
 "cells": [
  {
   "cell_type": "markdown",
   "metadata": {},
   "source": [
    "# T6.1 Introducción"
   ]
  },
  {
   "cell_type": "markdown",
   "metadata": {},
   "source": [
    "# Índice\n",
    "\n",
    "1. Modelos gráficos\n",
    "2. Algunos conceptos sobre la teoría de las probabilidades\n",
    "3. Factorización de distribuciones conjuntas"
   ]
  },
  {
   "cell_type": "markdown",
   "metadata": {},
   "source": [
    "## 1 Modelos gráficos\n",
    "\n",
    "**Propósito:** $\\;$ los modelos gráficos y concretamente las redes bayesianas fundamentan la aproximación probabilística a los sistemas inteligentes\n",
    "\n",
    "**Origen:** $\\;$ uno de los más famosos impulsores fue Judea Pearl ganador del \"ACM A.M. Turing Award\" en 2011\n",
    "\n",
    "**Modelos probabilísticos estructurados:** $\\;$ nombre alternativos con el que también se conocen los modelos gráficos\n",
    "\n",
    "**Concepto:** $\\;$ representación compacta de distribuciones de probabilidad conjunta mediante grafos dirigidos (**redes bayesianas**) y no dirigidos (**campos aleatorios markovianos**) (teoría de grafos + teoría de la probabilidad)\n",
    "\n",
    "**Generalidad:** $\\;$ los modelos gráficos generalizan a las redes neuronales y a los modelos de Markov ocultos entre otros\n",
    "\n",
    "**Inferencia:** $\\;$ deducción de distribuciones de probabilidad a partir de otras dadas\n",
    "\n",
    "**Aprendizaje:** $\\;$ obtención de un modelo probabilístico a partir de observaciones\n",
    "\n",
    "**Aplicaciones:**\n",
    "* Diagnóstico médico, de fallos, ...\n",
    "* Visión por computador: segmentación de imágenes, reconstrucción 3D, análisis de escenas\n",
    "* Procesado del lenguaje natural: reconocimiento del habla, extracción de información textual, traducción automática, ...\n",
    "* Robótica: planificación, localización, ..."
   ]
  },
  {
   "cell_type": "markdown",
   "metadata": {},
   "source": [
    "## 2 Algunos conceptos sobre la teoría de las probabilidades\n",
    "\n",
    "**Probabilidad** $\\quad\\displaystyle P(x):\\quad\\sum_x P(x) = 1$\n",
    "\n",
    "**Probabilidad conjunta** $\\quad\\displaystyle P(x,y):\\quad\\sum_x\\sum_y P(x,y) = 1$\n",
    "\n",
    "**Probabilidad condicional** $\\quad\\displaystyle P(x\\mid y):\\quad\\sum_x P(x\\mid y) = 1 ~~~ \\forall y $\n",
    "\n",
    "**Marginales** $\\quad\\displaystyle P(x) ~=~ \\sum_y P(x,y), ~~~~~~ P(y) ~=~ \\sum_x P(x,y)$\n",
    "\n",
    "**Regla de la probabilidad conjunta** $\\quad P(x, y) ~ = ~ P(x)\\, P(y\\mid x)$\n",
    "\n",
    "**Regla de la cadena** $\\quad\\displaystyle P(x_1,x_2,\\dots,x_N) ~=~ P(x_1)\\,\\prod_{i=2}^N P(x_i\\mid x_1, \\dots, x_{i-1})$\n",
    "\n",
    "**Regla de Bayes** $\\quad\\displaystyle P(y\\mid x)~P(x) ~=~ P(y)\\, P(x\\mid y)$"
   ]
  },
  {
   "cell_type": "markdown",
   "metadata": {},
   "source": [
    "## Factorización de distribuciones conjuntas\n",
    "\n",
    "Una distribución conjunta sobre *tres* variables puede expresarse exactamente mediante *seis* factorizaciones completas diferentes:"
   ]
  },
  {
   "cell_type": "code",
   "execution_count": 1,
   "metadata": {},
   "outputs": [],
   "source": [
    "import graphviz; from itertools import permutations\n",
    "for i, p in enumerate(permutations('abc')):\n",
    "    s = f'{p[0]}->{{{p[1]},{p[2]}}} {p[1]}->{p[2]}'\n",
    "    graphviz.Source(f'digraph {{rankdir=LR; {s}}}').render(filename=f'fact{i}', format='svg');"
   ]
  },
  {
   "cell_type": "markdown",
   "metadata": {},
   "source": [
    "<div><table border-collapse: collapse>\n",
    "<tr><td style=\"border: none; padding:10; margin:0;\"><img src=\"fact0.svg\"></td>\n",
    "<td style=\"border: none; padding:10; margin:0;\"><img src=\"fact1.svg\"></td>\n",
    "<td style=\"border: none; padding:10; margin:0;\"><img src=\"fact2.svg\"></td></tr>\n",
    "<tr><td style=\"border: none; padding:10; margin:0;\"><img src=\"fact3.svg\"></td>\n",
    "<td style=\"border: none; padding:10; margin:0;\"><img src=\"fact4.svg\"></td>\n",
    "<td style=\"border: none; padding:10; margin:0;\"><img src=\"fact5.svg\"></td></tr>\n",
    "</table></div>"
   ]
  }
 ],
 "metadata": {
  "kernelspec": {
   "display_name": "Python 3",
   "language": "python",
   "name": "python3"
  },
  "language_info": {
   "codemirror_mode": {
    "name": "ipython",
    "version": 3
   },
   "file_extension": ".py",
   "mimetype": "text/x-python",
   "name": "python",
   "nbconvert_exporter": "python",
   "pygments_lexer": "ipython3",
   "version": "3.10.12"
  }
 },
 "nbformat": 4,
 "nbformat_minor": 2
}
