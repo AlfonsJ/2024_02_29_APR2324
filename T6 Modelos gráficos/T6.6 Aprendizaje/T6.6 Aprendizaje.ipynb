{
 "cells": [
  {
   "cell_type": "markdown",
   "metadata": {},
   "source": [
    "# T6.6 Aprendizaje"
   ]
  },
  {
   "cell_type": "markdown",
   "metadata": {},
   "source": [
    "# Índice\n",
    "\n",
    "1. Introducción\n",
    "2. Ejemplo\n",
    "3. Aprendizaje con observaciones completas\n",
    "4. Aprendizaje con observaciones incompletas"
   ]
  },
  {
   "cell_type": "markdown",
   "metadata": {},
   "source": [
    "## 1 Introducción\n",
    "\n",
    "**Objetivo:** $\\;$ aprendizaje de distribuciones de probabilidad con estructura dada\n",
    "\n",
    "**Aprendizaje con observaciones completas:** $\\;$ estimación directa\n",
    "\n",
    "**Aprendizaje con observaciones incompletas:** $\\;$ algoritmo EM"
   ]
  },
  {
   "cell_type": "markdown",
   "metadata": {},
   "source": [
    "## 2 Ejemplo"
   ]
  },
  {
   "cell_type": "code",
   "execution_count": 2,
   "metadata": {},
   "outputs": [],
   "source": [
    "import graphviz; graphviz.Source('''digraph { rankdir=LR; node [shape=plaintext];\n",
    "Bateria [label=<<TABLE BORDER=\"0\" CELLBORDER=\"1\" CELLSPACING=\"0\">\n",
    "<TR><TD COLSPAN=\"2\">P(B)</TD></TR>\n",
    "<TR><TD COLSPAN=\"2\">Batería (B)</TD></TR>\n",
    "<TR><TD>0 (descargada)</TD><TD>1 (cargada)</TD></TR>\n",
    "<TR><TD><i>p0</i></TD><TD><i>p1</i></TD></TR>\n",
    "</TABLE>>];\n",
    "Combustible [label=<<TABLE BORDER=\"0\" CELLBORDER=\"1\" CELLSPACING=\"0\">\n",
    "<TR><TD COLSPAN=\"2\">P(C)</TD></TR>\n",
    "<TR><TD COLSPAN=\"2\">Combustible (C)</TD></TR>\n",
    "<TR><TD>0 (vacío)</TD><TD>1 (lleno)</TD></TR>\n",
    "<TR><TD>0.1</TD><TD>0.9</TD></TR>\n",
    "</TABLE>>];\n",
    "Indicador [label=<<TABLE BORDER=\"0\" CELLBORDER=\"1\" CELLSPACING=\"0\">\n",
    "<TR><TD COLSPAN=\"4\">P(I | B, C)</TD></TR>\n",
    "<TR><TD COLSPAN=\"2\"></TD><TD COLSPAN=\"2\">Indicador (I)</TD></TR>\n",
    "<TR><TD>B</TD><TD>C</TD><TD>0 (vacío)</TD><TD>1 (lleno)</TD></TR>\n",
    "<TR><TD>0</TD><TD>0</TD><TD>0.9</TD><TD>0.1</TD></TR>\n",
    "<TR><TD>0</TD><TD>1</TD><TD>0.8</TD><TD>0.2</TD></TR>\n",
    "<TR><TD>1</TD><TD>0</TD><TD>0.8</TD><TD>0.2</TD></TR>\n",
    "<TR><TD>1</TD><TD>1</TD><TD>0.2</TD><TD>0.8</TD></TR>\n",
    "</TABLE>>];\n",
    "{Bateria, Combustible} -> Indicador\n",
    "}''').render(filename='combustible', format='svg');"
   ]
  },
  {
   "cell_type": "markdown",
   "metadata": {},
   "source": [
    "<div><table border-collapse: collapse align=left><tr>\n",
    "<td style=\"border: none; text-align:left; vertical-align:top; padding:0; margin:0;\" width=400>\n",
    "\n",
    "**Variables:**\n",
    "* Batería ($B$): $0$ (descargada) o $1$ (cargada)\n",
    "* Combustible ($C$): $0$ (vacío) o $1$ (lleno)\n",
    "* Indicador ($I$): $0$ (vacío) o $1$ (lleno)\n",
    "\n",
    "**Parámetros desconocidos:**\n",
    "$$\\boldsymbol{\\theta}=(p_0,p_1)^t,\\quad p_0+p_1=1$$\n",
    "\n",
    "</td><td style=\"border: none; text-align:left; vertical-align:center; padding:0; margin:0;\" width=20></td>\n",
    "<td style=\"border: none; text-align:left; vertical-align:center; padding:0; margin:0;\" width=600>\n",
    "\n",
    "<img src='combustible.svg'/>\n",
    "\n",
    "</td></tr></table></div>"
   ]
  },
  {
   "cell_type": "markdown",
   "metadata": {},
   "source": [
    "## 3 Aprendizaje con observaciones completas\n",
    "\n",
    "**Datos completos:** $\\;S=\\{(b_1,c_1,i_1),\\,\\ldots,\\,(b_N,c_N,i_N)\\}$\n",
    "\n",
    "**Estimador máximo-verosímil:** $\\displaystyle\\quad\\hat{p}_1=\\frac{\\sum_n b_n}{N}\\qquad\\hat{p}_0=1-\\hat{p}_1$\n",
    "\n",
    "**Ejemplo:** $\\quad S=\\{(0,1,1), (1,1,0)\\} \\quad\\rightarrow\\quad \\hat{p}_0 = \\hat{p}_1 = \\frac{1}{2}$"
   ]
  },
  {
   "cell_type": "markdown",
   "metadata": {},
   "source": [
    "## 4 Aprendizaje con observaciones incompletas\n",
    "\n",
    "**Datos incompletos:** $\\;S=\\{(c_1,i_1),\\,\\ldots,\\,(c_N,i_N)\\}$\n",
    "\n",
    "**Estimador máximo-verosímil:** $\\;$ mediante el algoritmo EM\n",
    "\n",
    "**Paso E:** $\\;$ estimación de datos perdidos; dado $\\,p_1^{(t)},\\,$ calcula para todo $n$\n",
    "$$\\hat{b}_n^{(t)}=P(b_n=1\\mid c_n,i_n)=\\frac{P(b_n=1,c_n,i_n)}{P(c_n,i_n)}=\\frac{p_1^{(t)}\\cancel{P(c_n)}P(i_n\\mid b_n=1,c_n)}{(1-p_1^{(t)})\\cancel{P(c_n)}P(i_n\\mid b_n=0,c_n)+p_1^{(t)}\\cancel{P(c_n)}P(i_n\\mid b_n=1,c_n)}$$\n",
    "\n",
    "**Paso M:** $\\;$ re-estimación de parámetros mediante maximización del valor esperado de la log-verosimilitud completa\n",
    "$$p_1^{(t+1)}=\\frac{\\sum_n \\hat{b}_n^{(t)}}{N}$$\n",
    "\n",
    "**Pasos EM integrados:** $\\;$ se puede hacer en casos sencillos como este ejemplo\n",
    "$$p_1^{(t+1)}=\\frac{1}{N}\\sum_n \\frac{p_1^{(t)}P(i_n\\mid b_n=1,c_n)}{(1-p_1^{(t)})P(i_n\\mid b_n=0,c_n)+p_1^{(t)}P(i_n\\mid b_n=1,c_n)}$$\n",
    "\n",
    "**Ejemplo:** $\\;S=\\{(1,1),(1,0)\\}\\,$ con $\\,p_1^{(1)}=0.9$ $\\;\\ldots\\;$ converge a $\\;\\hat{p}_1=\\hat{p}_0=0.5$\n",
    "$$\\begin{align*}\n",
    "p_1^{(t+1)}&=\\frac{1}{2}\\frac{p_1^{(t)}P(i_1\\mid b_1=1,c_1)}{(1-p_1^{(t)})P(i_1\\mid b_1=0,c_1)+p_1^{(t)}P(i_1\\mid b_1=1,c_1)}\n",
    "+\\frac{1}{2}\\frac{p_1^{(t)}P(i_2\\mid b_2=1,c_2)}{(1-p_1^{(t)})P(i_2\\mid b_2=0,c_2)+p_1^{(t)}P(i_2\\mid b_2=1,c_2)}\\\\\n",
    "&=\\frac{1}{2}\\frac{p_1^{(t)}0.8}{(1-p_1^{(t)})0.2+p_1^{(t)}0.8}+\\frac{1}{2}\\frac{p_1^{(t)}0.2}{(1-p_1^{(t)})0.8+p_1^{(t)}0.2}\\\\\n",
    "p_1^{(2)}&=\\frac{1}{2}\\frac{0.9\\cdot0.8}{0.1\\cdot0.2+0.9\\cdot0.8}+\\frac{1}{2}\\frac{0.9\\cdot0.2}{0.1\\cdot0.8+0.9\\cdot0.2}=0.83\n",
    "\\end{align*}$$"
   ]
  }
 ],
 "metadata": {
  "kernelspec": {
   "display_name": "Python 3",
   "language": "python",
   "name": "python3"
  },
  "language_info": {
   "codemirror_mode": {
    "name": "ipython",
    "version": 3
   },
   "file_extension": ".py",
   "mimetype": "text/x-python",
   "name": "python",
   "nbconvert_exporter": "python",
   "pygments_lexer": "ipython3",
   "version": "3.10.12"
  }
 },
 "nbformat": 4,
 "nbformat_minor": 2
}
