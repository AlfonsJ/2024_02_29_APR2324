{
 "cells": [
  {
   "cell_type": "markdown",
   "metadata": {},
   "source": [
    "# T6.4 Inferencia"
   ]
  },
  {
   "cell_type": "markdown",
   "metadata": {},
   "source": [
    "# Índice\n",
    "\n",
    "1. Inferencia con redes bayesianas\n",
    "2. Tipos de redes bayesianas\n",
    "3. Inferencia en una cadena\n",
    "4. Inferencia en un árbol\n",
    "5. Inferencia en otros tipos de grafos"
   ]
  },
  {
   "cell_type": "markdown",
   "metadata": {},
   "source": [
    "## 1 Inferencia con redes bayesianas\n",
    "\n",
    "**Problema:** $\\;$ calcular la probabilidad a posteriori de alguna variable $x$ a partir de las distribuciones conjuntas asociadas a una red, dada alguna evidencia $e$ (como valores dados de otras variables) y sin importar los valores del resto de las variables $f$; esto es,\n",
    "$$P(x \\mid e) =\\frac{P(x,e)}{P(e)}$$\n",
    "donde $P(x,e)$ y $P(e)$ se calculan eficientemente a partir de la conjunta\n",
    "$$P(x,e)= \\sum_{f} P(x,e,f)\\qquad\\text{y}\\qquad P(e)= \\sum_{x,f} P(x,e,f)$$\n",
    "\n",
    "**Ejemplo:** $\\;$ calcular $P(x_3)$ a partir de una distribución conjunta dada por\n",
    "$$P(x_1,x_2,x_3,x_4)=P(x_2)P(x_1 \\mid x_2)P(x_3 \\mid x_2)P(x_4 \\mid x_3)$$\n",
    "Supongamos que cada $x_i,~i=1,2,3,4\\,$ puede tomar $n$ valores:\n",
    "* $P(x_3)=\\sum_{x_1,x_2,x_4} P(x_2)P(x_1 \\mid x_2)P(x_3 \\mid x_2)P(x_4 \\mid x_3)\\;\\Rightarrow\\;O(n^3)$ operaciones\n",
    "* $P(x_3)=\\sum_{x_2} P(x_2)P(x_3 \\mid x_2) \\sum_{x_1} P(x_1\\mid x_2) \\sum_{x_4} P(x_4 \\mid x_3)=\\sum_{x_2} P(x_2)P(x_3\\mid x_2)\\;\\Rightarrow\\;O(n)$ operaciones\n",
    "\n",
    "**Usos del cálculo de probabilidades a posteriori:**\n",
    "* **Predicción:** $\\;$ ¿Cuál es la probabilidad de observar un síntoma sabiendo que se tiene una determinada enfermedad?\n",
    "* **Diagnóstico:** $\\;$ ¿Cuál es la probabilidad de que una determinada enfermedad sea un diagnóstico correcto dados algunos síntomas?\n",
    "\n",
    "**Nota:** $\\;$ la dirección de los enlaces entre variables no restringe el tipo de preguntas que se pueden hacer"
   ]
  },
  {
   "cell_type": "markdown",
   "metadata": {},
   "source": [
    "## 2 Tipos de redes bayesianas\n",
    "\n",
    "**Tipos usuales:** $\\;$ los tipos **cadena** y **(poli-)árbol** admiten factorizaciones eficientes \n",
    "<div align=center><img src=\"BNtypes.png\"></div>"
   ]
  },
  {
   "cell_type": "markdown",
   "metadata": {},
   "source": [
    "## 3 Inferencia en una cadena\n",
    "\n",
    "**Probabilidad a posteriori:** $\\;$ de $\\,x_n\\,$ dados $\\,x_i \\in E_{x_n}^+\\,$ y $\\,x_f\\in E_{x_n}^-$\n",
    "<div align=center><img src=\"Chain.png\" width=800></div>\n",
    "\n",
    "$$\\begin{align*}\n",
    "P(x_n\\mid x_i,x_f)&=\\frac{P(x_n,x_i,x_f)}{P(x_i,x_f)}\\\\\n",
    "&=\\frac{P(x_n)~P(x_i\\mid x_n)~P(x_f\\mid x_n,\\bcancel{x_i})}{P(x_i,x_f)}\n",
    "&&(\\text{Indep. cond.:}\\;x_f\\perp x_i\\mid x_n)\\\\\n",
    "&=\\frac{\\cancel{P(x_n)}~P(x_i)~P(x_n\\mid x_i)~P(x_f\\mid x_n)}{\\cancel{P(x_n)}~P(x_i,x_f)}\n",
    "&&(\\text{Regla de Bayes})\\\\\n",
    "&=\\alpha~\\underbrace{P(x_n\\mid x_i)}_{\\pi(x_n)}~\\underbrace{P(x_f\\mid x_n)}_{\\lambda(x_n)}\n",
    "&&(\\alpha\\,=\\,P(x_i)/P(x_i,x_f))\n",
    "\\end{align*}$$\n",
    "\n",
    "<div align=center><img src=\"Chain_3.png\" width=800></div>\n",
    "\n",
    "**Cálculo eficiente de $\\pi(x_n)$:**\n",
    "<div align=center><img src=\"Chain_1.png\" width=800></div>\n",
    "\n",
    "$$\\pi(x_i)=1;\\quad\\pi(x_n)=P(x_n\\mid x_i)=\\sum_{x_{n-1}} P(x_n,x_{n-1}\\mid x_i)=\\sum_{x_{n-1}} P(x_{n-1}\\mid x_i)~ P(x_n\\mid \\cancel{x_i},x_{n-1})=\\sum_{x_{n-1}} \\pi(x_{n-1})~ P(x_n\\mid x_{n-1})$$\n",
    "\n",
    "**Cálculo eficiente de $\\lambda(x_n)$:**\n",
    "<div align=center><img src=\"Chain_2.png\" width=800></div>\n",
    "\n",
    "$$\\lambda(x_f)=1;\\quad\\lambda(x_n)=P(x_f\\mid x_n)=\\sum_{x_{n+1}} P(x_f,x_{n+1}\\mid x_n)=\\sum_{x_{n+1}}  P(x_{n+1}\\mid x_n)~ P(x_f\\mid \\cancel{x_n},x_{n+1})=\\sum_{x_{n+1}}P(x_{n+1}\\mid x_n)~\\lambda(x_{n+1})$$"
   ]
  },
  {
   "cell_type": "markdown",
   "metadata": {},
   "source": [
    "## 4 Inferencia en un árbol\n",
    "\n",
    "<div><table border-collapse: collapse align=left><tr>\n",
    "<td style=\"border: none; text-align:left; vertical-align:top; padding:0; margin:0;\" width=450>\n",
    "\n",
    "**Probabilidad a posteriori:** $\\;$ de $\\,x_j\\,$ dados $\\,E_{x_j}^+\\,$ y $\\,E_{x_j}^-$\n",
    "\n",
    "$$P(x_j\\mid E_{x_j}^+,E_{x_j}^-)=\\alpha\\,\\pi(x_j)\\,\\lambda(x_j)$$\n",
    "\n",
    "**Cálculo de $\\lambda(x_j)$:** $\\displaystyle\\quad\\lambda(x_j)=\\prod_{k=1}^m\\lambda_{y_k}(x_j)$\n",
    "\n",
    "$\\quad\\displaystyle\\text{con}\\quad\\lambda_{y_k}(x_j)=\\sum_{y_k} \\lambda(y_k)~P(y_k \\mid x_j)$\n",
    "\n",
    "**Cálculo de $\\pi(x_j)$:** $\\displaystyle\\quad\\pi(x_j) = \\sum_{u_i} P(x_j\\mid u_i)~\\pi_{x_j}(u_i)$\n",
    "\n",
    "$\\quad\\displaystyle\\text{con}\\quad\\pi_{x_j}(u_i)=\\alpha~\\prod_{j'\\neq j} \\lambda_{x_{j'}}(u_i)~\\pi(u_i)$\n",
    "\n",
    "</td><td style=\"border: none; text-align:left; vertical-align:top; padding:0; margin:0;\" width=600>\n",
    "\n",
    "<img src=\"Tree2.png\" width=500>\n",
    "\n",
    "</td></tr></table></div>"
   ]
  },
  {
   "cell_type": "markdown",
   "metadata": {},
   "source": [
    "## 5 Inferencia en otros tipos de grafos\n",
    "\n",
    "**Poli-arboles (Polytrees):** $\\;$ los nodos pueden tener múltiples padres, pero solo puede existir un camino único entre cualquier par de nodos; se aplica una generalización del algoritmo sobre un árbol\n",
    "\n",
    "**Grafos generales:** $\\;$ se aplican técnicas de inferencia aproximada"
   ]
  }
 ],
 "metadata": {
  "language_info": {
   "name": "python"
  }
 },
 "nbformat": 4,
 "nbformat_minor": 2
}
