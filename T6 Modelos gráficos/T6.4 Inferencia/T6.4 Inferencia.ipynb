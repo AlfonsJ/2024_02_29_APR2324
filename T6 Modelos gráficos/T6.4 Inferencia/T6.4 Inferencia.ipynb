{
 "cells": [
  {
   "cell_type": "markdown",
   "metadata": {},
   "source": [
    "# T6.4 Inferencia"
   ]
  },
  {
   "cell_type": "markdown",
   "metadata": {},
   "source": [
    "# Índice\n",
    "\n",
    "1. Inferencia con redes bayesianas\n",
    "2. Tipos de redes bayesianas\n",
    "3. Inferencia en una cadena"
   ]
  },
  {
   "cell_type": "markdown",
   "metadata": {},
   "source": [
    "## 1 Inferencia con redes bayesianas\n",
    "\n",
    "**Problema:** $\\;$ calcular la probabilidad a posteriori de alguna variable $x$ a partir de las distribuciones conjuntas asociadas a una red, dada alguna evidencia $e$ (como valores dados de otras variables) y sin importar los valores del resto de las variables $f$; esto es,\n",
    "$$P(x \\mid e) =\\frac{P(x,e)}{P(e)}$$\n",
    "donde $P(x,e)$ y $P(e)$ se calculan eficientemente a partir de la conjunta\n",
    "$$P(x,e)= \\sum_{f} P(x,e,f)\\qquad\\text{y}\\qquad P(e)= \\sum_{x,f} P(x,e,f)$$\n",
    "\n",
    "**Ejemplo:** $\\;$ calcular $P(x_3)$ a partir de una distribución conjunta dada por\n",
    "$$P(x_1,x_2,x_3,x_4)=P(x_2)P(x_1 \\mid x_2)P(x_3 \\mid x_2)P(x_4 \\mid x_3)$$\n",
    "Supongamos que cada $x_i,~i=1,2,3,4\\,$ puede tomar $n$ valores:\n",
    "* $P(x_3)=\\sum_{x_1,x_2,x_4} P(x_2)P(x_1 \\mid x_2)P(x_3 \\mid x_2)P(x_4 \\mid x_3)\\;\\Rightarrow\\;O(n^3)$ operaciones\n",
    "* $P(x_3)=\\sum_{x_2} P(x_2)P(x_3 \\mid x_2) \\sum_{x_1} P(x_1\\mid x_2) \\sum_{x_4} P(x_4 \\mid x_3)=\\sum_{x_2} P(x_2)P(x_3\\mid x_2)\\;\\Rightarrow\\;O(n)$ operaciones\n",
    "\n",
    "**Usos del cálculo de probabilidades a posteriori:**\n",
    "* **Predicción:** $\\;$ ¿Cuál es la probabilidad de observar un síntoma sabiendo que se tiene una determinada enfermedad?\n",
    "* **Diagnóstico:** $\\;$ ¿Cuál es la probabilidad de que una determinada enfermedad sea un diagnóstico correcto dados algunos síntomas?\n",
    "\n",
    "**Nota:** $\\;$ la dirección de los enlaces entre variables no restringe el tipo de preguntas que se pueden hacer"
   ]
  },
  {
   "cell_type": "markdown",
   "metadata": {},
   "source": [
    "## 2 Tipos de redes bayesianas\n",
    "\n",
    "**Tipos usuales:** $\\;$ los tipos **cadena** y **(poli-)árbol** admiten factorizaciones eficientes \n",
    "<div align=center><img src=\"BNtypes.png\"></div>"
   ]
  },
  {
   "cell_type": "markdown",
   "metadata": {},
   "source": [
    "## 3 Inferencia en una cadena\n",
    "\n",
    "**Probabilidad a posteriori:** $\\;$ de $\\,x_n\\,$ dados $\\,x_i \\in E_{x_n}^+\\,$ y $\\,x_f\\in E_{x_n}^-$\n",
    "<div align=center><img src=\"Chain.png\" width=800></div>\n",
    "\n",
    "$$\\begin{align*}\n",
    "P(x_n\\mid x_i,x_f)&=\\frac{P(x_n,x_i,x_f)}{P(x_i,x_f)}\\\\\n",
    "&=\\frac{P(x_n)~P(x_i\\mid x_n)~P(x_f\\mid x_n,\\bcancel{x_i})}{P(x_i,x_f)}\n",
    "&&(\\text{Indep. cond.:}\\;x_f\\perp x_i\\mid x_n)\\\\\n",
    "&=\\frac{\\cancel{P(x_n)}~P(x_i)~P(x_n\\mid x_i)~P(x_f\\mid x_n)}{\\cancel{P(x_n)}~P(x_i,x_f)}\n",
    "&&(\\text{Regla de Bayes})\\\\\n",
    "&=\\alpha~P(x_n\\mid x_i)~P(x_f\\mid x_n)\n",
    "&&(\\alpha\\,=\\,P(x_i)/P(x_i,x_f))\n",
    "\\end{align*}$$"
   ]
  }
 ],
 "metadata": {
  "language_info": {
   "name": "python"
  }
 },
 "nbformat": 4,
 "nbformat_minor": 2
}
